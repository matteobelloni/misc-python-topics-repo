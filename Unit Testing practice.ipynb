{
 "cells": [
  {
   "cell_type": "markdown",
   "metadata": {},
   "source": [
    "## Unit Test"
   ]
  },
  {
   "cell_type": "code",
   "execution_count": 1,
   "metadata": {},
   "outputs": [],
   "source": [
    "import unittest"
   ]
  },
  {
   "cell_type": "code",
   "execution_count": 12,
   "metadata": {},
   "outputs": [],
   "source": [
    "def add_(x,y):\n",
    "    return x+y\n",
    "\n",
    "def subtract_(x,y):\n",
    "    return x-y\n",
    "\n",
    "def add_wrong_(x,y):\n",
    "    return x+y*0.9"
   ]
  },
  {
   "cell_type": "code",
   "execution_count": 13,
   "metadata": {},
   "outputs": [],
   "source": [
    "class TestCalc(unittest.TestCase):\n",
    "    \n",
    "    def test_add_(self):\n",
    "        self.assertEqual(add_(10,5), 15)\n",
    "        self.assertEqual(add_(-1,1), 0)\n",
    "        self.assertEqual(add_(-1,-1), -2)\n",
    "    \n",
    "    def test_subtract_(self):\n",
    "        self.assertEqual(subtract_(10,5), 5)\n",
    "        self.assertEqual(subtract_(-1,1), -2)\n",
    "        self.assertEqual(subtract_(-1,-1), 0)\n",
    "        \n",
    "    def test_add_wrong(self):\n",
    "        self.assertEqual(add_wrong(10,5), 15)\n",
    "        self.assertEqual(add_wrong(-1,1), 0)\n",
    "        self.assertEqual(add_wrong(-1,-1), -2)"
   ]
  },
  {
   "cell_type": "code",
   "execution_count": 15,
   "metadata": {},
   "outputs": [
    {
     "name": "stderr",
     "output_type": "stream",
     "text": [
      "======================================================================\n",
      "ERROR: test_add_wrong (__main__.TestCalc)\n",
      "----------------------------------------------------------------------\n",
      "Traceback (most recent call last):\n",
      "  File \"<ipython-input-13-5bc72096ab60>\", line 14, in test_add_wrong\n",
      "    self.assertEqual(add_wrong(10,5), 15)\n",
      "NameError: name 'add_wrong' is not defined\n",
      "\n",
      "----------------------------------------------------------------------\n",
      "Ran 3 tests in 0.002s\n",
      "\n",
      "FAILED (errors=1)\n"
     ]
    },
    {
     "data": {
      "text/plain": [
       "<unittest.main.TestProgram at 0x28aaa0ec780>"
      ]
     },
     "execution_count": 15,
     "metadata": {},
     "output_type": "execute_result"
    }
   ],
   "source": [
    "unittest.main(argv=[''], verbosity=0, exit=False) #error only in the third function and that is because the add_wrong \n",
    "#function is indeed wrongly implemented - as we would expect by the way we purposely constructed it"
   ]
  },
  {
   "cell_type": "code",
   "execution_count": null,
   "metadata": {},
   "outputs": [],
   "source": []
  }
 ],
 "metadata": {
  "kernelspec": {
   "display_name": "Python 3",
   "language": "python",
   "name": "python3"
  },
  "language_info": {
   "codemirror_mode": {
    "name": "ipython",
    "version": 3
   },
   "file_extension": ".py",
   "mimetype": "text/x-python",
   "name": "python",
   "nbconvert_exporter": "python",
   "pygments_lexer": "ipython3",
   "version": "3.7.0"
  },
  "toc": {
   "base_numbering": 1,
   "nav_menu": {},
   "number_sections": true,
   "sideBar": true,
   "skip_h1_title": false,
   "title_cell": "Table of Contents",
   "title_sidebar": "Contents",
   "toc_cell": false,
   "toc_position": {},
   "toc_section_display": true,
   "toc_window_display": false
  }
 },
 "nbformat": 4,
 "nbformat_minor": 2
}
