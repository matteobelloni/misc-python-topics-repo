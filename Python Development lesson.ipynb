{
 "cells": [
  {
   "cell_type": "markdown",
   "metadata": {},
   "source": [
    "## Python Developer lesson"
   ]
  },
  {
   "cell_type": "markdown",
   "metadata": {},
   "source": [
    "### Content\n",
    "\n",
    "- Data structures\n",
    "- Conditional statements\n",
    "- Functions\n",
    "- Global and Local variables\n",
    "- Write to files\n",
    "- Read from files\n",
    "- Exceptions\n",
    "- Lambda functions\n",
    "- OOP\n",
    "- Databases (sqlite3)\n",
    "- Parallel processing\n",
    "- http Calls\n",
    "- JSON and xml data\n",
    "- Map function\n",
    "- Filter function\n",
    "- Reduce function\n",
    "- Application layout"
   ]
  },
  {
   "cell_type": "markdown",
   "metadata": {},
   "source": [
    "### To start"
   ]
  },
  {
   "cell_type": "code",
   "execution_count": 2,
   "metadata": {},
   "outputs": [
    {
     "name": "stdout",
     "output_type": "stream",
     "text": [
      "Hello world!\n"
     ]
    }
   ],
   "source": [
    "print(\"Hello world!\")"
   ]
  },
  {
   "cell_type": "markdown",
   "metadata": {},
   "source": [
    "Variables: save data in memory. You give it a name to be able to access it"
   ]
  },
  {
   "cell_type": "code",
   "execution_count": 3,
   "metadata": {},
   "outputs": [
    {
     "name": "stdout",
     "output_type": "stream",
     "text": [
      "55\n"
     ]
    }
   ],
   "source": [
    "x = 55 #defines variable named x with value 55\n",
    "print(x)"
   ]
  },
  {
   "cell_type": "markdown",
   "metadata": {},
   "source": [
    "### Data structures"
   ]
  },
  {
   "cell_type": "markdown",
   "metadata": {},
   "source": [
    "Strings"
   ]
  },
  {
   "cell_type": "code",
   "execution_count": 4,
   "metadata": {},
   "outputs": [
    {
     "name": "stdout",
     "output_type": "stream",
     "text": [
      "6\n",
      "MATTEO\n"
     ]
    }
   ],
   "source": [
    "name = \"matteo\"\n",
    "print(len(name))\n",
    "print(str.upper(name))"
   ]
  },
  {
   "cell_type": "code",
   "execution_count": 5,
   "metadata": {},
   "outputs": [
    {
     "name": "stdout",
     "output_type": "stream",
     "text": [
      "I am 26 years old\n"
     ]
    }
   ],
   "source": [
    "print(\"I am {} years old\".format(26))"
   ]
  },
  {
   "cell_type": "markdown",
   "metadata": {},
   "source": [
    "Tuples: immutable, they cannot change"
   ]
  },
  {
   "cell_type": "code",
   "execution_count": 6,
   "metadata": {},
   "outputs": [
    {
     "name": "stdout",
     "output_type": "stream",
     "text": [
      "(22, 30, 19, 26, 24, 42)\n",
      "(30, 19)\n"
     ]
    },
    {
     "ename": "TypeError",
     "evalue": "'tuple' object does not support item assignment",
     "output_type": "error",
     "traceback": [
      "\u001b[1;31m---------------------------------------------------------------------------\u001b[0m",
      "\u001b[1;31mTypeError\u001b[0m                                 Traceback (most recent call last)",
      "\u001b[1;32m<ipython-input-6-9a046f179e70>\u001b[0m in \u001b[0;36m<module>\u001b[1;34m()\u001b[0m\n\u001b[0;32m      2\u001b[0m \u001b[0mprint\u001b[0m\u001b[1;33m(\u001b[0m\u001b[0mages\u001b[0m\u001b[1;33m)\u001b[0m\u001b[1;33m\u001b[0m\u001b[0m\n\u001b[0;32m      3\u001b[0m \u001b[0mprint\u001b[0m\u001b[1;33m(\u001b[0m\u001b[0mages\u001b[0m\u001b[1;33m[\u001b[0m\u001b[1;36m1\u001b[0m\u001b[1;33m:\u001b[0m\u001b[1;36m3\u001b[0m\u001b[1;33m]\u001b[0m\u001b[1;33m)\u001b[0m \u001b[1;31m#will print 30 and 19\u001b[0m\u001b[1;33m\u001b[0m\u001b[0m\n\u001b[1;32m----> 4\u001b[1;33m \u001b[0mages\u001b[0m\u001b[1;33m[\u001b[0m\u001b[1;36m0\u001b[0m\u001b[1;33m]\u001b[0m \u001b[1;33m=\u001b[0m \u001b[1;36m20\u001b[0m \u001b[1;31m#this will return error!!\u001b[0m\u001b[1;33m\u001b[0m\u001b[0m\n\u001b[0m\u001b[0;32m      5\u001b[0m \u001b[0mprint\u001b[0m\u001b[1;33m(\u001b[0m\u001b[0mages\u001b[0m\u001b[1;33m)\u001b[0m\u001b[1;33m\u001b[0m\u001b[0m\n",
      "\u001b[1;31mTypeError\u001b[0m: 'tuple' object does not support item assignment"
     ]
    }
   ],
   "source": [
    "ages = (22, 30, 19, 26, 24, 42)\n",
    "print(ages)\n",
    "print(ages[1:3]) #will print 30 and 19\n",
    "ages[0] = 20 #this will return error!!\n",
    "print(ages)"
   ]
  },
  {
   "cell_type": "markdown",
   "metadata": {},
   "source": [
    "Lists: mutable, namely we can change its element, add new elements, remove elements"
   ]
  },
  {
   "cell_type": "code",
   "execution_count": 7,
   "metadata": {},
   "outputs": [
    {
     "name": "stdout",
     "output_type": "stream",
     "text": [
      "[22, 30, 19, 26, 24, 42]\n",
      "[22, 30, 19, 26, 24, 42, 18]\n",
      "[22, 30, 26, 24, 42, 18]\n",
      "[22, 30, 100, 26, 24, 42, 18]\n"
     ]
    }
   ],
   "source": [
    "ages = [22, 30, 19, 26, 24, 42]\n",
    "print(ages)\n",
    "ages.append(18)\n",
    "print(ages)\n",
    "ages.remove(19)\n",
    "print(ages)\n",
    "ages.insert(2,100) #position 3 (after 30) will insert 100\n",
    "print(ages)"
   ]
  },
  {
   "cell_type": "code",
   "execution_count": 8,
   "metadata": {},
   "outputs": [
    {
     "name": "stdout",
     "output_type": "stream",
     "text": [
      "['welcome', 'to', 'this', 'course']\n",
      "['welcome', 'to', 'this', 0]\n"
     ]
    }
   ],
   "source": [
    "s = \"welcome to this course\"\n",
    "words = s.split(\" \")\n",
    "print(words)\n",
    "words[-1] = 0\n",
    "print(words)"
   ]
  },
  {
   "cell_type": "markdown",
   "metadata": {},
   "source": [
    "Dictionaries: with keys and corresponding values"
   ]
  },
  {
   "cell_type": "code",
   "execution_count": 9,
   "metadata": {},
   "outputs": [
    {
     "name": "stdout",
     "output_type": "stream",
     "text": [
      "{'Name': 'Matteo', 'Age': 27, 'Sex': 'Male'}\n",
      "Matteo\n",
      "{'Name': 'Matteo', 'Age': 27, 'Sex': 'Male'}\n",
      "Marco\n",
      "{'Name': 'Matteo', 'Sex': 'Male'}\n"
     ]
    }
   ],
   "source": [
    "person = dict(Name = 'Matteo', Age=27, Sex = 'Male')\n",
    "print(person)\n",
    "print(person['Name'])\n",
    "person2 = {'Name':'Matteo', 'Age':27, 'Sex':'Male'} #two different ways to define a dictionary\n",
    "print(person2)\n",
    "person2['Name'] = 'Marco'\n",
    "print(person2['Name'])\n",
    "del person['Age']\n",
    "print(person)"
   ]
  },
  {
   "cell_type": "markdown",
   "metadata": {},
   "source": [
    "### Conditional statements"
   ]
  },
  {
   "cell_type": "markdown",
   "metadata": {},
   "source": [
    "If else statement"
   ]
  },
  {
   "cell_type": "code",
   "execution_count": 10,
   "metadata": {},
   "outputs": [
    {
     "name": "stdout",
     "output_type": "stream",
     "text": [
      "between 5 and 10\n"
     ]
    }
   ],
   "source": [
    "age = 8\n",
    "if age>10:\n",
    "    print(\"above 10\")\n",
    "elif 5<=age<=10:\n",
    "    print(\"between 5 and 10\")\n",
    "else:\n",
    "    print(\"below 5\")"
   ]
  },
  {
   "cell_type": "markdown",
   "metadata": {},
   "source": [
    "While statement"
   ]
  },
  {
   "cell_type": "code",
   "execution_count": 11,
   "metadata": {},
   "outputs": [
    {
     "name": "stdout",
     "output_type": "stream",
     "text": [
      "step 1\n",
      "step 2\n",
      "step 3\n"
     ]
    }
   ],
   "source": [
    "k = 1 #first define your initial condition\n",
    "while (k<4): #your stop condition\n",
    "    print(\"step {}\".format(k)) \n",
    "    k+=1 #define the increment"
   ]
  },
  {
   "cell_type": "code",
   "execution_count": 12,
   "metadata": {},
   "outputs": [
    {
     "name": "stdout",
     "output_type": "stream",
     "text": [
      "2 is even\n",
      "4 is even\n"
     ]
    }
   ],
   "source": [
    "k=1\n",
    "while (k<5): #your stop condition\n",
    "    if k%2 == 0:\n",
    "        print(\"{} is even\".format(k)) \n",
    "    k+=1 #define the increment"
   ]
  },
  {
   "cell_type": "markdown",
   "metadata": {},
   "source": [
    "For loop"
   ]
  },
  {
   "cell_type": "code",
   "execution_count": 13,
   "metadata": {},
   "outputs": [
    {
     "name": "stdout",
     "output_type": "stream",
     "text": [
      "0\n",
      "1\n",
      "2\n"
     ]
    }
   ],
   "source": [
    "for i in range(3):\n",
    "    print(i)"
   ]
  },
  {
   "cell_type": "code",
   "execution_count": 14,
   "metadata": {},
   "outputs": [
    {
     "name": "stdout",
     "output_type": "stream",
     "text": [
      "alice\n",
      "marta\n",
      "julia\n"
     ]
    }
   ],
   "source": [
    "items = ['alice','marta','julia']\n",
    "for item in items:\n",
    "    print(item)"
   ]
  },
  {
   "cell_type": "code",
   "execution_count": 15,
   "metadata": {},
   "outputs": [
    {
     "name": "stdout",
     "output_type": "stream",
     "text": [
      "alice\n",
      "marta\n"
     ]
    }
   ],
   "source": [
    "for item in items:\n",
    "    print(item)\n",
    "    if 't' in item:\n",
    "        break;"
   ]
  },
  {
   "cell_type": "markdown",
   "metadata": {},
   "source": [
    "### Functions"
   ]
  },
  {
   "cell_type": "markdown",
   "metadata": {},
   "source": [
    "Main function is fundamental, the code you want to run should be in the main() function"
   ]
  },
  {
   "cell_type": "code",
   "execution_count": 16,
   "metadata": {},
   "outputs": [
    {
     "name": "stdout",
     "output_type": "stream",
     "text": [
      "Hello!\n"
     ]
    }
   ],
   "source": [
    "#structure should be:\n",
    "import numpy as np\n",
    "\n",
    "def main():\n",
    "    print(\"Hello!\")\n",
    "\n",
    "if __name__ == '__main__':\n",
    "    main()"
   ]
  },
  {
   "cell_type": "code",
   "execution_count": 25,
   "metadata": {},
   "outputs": [
    {
     "name": "stdout",
     "output_type": "stream",
     "text": [
      "welcome is a string\n",
      "10 is not a string\n"
     ]
    }
   ],
   "source": [
    "def return_string(x):\n",
    "    if type(x) == str:\n",
    "        print(\"{} is a string\".format(x))\n",
    "    else: print(\"{} is not a string\".format(x))\n",
    "\n",
    "def main():\n",
    "    return_string('welcome')\n",
    "    return_string(10)\n",
    "\n",
    "if __name__ == '__main__':\n",
    "    main()"
   ]
  },
  {
   "cell_type": "markdown",
   "metadata": {},
   "source": [
    "### Global and Local variables"
   ]
  },
  {
   "cell_type": "markdown",
   "metadata": {},
   "source": [
    "Local variable: cannot be accessed from another function other than when explicitely defined"
   ]
  },
  {
   "cell_type": "code",
   "execution_count": 29,
   "metadata": {},
   "outputs": [
    {
     "name": "stdout",
     "output_type": "stream",
     "text": [
      "y=55\n"
     ]
    },
    {
     "ename": "NameError",
     "evalue": "name 'y' is not defined",
     "output_type": "error",
     "traceback": [
      "\u001b[1;31m---------------------------------------------------------------------------\u001b[0m",
      "\u001b[1;31mNameError\u001b[0m                                 Traceback (most recent call last)",
      "\u001b[1;32m<ipython-input-29-214e5f7e424d>\u001b[0m in \u001b[0;36m<module>\u001b[1;34m()\u001b[0m\n\u001b[0;32m      9\u001b[0m \u001b[1;33m\u001b[0m\u001b[0m\n\u001b[0;32m     10\u001b[0m \u001b[1;32mif\u001b[0m \u001b[0m__name__\u001b[0m \u001b[1;33m==\u001b[0m \u001b[1;34m'__main__'\u001b[0m\u001b[1;33m:\u001b[0m\u001b[1;33m\u001b[0m\u001b[0m\n\u001b[1;32m---> 11\u001b[1;33m     \u001b[0mmain\u001b[0m\u001b[1;33m(\u001b[0m\u001b[1;33m)\u001b[0m\u001b[1;33m\u001b[0m\u001b[0m\n\u001b[0m",
      "\u001b[1;32m<ipython-input-29-214e5f7e424d>\u001b[0m in \u001b[0;36mmain\u001b[1;34m()\u001b[0m\n\u001b[0;32m      5\u001b[0m     \u001b[0my\u001b[0m\u001b[1;33m=\u001b[0m\u001b[1;36m10\u001b[0m \u001b[1;31m#this is LOCAL variable\u001b[0m\u001b[1;33m\u001b[0m\u001b[0m\n\u001b[0;32m      6\u001b[0m     \u001b[0mprint\u001b[0m\u001b[1;33m(\u001b[0m\u001b[1;34m\"y={}\"\u001b[0m\u001b[1;33m.\u001b[0m\u001b[0mformat\u001b[0m\u001b[1;33m(\u001b[0m\u001b[0mx\u001b[0m\u001b[1;33m)\u001b[0m\u001b[1;33m)\u001b[0m\u001b[1;33m\u001b[0m\u001b[0m\n\u001b[1;32m----> 7\u001b[1;33m     \u001b[0mshow\u001b[0m\u001b[1;33m(\u001b[0m\u001b[1;33m)\u001b[0m \u001b[1;31m#will give error because y has not been defined in show() and it is only a local variable\u001b[0m\u001b[1;33m\u001b[0m\u001b[0m\n\u001b[0m\u001b[0;32m      8\u001b[0m \u001b[1;33m\u001b[0m\u001b[0m\n\u001b[0;32m      9\u001b[0m \u001b[1;33m\u001b[0m\u001b[0m\n",
      "\u001b[1;32m<ipython-input-29-214e5f7e424d>\u001b[0m in \u001b[0;36mshow\u001b[1;34m()\u001b[0m\n\u001b[0;32m      1\u001b[0m \u001b[1;32mdef\u001b[0m \u001b[0mshow\u001b[0m\u001b[1;33m(\u001b[0m\u001b[1;33m)\u001b[0m\u001b[1;33m:\u001b[0m\u001b[1;33m\u001b[0m\u001b[0m\n\u001b[1;32m----> 2\u001b[1;33m     \u001b[0mprint\u001b[0m\u001b[1;33m(\u001b[0m\u001b[0my\u001b[0m\u001b[1;33m)\u001b[0m\u001b[1;33m\u001b[0m\u001b[0m\n\u001b[0m\u001b[0;32m      3\u001b[0m \u001b[1;33m\u001b[0m\u001b[0m\n\u001b[0;32m      4\u001b[0m \u001b[1;32mdef\u001b[0m \u001b[0mmain\u001b[0m\u001b[1;33m(\u001b[0m\u001b[1;33m)\u001b[0m\u001b[1;33m:\u001b[0m\u001b[1;33m\u001b[0m\u001b[0m\n\u001b[0;32m      5\u001b[0m     \u001b[0my\u001b[0m\u001b[1;33m=\u001b[0m\u001b[1;36m10\u001b[0m \u001b[1;31m#this is LOCAL variable\u001b[0m\u001b[1;33m\u001b[0m\u001b[0m\n",
      "\u001b[1;31mNameError\u001b[0m: name 'y' is not defined"
     ]
    }
   ],
   "source": [
    "def show():\n",
    "    print(y) #this function cannot access y!!!\n",
    "\n",
    "def main():\n",
    "    y=10 #this is LOCAL variable\n",
    "    print(\"y={}\".format(y))\n",
    "    show() #will give error because y has not been defined in show() and it is only a local variable\n",
    "    \n",
    "\n",
    "if __name__ == '__main__':\n",
    "    main()"
   ]
  },
  {
   "cell_type": "code",
   "execution_count": 31,
   "metadata": {},
   "outputs": [
    {
     "name": "stdout",
     "output_type": "stream",
     "text": [
      "y=10\n",
      "10\n"
     ]
    }
   ],
   "source": [
    "y=10 #this is GLOBAL yes, but not always works -> better to also add global x where it needs to be used\n",
    "\n",
    "def show():\n",
    "    global y #use global y code everytime you wanto to use the global y defined above to make sure it work and be safe\n",
    "    print(y) \n",
    "\n",
    "def main():\n",
    "    global y\n",
    "    print(\"y={}\".format(y))\n",
    "    show()\n",
    "\n",
    "if __name__ == '__main__':\n",
    "    main()"
   ]
  },
  {
   "cell_type": "markdown",
   "metadata": {},
   "source": [
    "### Write to files"
   ]
  },
  {
   "cell_type": "markdown",
   "metadata": {},
   "source": [
    "Writing a file (and appending text)"
   ]
  },
  {
   "cell_type": "code",
   "execution_count": 33,
   "metadata": {},
   "outputs": [],
   "source": [
    "def main():\n",
    "    out = open(\"test_file1.txt\", \"w\") #open the file for writing -> w will overwrite the content of the file\n",
    "    out.write(\"My name is Matteo Belloni\") #write the file you just opened\n",
    "    out.close #remember to close it when done\n",
    "    \n",
    "if __name__ == '__main__': main()"
   ]
  },
  {
   "cell_type": "code",
   "execution_count": 34,
   "metadata": {},
   "outputs": [],
   "source": [
    "def main():\n",
    "    out = open(\"test_file1.txt\", \"a\") #open the file for writing -> a will append to the content of the file if already exists\n",
    "    out.write(\"\\n and I am 26 years old\") # \\n to go next line\n",
    "    out.close\n",
    "    \n",
    "if __name__ == '__main__': main()"
   ]
  },
  {
   "cell_type": "code",
   "execution_count": 35,
   "metadata": {},
   "outputs": [
    {
     "name": "stdout",
     "output_type": "stream",
     "text": [
      "enter a string to write to file:my name is Matteo\n",
      "enter a string to write to file:I am 26 years old\n",
      "enter a string to write to file:I was born in Italy\n",
      "enter a string to write to file:I now live in London\n",
      "enter a string to write to file:This is an example of input output\n"
     ]
    }
   ],
   "source": [
    "def main():\n",
    "    out = open(\"test_file2.txt\", \"a\") #open the file for writing -> a will append to the content of the file if already exists\n",
    "    \n",
    "    for i in range(5):\n",
    "        inputToFile = input(\"enter a string to write to file:\")\n",
    "        out.write(\"\\n{}\".format(inputToFile))\n",
    "        \n",
    "    out.close\n",
    "    \n",
    "if __name__ == '__main__': main()"
   ]
  },
  {
   "cell_type": "markdown",
   "metadata": {},
   "source": [
    "### Read from files"
   ]
  },
  {
   "cell_type": "code",
   "execution_count": 36,
   "metadata": {},
   "outputs": [
    {
     "name": "stdout",
     "output_type": "stream",
     "text": [
      "\n",
      "\n",
      " my name is Matteo\n",
      "\n",
      " I am 26 years old\n",
      "\n",
      " I was born in Italy\n",
      "\n",
      " I now live in London\n",
      "\n",
      " This is an example of input output\n"
     ]
    }
   ],
   "source": [
    "def main():\n",
    "    readFile = open(\"test_file2.txt\", 'r') #the file needs to exist to be able to read it otherwise will give error -> crash!\n",
    "    for line in readFile:\n",
    "        print(line)\n",
    "    readFile.close()\n",
    "\n",
    "if __name__=='__main__': main()"
   ]
  },
  {
   "cell_type": "code",
   "execution_count": 37,
   "metadata": {},
   "outputs": [
    {
     "ename": "FileNotFoundError",
     "evalue": "[Errno 2] No such file or directory: 'test_file3.txt'",
     "output_type": "error",
     "traceback": [
      "\u001b[1;31m---------------------------------------------------------------------------\u001b[0m",
      "\u001b[1;31mFileNotFoundError\u001b[0m                         Traceback (most recent call last)",
      "\u001b[1;32m<ipython-input-37-04635a6f535a>\u001b[0m in \u001b[0;36m<module>\u001b[1;34m()\u001b[0m\n\u001b[0;32m      5\u001b[0m     \u001b[0mreadFile\u001b[0m\u001b[1;33m.\u001b[0m\u001b[0mclose\u001b[0m\u001b[1;33m(\u001b[0m\u001b[1;33m)\u001b[0m\u001b[1;33m\u001b[0m\u001b[0m\n\u001b[0;32m      6\u001b[0m \u001b[1;33m\u001b[0m\u001b[0m\n\u001b[1;32m----> 7\u001b[1;33m \u001b[1;32mif\u001b[0m \u001b[0m__name__\u001b[0m\u001b[1;33m==\u001b[0m\u001b[1;34m'__main__'\u001b[0m\u001b[1;33m:\u001b[0m \u001b[0mmain\u001b[0m\u001b[1;33m(\u001b[0m\u001b[1;33m)\u001b[0m\u001b[1;33m\u001b[0m\u001b[0m\n\u001b[0m",
      "\u001b[1;32m<ipython-input-37-04635a6f535a>\u001b[0m in \u001b[0;36mmain\u001b[1;34m()\u001b[0m\n\u001b[0;32m      1\u001b[0m \u001b[1;32mdef\u001b[0m \u001b[0mmain\u001b[0m\u001b[1;33m(\u001b[0m\u001b[1;33m)\u001b[0m\u001b[1;33m:\u001b[0m\u001b[1;33m\u001b[0m\u001b[0m\n\u001b[1;32m----> 2\u001b[1;33m     \u001b[0mreadFile\u001b[0m \u001b[1;33m=\u001b[0m \u001b[0mopen\u001b[0m\u001b[1;33m(\u001b[0m\u001b[1;34m\"test_file3.txt\"\u001b[0m\u001b[1;33m,\u001b[0m \u001b[1;34m'r'\u001b[0m\u001b[1;33m)\u001b[0m \u001b[1;31m#the file needs to exist to be able to read it otherwise will give error -> crash!\u001b[0m\u001b[1;33m\u001b[0m\u001b[0m\n\u001b[0m\u001b[0;32m      3\u001b[0m     \u001b[1;32mfor\u001b[0m \u001b[0mline\u001b[0m \u001b[1;32min\u001b[0m \u001b[0mreadFile\u001b[0m\u001b[1;33m:\u001b[0m\u001b[1;33m\u001b[0m\u001b[0m\n\u001b[0;32m      4\u001b[0m         \u001b[0mprint\u001b[0m\u001b[1;33m(\u001b[0m\u001b[0mline\u001b[0m\u001b[1;33m)\u001b[0m\u001b[1;33m\u001b[0m\u001b[0m\n\u001b[0;32m      5\u001b[0m     \u001b[0mreadFile\u001b[0m\u001b[1;33m.\u001b[0m\u001b[0mclose\u001b[0m\u001b[1;33m(\u001b[0m\u001b[1;33m)\u001b[0m\u001b[1;33m\u001b[0m\u001b[0m\n",
      "\u001b[1;31mFileNotFoundError\u001b[0m: [Errno 2] No such file or directory: 'test_file3.txt'"
     ]
    }
   ],
   "source": [
    "def main():\n",
    "    readFile = open(\"test_file3.txt\", 'r') #the file does not exist -> this will give error. How to avoid?\n",
    "    for line in readFile:\n",
    "        print(line)\n",
    "    readFile.close()\n",
    "\n",
    "if __name__=='__main__': main()"
   ]
  },
  {
   "cell_type": "markdown",
   "metadata": {},
   "source": [
    "### Exceptions"
   ]
  },
  {
   "cell_type": "code",
   "execution_count": 39,
   "metadata": {},
   "outputs": [
    {
     "name": "stdout",
     "output_type": "stream",
     "text": [
      "File not found\n"
     ]
    }
   ],
   "source": [
    "def main():\n",
    "    try: #try - except will help avoid it to crush, it will just try the operation and perform it possible\n",
    "        readFile = open(\"test_file3.txt\", 'r') \n",
    "        for line in readFile:\n",
    "            print(line)\n",
    "        readFile.close()\n",
    "    except IOError: #the type of exception depend on the case/type of code you are using/type of error that it is throwing\n",
    "            print(\"File not found\")\n",
    "\n",
    "if __name__=='__main__': main()"
   ]
  },
  {
   "cell_type": "code",
   "execution_count": 42,
   "metadata": {},
   "outputs": [
    {
     "name": "stdout",
     "output_type": "stream",
     "text": [
      "enter a number:3\n",
      "your number plus 2 is equal to 5\n",
      "enter a number:matteo\n",
      "you did not enter a number\n"
     ]
    }
   ],
   "source": [
    "def main():\n",
    "    \n",
    "    for i in range(2):\n",
    "        try:\n",
    "            x = int(input(\"enter a number:\"))\n",
    "            print('your number plus 2 is equal to {}'.format(x+2))\n",
    "        except ValueError:\n",
    "            print('you did not enter a number')\n",
    "\n",
    "if __name__=='__main__': main()"
   ]
  },
  {
   "cell_type": "markdown",
   "metadata": {},
   "source": [
    "### Lambda"
   ]
  },
  {
   "cell_type": "code",
   "execution_count": 43,
   "metadata": {},
   "outputs": [
    {
     "data": {
      "text/plain": [
       "20"
      ]
     },
     "execution_count": 43,
     "metadata": {},
     "output_type": "execute_result"
    }
   ],
   "source": [
    "def op(x): return(2*x)\n",
    "op(10)"
   ]
  },
  {
   "cell_type": "code",
   "execution_count": 45,
   "metadata": {},
   "outputs": [
    {
     "data": {
      "text/plain": [
       "20"
      ]
     },
     "execution_count": 45,
     "metadata": {},
     "output_type": "execute_result"
    }
   ],
   "source": [
    "op1 = lambda x: 2*x #does the same thing above, but in some cases they are very useful!\n",
    "op1(10)"
   ]
  },
  {
   "cell_type": "markdown",
   "metadata": {},
   "source": [
    "### OOP: Object Oriented Programming"
   ]
  },
  {
   "cell_type": "code",
   "execution_count": 51,
   "metadata": {},
   "outputs": [
    {
     "name": "stdout",
     "output_type": "stream",
     "text": [
      "type of my car is BMW\n"
     ]
    }
   ],
   "source": [
    "class Car:\n",
    "    \n",
    "    def __init__(self, typecar): #this is a constructor! (you can do it also in the way below)\n",
    "        self.typecar = typecar\n",
    "        \n",
    "    def GetType(self):\n",
    "        return self.typecar\n",
    "\n",
    "def main():\n",
    "    myCar = Car('BMW')\n",
    "    print('type of my car is {}'.format(myCar.GetType()))\n",
    "if __name__ == '__main__': main()"
   ]
  },
  {
   "cell_type": "code",
   "execution_count": 53,
   "metadata": {},
   "outputs": [
    {
     "name": "stdout",
     "output_type": "stream",
     "text": [
      "type of my car is BMW\n"
     ]
    }
   ],
   "source": [
    "class Car:\n",
    "    \n",
    "    def SetType(self, typecar): #alternatively we can do it in this way\n",
    "        self.typecar = typecar\n",
    "        \n",
    "    def GetType(self):\n",
    "        return self.typecar\n",
    "\n",
    "def main():\n",
    "    myCar = Car()\n",
    "    myCar.SetType(\"BMW\")\n",
    "    print('type of my car is {}'.format(myCar.GetType()))\n",
    "if __name__ == '__main__': main()"
   ]
  },
  {
   "cell_type": "code",
   "execution_count": 54,
   "metadata": {},
   "outputs": [
    {
     "name": "stdout",
     "output_type": "stream",
     "text": [
      "20000\n"
     ]
    }
   ],
   "source": [
    "class Car:\n",
    "    def __init__(self, mark, model, price, owner):\n",
    "        self.mark = mark\n",
    "        self.model = model\n",
    "        self.price = price\n",
    "        self.owner = owner\n",
    "    \n",
    "    def GetMark(self):\n",
    "        return self.mark\n",
    "    \n",
    "    def GetModel(self):\n",
    "        return self.model\n",
    "    \n",
    "    def GetPrice(self):\n",
    "        return self.price\n",
    "    \n",
    "    def GetOwner(self):\n",
    "        return self.owner\n",
    "\n",
    "def main():\n",
    "    myCar = Car('BMW', 2018, 20000, 'Matteo')\n",
    "    print(myCar.GetPrice())\n",
    "\n",
    "if __name__ == '__main__': main()"
   ]
  },
  {
   "cell_type": "markdown",
   "metadata": {},
   "source": [
    "**kwargs: what if properties you need to pass to __init__ are too many or you don't know how many will be prior?"
   ]
  },
  {
   "cell_type": "code",
   "execution_count": 56,
   "metadata": {},
   "outputs": [
    {
     "name": "stdout",
     "output_type": "stream",
     "text": [
      "20000\n"
     ]
    }
   ],
   "source": [
    "class Car:\n",
    "    def __init__(self, **kwargs):\n",
    "        self.data = kwargs #all go into one dictionary (data - choose any name)\n",
    "    \n",
    "    def GetMark(self):\n",
    "        return self.data['mark'] #access to the corresponding\n",
    "    \n",
    "    def GetModel(self):\n",
    "        return self.data['model']\n",
    "    \n",
    "    def GetPrice(self):\n",
    "        return self.data['price']\n",
    "    \n",
    "    def GetOwner(self):\n",
    "        return self.data['owner']\n",
    "\n",
    "def main():\n",
    "    myCar = Car(mark = 'BMW', model = 2018, price = 20000, owner = 'Matteo')# different syntax here\n",
    "    print(myCar.GetPrice())\n",
    "\n",
    "if __name__ == '__main__': main()"
   ]
  },
  {
   "cell_type": "markdown",
   "metadata": {},
   "source": [
    "Inheritance"
   ]
  },
  {
   "cell_type": "code",
   "execution_count": 58,
   "metadata": {},
   "outputs": [
    {
     "name": "stdout",
     "output_type": "stream",
     "text": [
      "3\n",
      "2\n"
     ]
    }
   ],
   "source": [
    "class BasicOperations:\n",
    "    def summing(self, n1, n2):\n",
    "        return n1+n2\n",
    "    def subtracting(self, n1, n2):\n",
    "        return n1-n2\n",
    "    \n",
    "class AllOperations(BasicOperations):\n",
    "    def multiplying(self, n1, n2):\n",
    "        return n1*n2\n",
    "    def dividing(self, n1, n2):\n",
    "        return n1/n2\n",
    "    \n",
    "def main():\n",
    "    Op = AllOperations()\n",
    "    print(Op.summing(1,2))\n",
    "    print(Op.multiplying(1,2))\n",
    "\n",
    "if __name__ == '__main__': main()"
   ]
  },
  {
   "cell_type": "markdown",
   "metadata": {},
   "source": [
    "Overwrite method"
   ]
  },
  {
   "cell_type": "code",
   "execution_count": 65,
   "metadata": {},
   "outputs": [
    {
     "name": "stdout",
     "output_type": "stream",
     "text": [
      "10000\n",
      "11000.0\n"
     ]
    }
   ],
   "source": [
    "class Car:\n",
    "    def __init__(self, mark, year, price):\n",
    "        self.mark = mark\n",
    "        self.year = year\n",
    "        self.price = price\n",
    "    \n",
    "    def GetPrice(self):\n",
    "        return self.price\n",
    "\n",
    "class CarExhibit(Car):\n",
    "    def __init__(self, mark, year, price, colour):\n",
    "        super().__init__(mark, year, price)\n",
    "        self.colour = colour\n",
    "    \n",
    "    def GetPrice(self):\n",
    "        priceexhibit = super().GetPrice() * 1.10\n",
    "        return(priceexhibit)\n",
    "\n",
    "def main():\n",
    "    car1 = Car(\"BMW\",2018,10000)\n",
    "    print(car1.GetPrice())\n",
    "    car2 = CarExhibit(\"BMW\",2019,10000,'yellow')\n",
    "    print(car2.GetPrice())\n",
    "\n",
    "if __name__ == '__main__': main()"
   ]
  },
  {
   "cell_type": "markdown",
   "metadata": {},
   "source": [
    "### Databases"
   ]
  },
  {
   "cell_type": "markdown",
   "metadata": {},
   "source": [
    "import sqlite3"
   ]
  },
  {
   "cell_type": "markdown",
   "metadata": {},
   "source": [
    "def main():\n",
    "\n",
    "    db = sqlite3.connect(\"information.db\") #create a database where information is the name of the database, db is extension\n",
    "    db.row_factory = sqlite3.Row\n",
    "    db.execute(\"create table if not exists Admin(Name text, Age int)\") #create table (if doesn't exist already) named Admin with                                                                         columns Name and Age\n",
    "    \n",
    "    db.execute(\"insert into Admin(Name, Age) values(?,?)\",(\"Matteo\",28)) #insert rows of data in the table\n",
    "    db.execute(\"insert into Admin(Name, Age) values(?,?)\",(\"Alessio\",30))\n",
    "    db.execute(\"insert into Admin(Name, Age) values(?,?)\",(\"Alice\",32))\n",
    "    \n",
    "    db.commit() #commit changes\n",
    "\n",
    "\n",
    "if __name__=='__main__': main()"
   ]
  },
  {
   "cell_type": "markdown",
   "metadata": {},
   "source": [
    "More efficiently:"
   ]
  },
  {
   "cell_type": "markdown",
   "metadata": {},
   "source": [
    "import sqlite3\n",
    "\n",
    "db=sqlite3.connect(\"information.db\")\n",
    "\n",
    "def CreateTable():\n",
    "\n",
    "    db.row_factory = sqlite3.Row\n",
    "    db.execute(\"create table if not exists Admin(Name text, Age int)\")\n",
    "    db.commit()\n",
    "    \n",
    "def Add(Name, Age):\n",
    "\n",
    "    db.row_factory = sqlite3.Row\n",
    "    db.execute(\"insert into Admin(Name, Age) values(?,?)\",(Name,Age))   \n",
    "    db.commit() \n",
    "\n",
    "\n",
    "def main():\n",
    "\n",
    "    CreateTable()\n",
    "    IndexOp = int(input(\"Select Operation, type 1 for Add:\"))\n",
    "    if IndexOp == 1:\n",
    "        Name = input(\"Enter Name:\")\n",
    "        Age = int(input(\"Enter Age:\"))\n",
    "        Add(Name, Age)\n",
    "    \n",
    "\n",
    "if __name__ == '__main__': main()"
   ]
  },
  {
   "cell_type": "markdown",
   "metadata": {},
   "source": [
    "SELECT statement"
   ]
  },
  {
   "cell_type": "markdown",
   "metadata": {},
   "source": [
    "def GetDataAdmin():\n",
    "    \n",
    "    db = sqlite3.connect(\"information.db\")\n",
    "    cursor = db.execute(\"select * from Admin\") # select all rows from Admin table, now we want to print to the screen\n",
    "    for row in cursors:\n",
    "        print(\"Name:{}, Age:{}\".format(row['Name'], row['Age']))"
   ]
  },
  {
   "cell_type": "markdown",
   "metadata": {},
   "source": [
    "PRIMARY KEY and AUTOINCREMENT"
   ]
  },
  {
   "cell_type": "markdown",
   "metadata": {},
   "source": [
    "db.execute(\"create table if not exists Admin(Id integer primary key autoincrement, Name text, Age int)\")\n",
    "\n",
    "Add() function defined before will not change! because you don't need to add ID when you insert values as it's Autoincrement"
   ]
  },
  {
   "cell_type": "markdown",
   "metadata": {},
   "source": [
    "DELETE FROM table"
   ]
  },
  {
   "cell_type": "markdown",
   "metadata": {},
   "source": [
    "db.execute(\"delete from Admin where Name = 'Alex'\")\n",
    "\n",
    "def deleteRow(name):\n",
    "    db.execute(\"delete from Admin where Name = '{}'\".format(name))\n",
    "    db.commit()"
   ]
  },
  {
   "cell_type": "markdown",
   "metadata": {},
   "source": [
    "UPDATE table"
   ]
  },
  {
   "cell_type": "markdown",
   "metadata": {},
   "source": [
    "db.execute(\"update Admin set Age=? where Name=?\", (Age, Name))"
   ]
  },
  {
   "cell_type": "markdown",
   "metadata": {},
   "source": [
    "### Parallel Processing"
   ]
  },
  {
   "cell_type": "code",
   "execution_count": 1,
   "metadata": {},
   "outputs": [],
   "source": [
    "import _thread\n",
    "import time"
   ]
  },
  {
   "cell_type": "code",
   "execution_count": null,
   "metadata": {},
   "outputs": [
    {
     "name": "stdout",
     "output_type": "stream",
     "text": [
      "Thread1, Count:10\n",
      "Thread1, Count:9\n",
      "Thread1, Count:8\n",
      "Thread1, Count:7\n",
      "Thread1, Count:6\n",
      "Thread1, Count:5\n",
      "Thread1, Count:4\n",
      "Thread1, Count:3\n",
      "Thread1, Count:2\n",
      "Thread1, Count:1\n",
      "Thread1, Count:0\n"
     ]
    }
   ],
   "source": [
    "def CounterDown(ThreadName):\n",
    "    count = 10\n",
    "    while count>=0:\n",
    "        print(\"{}, Count:{}\".format(ThreadName, count))\n",
    "        count -=1\n",
    "        time.sleep(2)\n",
    "        \n",
    "def main():\n",
    "    try:\n",
    "        _thread.start_new_thread(CounterDown, (\"Thread1\",)) #to start a thread: _thread.start_new_thread (\"Thread1\",) because tuple\n",
    "    \n",
    "    except:\n",
    "        print(\"Error: unable to start thread\")\n",
    "    while 1:\n",
    "        pass\n",
    "    \n",
    "if __name__=='__main__': main()"
   ]
  },
  {
   "cell_type": "markdown",
   "metadata": {},
   "source": [
    "### httpCalls"
   ]
  },
  {
   "cell_type": "code",
   "execution_count": 2,
   "metadata": {},
   "outputs": [],
   "source": [
    "import urllib.request,json"
   ]
  },
  {
   "cell_type": "code",
   "execution_count": 14,
   "metadata": {},
   "outputs": [
    {
     "name": "stdout",
     "output_type": "stream",
     "text": [
      "Wikipedia has a recording of a cat meowing, because why not?\n",
      "When cats grimace, they are usually \"taste-scenting.\" They have an extra organ that, with some breathing control, allows the cats to taste-sense the air.\n",
      "Cats make more than 100 different sounds whereas dogs make around 10.\n",
      "Most cats are lactose intolerant, and milk can cause painful stomach cramps and diarrhea. It's best to forego the milk and just give your cat the standard: clean, cool drinking water.\n",
      "Owning a cat can reduce the risk of stroke and heart attack by a third.\n"
     ]
    }
   ],
   "source": [
    "def main():\n",
    "    url =\"https://cat-fact.herokuapp.com/facts\"\n",
    "    data = urllib.request.urlopen(url).read()\n",
    "    jsondata = json.loads(data.decode(\"utf-8\"))\n",
    "    for i in range(5):\n",
    "        print(jsondata[i]['text'])\n",
    "\n",
    "if __name__=='__main__': main()"
   ]
  },
  {
   "cell_type": "markdown",
   "metadata": {},
   "source": [
    "### JSON and XML data"
   ]
  },
  {
   "cell_type": "markdown",
   "metadata": {},
   "source": [
    "how to deal with json and xml data? how can we represent these data?"
   ]
  },
  {
   "cell_type": "markdown",
   "metadata": {},
   "source": [
    "You represent json as dictionary, like:\n",
    "\n",
    "{\n",
    "\n",
    "    \"Name\": \"Matteo\",\n",
    "    \"Age\": 26\n",
    "    \"languages\":['italian','english']\n",
    "    \"job\":[\n",
    "        {'Place':\"NYC\", \"Title\":\"Manager\"},\n",
    "        {'Place':'LON', \"Title\":\"Analyst\"},\n",
    "    ]\n",
    "    \n",
    "}"
   ]
  },
  {
   "cell_type": "code",
   "execution_count": 17,
   "metadata": {},
   "outputs": [],
   "source": [
    "# You represent xml in this way (same file above):\n",
    "\n",
    "# <name> Matteo </name>\n",
    "# <age 26 </age>\n",
    "# <languages>\n",
    "# <item> italian </item>\n",
    "# <item> english </item>\n",
    "# </languages>\n",
    "\n",
    "# <job>\n",
    "# <item>\n",
    "# <title> Manager </title>\n",
    "# <place> NYC </place>\n",
    "# </item>\n",
    "\n",
    "# <item>\n",
    "# <title> Analyst </title>\n",
    "# <place> LON </place>\n",
    "# </item>\n",
    "\n",
    "# </job>"
   ]
  },
  {
   "cell_type": "markdown",
   "metadata": {},
   "source": [
    "### Map function"
   ]
  },
  {
   "cell_type": "code",
   "execution_count": 18,
   "metadata": {},
   "outputs": [
    {
     "name": "stdout",
     "output_type": "stream",
     "text": [
      "[1, 2, 3, 4]\n",
      "[1, 4, 9, 16]\n"
     ]
    }
   ],
   "source": [
    "listitems = [1,2,3,4]\n",
    "print(listitems)\n",
    "templist = []\n",
    "for item in listitems:\n",
    "    templist.append(item**2)\n",
    "print(templist)"
   ]
  },
  {
   "cell_type": "code",
   "execution_count": 20,
   "metadata": {},
   "outputs": [
    {
     "name": "stdout",
     "output_type": "stream",
     "text": [
      "[1, 4, 9, 16]\n"
     ]
    }
   ],
   "source": [
    "#with list comprehension:\n",
    "templist1 = [item**2 for item in listitems]\n",
    "print(templist1)"
   ]
  },
  {
   "cell_type": "code",
   "execution_count": 22,
   "metadata": {},
   "outputs": [
    {
     "name": "stdout",
     "output_type": "stream",
     "text": [
      "[1, 4, 9, 16]\n"
     ]
    }
   ],
   "source": [
    "#and now with map:\n",
    "templist2 = list(map(lambda x: x**2, listitems)) #you need a function to map (and you can use lambda for this purpose or def..)\n",
    "#so it will take every element of the listitems list and map it using the provided function\n",
    "print(templist2)"
   ]
  },
  {
   "cell_type": "code",
   "execution_count": 25,
   "metadata": {},
   "outputs": [
    {
     "name": "stdout",
     "output_type": "stream",
     "text": [
      "[1, 4, 9, 16]\n"
     ]
    }
   ],
   "source": [
    "def power_two(x):\n",
    "    return x**2\n",
    "\n",
    "templist3 = list(map(power_two, listitems)) #instead of lambda you can define the function before\n",
    "print(templist3)"
   ]
  },
  {
   "cell_type": "markdown",
   "metadata": {},
   "source": [
    "### Filter function"
   ]
  },
  {
   "cell_type": "code",
   "execution_count": 28,
   "metadata": {},
   "outputs": [
    {
     "name": "stdout",
     "output_type": "stream",
     "text": [
      "[2, 4]\n"
     ]
    }
   ],
   "source": [
    "#say you want to do the following:\n",
    "listitems = [1,2,3,4]\n",
    "templist = [item for item in listitems if item %2 == 0]\n",
    "print(templist)"
   ]
  },
  {
   "cell_type": "code",
   "execution_count": 29,
   "metadata": {},
   "outputs": [
    {
     "name": "stdout",
     "output_type": "stream",
     "text": [
      "[2, 4]\n"
     ]
    }
   ],
   "source": [
    "#with filer:\n",
    "templist2 =  list(filter(lambda x: x%2==0, listitems)) #first parameter the filtering function, second the data input to filter\n",
    "print(templist2)"
   ]
  },
  {
   "cell_type": "markdown",
   "metadata": {},
   "source": [
    "### Reduce function"
   ]
  },
  {
   "cell_type": "code",
   "execution_count": 32,
   "metadata": {},
   "outputs": [
    {
     "name": "stdout",
     "output_type": "stream",
     "text": [
      "10\n"
     ]
    }
   ],
   "source": [
    "#what we want to do:\n",
    "listitems = [1,2,3,4]\n",
    "sum_=0\n",
    "for item in listitems:\n",
    "    sum_ = sum_ + item\n",
    "print(sum_)"
   ]
  },
  {
   "cell_type": "code",
   "execution_count": 34,
   "metadata": {},
   "outputs": [
    {
     "name": "stdout",
     "output_type": "stream",
     "text": [
      "10\n"
     ]
    }
   ],
   "source": [
    "from functools import reduce\n",
    "sum1 = reduce(lambda x, y: x+y, listitems)\n",
    "print(sum1)"
   ]
  },
  {
   "cell_type": "markdown",
   "metadata": {},
   "source": [
    "### Application Layout"
   ]
  },
  {
   "cell_type": "markdown",
   "metadata": {},
   "source": [
    "from tkinter import *\n",
    "\n",
    "from _tkinter import ttk\n",
    "\n",
    "root = Tk()\n",
    "\n",
    "button = ttk.Button(root, \"click me\")\n",
    "\n",
    "button.pack()\n",
    "\n",
    "def BuClick():\n",
    "\n",
    "    print(\"button clicked\")\n",
    "\n",
    "button.config(command=BuClick)\n",
    "\n",
    "button.invoke()"
   ]
  }
 ],
 "metadata": {
  "kernelspec": {
   "display_name": "Python 3",
   "language": "python",
   "name": "python3"
  },
  "language_info": {
   "codemirror_mode": {
    "name": "ipython",
    "version": 3
   },
   "file_extension": ".py",
   "mimetype": "text/x-python",
   "name": "python",
   "nbconvert_exporter": "python",
   "pygments_lexer": "ipython3",
   "version": "3.7.0"
  },
  "toc": {
   "base_numbering": 1,
   "nav_menu": {},
   "number_sections": true,
   "sideBar": true,
   "skip_h1_title": false,
   "title_cell": "Table of Contents",
   "title_sidebar": "Contents",
   "toc_cell": false,
   "toc_position": {},
   "toc_section_display": true,
   "toc_window_display": false
  }
 },
 "nbformat": 4,
 "nbformat_minor": 2
}
