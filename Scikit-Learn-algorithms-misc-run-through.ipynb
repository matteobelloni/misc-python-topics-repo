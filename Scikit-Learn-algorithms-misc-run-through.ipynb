{
 "cells": [
  {
   "cell_type": "markdown",
   "metadata": {},
   "source": [
    "# Scikit-Learn machine learning algorithms - run through"
   ]
  },
  {
   "cell_type": "markdown",
   "metadata": {},
   "source": [
    "- plotting in matplotlib\n",
    "- data prep and save open model, train test split\n",
    "- KNN\n",
    "- SVM\n",
    "- Linear Regression\n",
    "- KMeans\n",
    "- Logistic Regression, Pipeline, ColumnTrasformer\n",
    "- Naive Bayes\n",
    "- Decision Trees, Random Forests\n",
    "- Ensemble Learning: boosting algorithms (LightGBM, XGBoost, CatBoost, etc.)"
   ]
  },
  {
   "cell_type": "markdown",
   "metadata": {},
   "source": [
    "## Plotting data points"
   ]
  },
  {
   "cell_type": "code",
   "execution_count": 3,
   "metadata": {},
   "outputs": [],
   "source": [
    "import matplotlib.pyplot as plt"
   ]
  },
  {
   "cell_type": "code",
   "execution_count": 6,
   "metadata": {},
   "outputs": [
    {
     "data": {
      "text/plain": [
       "Text(0.5,1,'y vs x')"
      ]
     },
     "execution_count": 6,
     "metadata": {},
     "output_type": "execute_result"
    },
    {
     "data": {
      "image/png": "[encoded data removed]",
      "text/plain": [
       "<Figure size 432x288 with 1 Axes>"
      ]
     },
     "metadata": {
      "needs_background": "light"
     },
     "output_type": "display_data"
    }
   ],
   "source": [
    "x = [i for i in range(10)]\n",
    "y = [2*i for i in range(10)]\n",
    "plt.plot(x,y)\n",
    "plt.xlabel('x-axis')\n",
    "plt.ylabel('y-axis')\n",
    "plt.title('y vs x')"
   ]
  },
  {
   "cell_type": "code",
   "execution_count": 7,
   "metadata": {},
   "outputs": [
    {
     "data": {
      "text/plain": [
       "<matplotlib.collections.PathCollection at 0x20de131c2e8>"
      ]
     },
     "execution_count": 7,
     "metadata": {},
     "output_type": "execute_result"
    },
    {
     "data": {
      "image/png": "[encoded data removed]",
      "text/plain": [
       "<Figure size 432x288 with 1 Axes>"
      ]
     },
     "metadata": {
      "needs_background": "light"
     },
     "output_type": "display_data"
    }
   ],
   "source": [
    "plt.scatter(x,y) #to have data points rather than line"
   ]
  },
  {
   "cell_type": "markdown",
   "metadata": {},
   "source": [
    "## Preparing the data and saving the model"
   ]
  },
  {
   "cell_type": "markdown",
   "metadata": {},
   "source": [
    "Models:\n",
    "- features, attributes, independent variables, inputs (X)\n",
    "- label, dependent variable, output (y)\n",
    "- in particular, often features need to be from 0 to 1 so we will need scaling and preprocessing"
   ]
  },
  {
   "cell_type": "markdown",
   "metadata": {},
   "source": [
    "### Save and Open a model"
   ]
  },
  {
   "cell_type": "markdown",
   "metadata": {},
   "source": [
    "So you don't need to re train the model everytime you need it, you can just save it and open when needed. Say you have created and fitted your model and now want to save it"
   ]
  },
  {
   "cell_type": "code",
   "execution_count": 8,
   "metadata": {},
   "outputs": [
    {
     "name": "stderr",
     "output_type": "stream",
     "text": [
      "C:\\Users\\Matteo.Belloni\\AppData\\Roaming\\Python\\Python37\\site-packages\\sklearn\\externals\\joblib\\__init__.py:15: FutureWarning: sklearn.externals.joblib is deprecated in 0.21 and will be removed in 0.23. Please import this functionality directly from joblib, which can be installed with: pip install joblib. If this warning is raised when loading pickled models, you may need to re-serialize those models with scikit-learn 0.21+.\n",
      "  warnings.warn(msg, category=FutureWarning)\n"
     ]
    }
   ],
   "source": [
    "from sklearn.externals import joblib"
   ]
  },
  {
   "cell_type": "markdown",
   "metadata": {},
   "source": [
    "clf = ... (this is the fitted model)\n",
    "\n",
    "filename = 'movel.sav'\n",
    "\n",
    "joblib.dump(clf, filename) #save\n",
    "\n",
    "clf = joblib.load(filename) #open"
   ]
  },
  {
   "cell_type": "markdown",
   "metadata": {},
   "source": [
    "### Train test split"
   ]
  },
  {
   "cell_type": "code",
   "execution_count": 10,
   "metadata": {},
   "outputs": [
    {
     "name": "stdout",
     "output_type": "stream",
     "text": [
      "(150, 4)\n",
      "(150,)\n"
     ]
    }
   ],
   "source": [
    "from sklearn import datasets\n",
    "import numpy as np\n",
    "\n",
    "iris = datasets.load_iris()\n",
    "\n",
    "#split in features and labels\n",
    "X = iris.data\n",
    "y = iris.target\n",
    "\n",
    "print(X.shape)\n",
    "print(y.shape) #4 features and 1 label (0,1,2 values of label)"
   ]
  },
  {
   "cell_type": "markdown",
   "metadata": {},
   "source": [
    "Part of the data is used to train the model and part to test it. Hence the need to split the data into train and test set"
   ]
  },
  {
   "cell_type": "code",
   "execution_count": 12,
   "metadata": {},
   "outputs": [
    {
     "name": "stdout",
     "output_type": "stream",
     "text": [
      "(120, 4)\n",
      "(30, 4)\n",
      "(120,)\n",
      "(30,)\n"
     ]
    }
   ],
   "source": [
    "from sklearn.model_selection import train_test_split\n",
    "\n",
    "X_train, X_test, y_train, y_test = train_test_split(X, y, test_size = 0.2) #meaning 20% for testing purposes\n",
    "\n",
    "print(X_train.shape)\n",
    "print(X_test.shape)\n",
    "print(y_train.shape)\n",
    "print(y_test.shape)"
   ]
  },
  {
   "cell_type": "markdown",
   "metadata": {},
   "source": [
    "## KNN"
   ]
  },
  {
   "cell_type": "markdown",
   "metadata": {},
   "source": [
    "This is both used for Classification and Regression:\n",
    "- Given a x for which we want to estimate the class, it takes the k-nearest neighbours from the labelled dataset and assigns x to the majority class across those k points\n",
    "- usually k odd to help the calculations\n",
    "- usually you try different values of k and choose the one at the elbow"
   ]
  },
  {
   "cell_type": "code",
   "execution_count": 14,
   "metadata": {},
   "outputs": [],
   "source": [
    "import numpy as np\n",
    "import pandas as pd\n",
    "from sklearn import neighbors, metrics\n",
    "from sklearn.model_selection import train_test_split\n",
    "from sklearn.preprocessing import LabelEncoder"
   ]
  },
  {
   "cell_type": "code",
   "execution_count": 51,
   "metadata": {},
   "outputs": [
    {
     "name": "stdout",
     "output_type": "stream",
     "text": [
      "  buying  maint doors persons lug_boot safety  class\n",
      "0  vhigh  vhigh     2       2    small    med  unacc\n",
      "1  vhigh  vhigh     2       2    small   high  unacc\n",
      "2  vhigh  vhigh     2       2      med    low  unacc\n",
      "3  vhigh  vhigh     2       2      med    med  unacc\n",
      "4  vhigh  vhigh     2       2      med   high  unacc\n"
     ]
    }
   ],
   "source": [
    "data = pd.read_csv('car.data')\n",
    "data.columns = ['buying', 'maint', 'doors', 'persons', 'lug_boot', 'safety', 'class']\n",
    "print(data.head())"
   ]
  },
  {
   "cell_type": "code",
   "execution_count": 55,
   "metadata": {},
   "outputs": [
    {
     "name": "stdout",
     "output_type": "stream",
     "text": [
      "[['vhigh' 'vhigh' 'med']\n",
      " ['vhigh' 'vhigh' 'high']\n",
      " ['vhigh' 'vhigh' 'low']\n",
      " ...\n",
      " ['low' 'low' 'low']\n",
      " ['low' 'low' 'med']\n",
      " ['low' 'low' 'high']]\n"
     ]
    }
   ],
   "source": [
    "X = data[['buying', 'maint', 'safety']].values\n",
    "y = data[['class']]\n",
    "print(X)"
   ]
  },
  {
   "cell_type": "code",
   "execution_count": 56,
   "metadata": {},
   "outputs": [
    {
     "name": "stdout",
     "output_type": "stream",
     "text": [
      "[[3 3 2]\n",
      " [3 3 0]\n",
      " [3 3 1]\n",
      " ...\n",
      " [1 1 1]\n",
      " [1 1 2]\n",
      " [1 1 0]]\n"
     ]
    }
   ],
   "source": [
    "Le = LabelEncoder()\n",
    "for i in range(len(X[0])): #for all columns/features\n",
    "    X[:,i] = Le.fit_transform(X[:,i]) #conver low, medium, high to numbers ordered\n",
    "    \n",
    "print(X)"
   ]
  },
  {
   "cell_type": "code",
   "execution_count": 57,
   "metadata": {},
   "outputs": [
    {
     "name": "stdout",
     "output_type": "stream",
     "text": [
      "[[0]\n",
      " [0]\n",
      " [0]\n",
      " ...\n",
      " [0]\n",
      " [2]\n",
      " [3]]\n"
     ]
    },
    {
     "name": "stderr",
     "output_type": "stream",
     "text": [
      "C:\\Users\\Matteo.Belloni\\AppData\\Local\\Continuum\\anaconda3\\lib\\site-packages\\ipykernel_launcher.py:2: SettingWithCopyWarning: \n",
      "A value is trying to be set on a copy of a slice from a DataFrame.\n",
      "Try using .loc[row_indexer,col_indexer] = value instead\n",
      "\n",
      "See the caveats in the documentation: https://pandas.pydata.org/pandas-docs/stable/user_guide/indexing.html#returning-a-view-versus-a-copy\n",
      "  \n"
     ]
    }
   ],
   "source": [
    "label_mapping = {'unacc':0, 'acc':1, 'good':2, 'vgood':3}\n",
    "y['class'] = y['class'].map(label_mapping)\n",
    "y = np.array(y)\n",
    "print(y)"
   ]
  },
  {
   "cell_type": "code",
   "execution_count": 58,
   "metadata": {},
   "outputs": [
    {
     "name": "stderr",
     "output_type": "stream",
     "text": [
      "C:\\Users\\Matteo.Belloni\\AppData\\Local\\Continuum\\anaconda3\\lib\\site-packages\\ipykernel_launcher.py:5: DataConversionWarning: A column-vector y was passed when a 1d array was expected. Please change the shape of y to (n_samples, ), for example using ravel().\n",
      "  \"\"\"\n"
     ]
    },
    {
     "name": "stdout",
     "output_type": "stream",
     "text": [
      "0.7427745664739884\n"
     ]
    }
   ],
   "source": [
    "knn = neighbors.KNeighborsClassifier(n_neighbors = 25, weights = 'uniform')\n",
    "\n",
    "X_train, X_test, y_train, y_test = train_test_split(X,y, test_size = 0.2)\n",
    "\n",
    "knn.fit(X_train, y_train)\n",
    "\n",
    "prediction = knn.predict(X_test)\n",
    "\n",
    "accuracy = metrics.accuracy_score(y_test, prediction)\n",
    "\n",
    "print(accuracy)"
   ]
  },
  {
   "cell_type": "code",
   "execution_count": 60,
   "metadata": {},
   "outputs": [
    {
     "name": "stdout",
     "output_type": "stream",
     "text": [
      "[0]\n"
     ]
    }
   ],
   "source": [
    "x = [[3,3,3]]\n",
    "y_pred = knn.predict(x)\n",
    "print(y_pred)"
   ]
  },
  {
   "cell_type": "markdown",
   "metadata": {},
   "source": [
    "## Support Vector Machine (SVM)"
   ]
  },
  {
   "cell_type": "markdown",
   "metadata": {},
   "source": [
    "This is both used for Classification and Regression\n",
    "- especially useful for non-linear problems solved with kernel functions\n",
    "- draws a hyperplane as decision boundaries\n",
    "- computes the distance from the hyperplane and the closest points (support vectors) of the two classes\n",
    "- starts with random hyperplane and then optimise to find the hyperplane that maximise the distance (margin) from the support vectors\n",
    "- in particular, for non-linear problems it uses kernels to increase the dimension and make the problem linear in the higher dimension"
   ]
  },
  {
   "cell_type": "code",
   "execution_count": 98,
   "metadata": {},
   "outputs": [],
   "source": [
    "#back to the iris example\n",
    "from sklearn import datasets\n",
    "import numpy as np\n",
    "\n",
    "iris = datasets.load_iris()\n",
    "\n",
    "X = iris.data\n",
    "y = iris.target\n",
    "\n",
    "classes = ['Iris Setosa', 'Iris Versicolour', 'Iris Virginica']"
   ]
  },
  {
   "cell_type": "code",
   "execution_count": null,
   "metadata": {},
   "outputs": [],
   "source": [
    "#split features\n",
    "X_train, X_test, y_train, y_test = train_test_split(X, y, test_size = 0.2)"
   ]
  },
  {
   "cell_type": "code",
   "execution_count": 66,
   "metadata": {},
   "outputs": [
    {
     "name": "stdout",
     "output_type": "stream",
     "text": [
      "0.9666666666666667\n"
     ]
    }
   ],
   "source": [
    "from sklearn import svm\n",
    "from sklearn.metrics import accuracy_score\n",
    "\n",
    "model = svm.SVC() #this is the classifier\n",
    "model.fit(X_train, y_train)\n",
    "\n",
    "prediction = model.predict(X_test)\n",
    "\n",
    "accuracy = accuracy_score(y_test, prediction)\n",
    "print(accuracy)"
   ]
  },
  {
   "cell_type": "markdown",
   "metadata": {},
   "source": [
    "## Linear Regression"
   ]
  },
  {
   "cell_type": "code",
   "execution_count": 76,
   "metadata": {},
   "outputs": [],
   "source": [
    "from sklearn import datasets\n",
    "from sklearn import linear_model\n",
    "from sklearn.model_selection import train_test_split\n",
    "import matplotlib.pyplot as plt"
   ]
  },
  {
   "cell_type": "code",
   "execution_count": 71,
   "metadata": {},
   "outputs": [
    {
     "data": {
      "text/plain": [
       "{'data': array([[6.3200e-03, 1.8000e+01, 2.3100e+00, ..., 1.5300e+01, 3.9690e+02,\n",
       "         4.9800e+00],\n",
       "        [2.7310e-02, 0.0000e+00, 7.0700e+00, ..., 1.7800e+01, 3.9690e+02,\n",
       "         9.1400e+00],\n",
       "        [2.7290e-02, 0.0000e+00, 7.0700e+00, ..., 1.7800e+01, 3.9283e+02,\n",
       "         4.0300e+00],\n",
       "        ...,\n",
       "        [6.0760e-02, 0.0000e+00, 1.1930e+01, ..., 2.1000e+01, 3.9690e+02,\n",
       "         5.6400e+00],\n",
       "        [1.0959e-01, 0.0000e+00, 1.1930e+01, ..., 2.1000e+01, 3.9345e+02,\n",
       "         6.4800e+00],\n",
       "        [4.7410e-02, 0.0000e+00, 1.1930e+01, ..., 2.1000e+01, 3.9690e+02,\n",
       "         7.8800e+00]]),\n",
       " 'target': array([24. , 21.6, 34.7, 33.4, 36.2, 28.7, 22.9, 27.1, 16.5, 18.9, 15. ,\n",
       "        18.9, 21.7, 20.4, 18.2, 19.9, 23.1, 17.5, 20.2, 18.2, 13.6, 19.6,\n",
       "        15.2, 14.5, 15.6, 13.9, 16.6, 14.8, 18.4, 21. , 12.7, 14.5, 13.2,\n",
       "        13.1, 13.5, 18.9, 20. , 21. , 24.7, 30.8, 34.9, 26.6, 25.3, 24.7,\n",
       "        21.2, 19.3, 20. , 16.6, 14.4, 19.4, 19.7, 20.5, 25. , 23.4, 18.9,\n",
       "        35.4, 24.7, 31.6, 23.3, 19.6, 18.7, 16. , 22.2, 25. , 33. , 23.5,\n",
       "        19.4, 22. , 17.4, 20.9, 24.2, 21.7, 22.8, 23.4, 24.1, 21.4, 20. ,\n",
       "        20.8, 21.2, 20.3, 28. , 23.9, 24.8, 22.9, 23.9, 26.6, 22.5, 22.2,\n",
       "        23.6, 28.7, 22.6, 22. , 22.9, 25. , 20.6, 28.4, 21.4, 38.7, 43.8,\n",
       "        33.2, 27.5, 26.5, 18.6, 19.3, 20.1, 19.5, 19.5, 20.4, 19.8, 19.4,\n",
       "        21.7, 22.8, 18.8, 18.7, 18.5, 18.3, 21.2, 19.2, 20.4, 19.3, 22. ,\n",
       "        20.3, 20.5, 17.3, 18.8, 21.4, 15.7, 16.2, 18. , 14.3, 19.2, 19.6,\n",
       "        23. , 18.4, 15.6, 18.1, 17.4, 17.1, 13.3, 17.8, 14. , 14.4, 13.4,\n",
       "        15.6, 11.8, 13.8, 15.6, 14.6, 17.8, 15.4, 21.5, 19.6, 15.3, 19.4,\n",
       "        17. , 15.6, 13.1, 41.3, 24.3, 23.3, 27. , 50. , 50. , 50. , 22.7,\n",
       "        25. , 50. , 23.8, 23.8, 22.3, 17.4, 19.1, 23.1, 23.6, 22.6, 29.4,\n",
       "        23.2, 24.6, 29.9, 37.2, 39.8, 36.2, 37.9, 32.5, 26.4, 29.6, 50. ,\n",
       "        32. , 29.8, 34.9, 37. , 30.5, 36.4, 31.1, 29.1, 50. , 33.3, 30.3,\n",
       "        34.6, 34.9, 32.9, 24.1, 42.3, 48.5, 50. , 22.6, 24.4, 22.5, 24.4,\n",
       "        20. , 21.7, 19.3, 22.4, 28.1, 23.7, 25. , 23.3, 28.7, 21.5, 23. ,\n",
       "        26.7, 21.7, 27.5, 30.1, 44.8, 50. , 37.6, 31.6, 46.7, 31.5, 24.3,\n",
       "        31.7, 41.7, 48.3, 29. , 24. , 25.1, 31.5, 23.7, 23.3, 22. , 20.1,\n",
       "        22.2, 23.7, 17.6, 18.5, 24.3, 20.5, 24.5, 26.2, 24.4, 24.8, 29.6,\n",
       "        42.8, 21.9, 20.9, 44. , 50. , 36. , 30.1, 33.8, 43.1, 48.8, 31. ,\n",
       "        36.5, 22.8, 30.7, 50. , 43.5, 20.7, 21.1, 25.2, 24.4, 35.2, 32.4,\n",
       "        32. , 33.2, 33.1, 29.1, 35.1, 45.4, 35.4, 46. , 50. , 32.2, 22. ,\n",
       "        20.1, 23.2, 22.3, 24.8, 28.5, 37.3, 27.9, 23.9, 21.7, 28.6, 27.1,\n",
       "        20.3, 22.5, 29. , 24.8, 22. , 26.4, 33.1, 36.1, 28.4, 33.4, 28.2,\n",
       "        22.8, 20.3, 16.1, 22.1, 19.4, 21.6, 23.8, 16.2, 17.8, 19.8, 23.1,\n",
       "        21. , 23.8, 23.1, 20.4, 18.5, 25. , 24.6, 23. , 22.2, 19.3, 22.6,\n",
       "        19.8, 17.1, 19.4, 22.2, 20.7, 21.1, 19.5, 18.5, 20.6, 19. , 18.7,\n",
       "        32.7, 16.5, 23.9, 31.2, 17.5, 17.2, 23.1, 24.5, 26.6, 22.9, 24.1,\n",
       "        18.6, 30.1, 18.2, 20.6, 17.8, 21.7, 22.7, 22.6, 25. , 19.9, 20.8,\n",
       "        16.8, 21.9, 27.5, 21.9, 23.1, 50. , 50. , 50. , 50. , 50. , 13.8,\n",
       "        13.8, 15. , 13.9, 13.3, 13.1, 10.2, 10.4, 10.9, 11.3, 12.3,  8.8,\n",
       "         7.2, 10.5,  7.4, 10.2, 11.5, 15.1, 23.2,  9.7, 13.8, 12.7, 13.1,\n",
       "        12.5,  8.5,  5. ,  6.3,  5.6,  7.2, 12.1,  8.3,  8.5,  5. , 11.9,\n",
       "        27.9, 17.2, 27.5, 15. , 17.2, 17.9, 16.3,  7. ,  7.2,  7.5, 10.4,\n",
       "         8.8,  8.4, 16.7, 14.2, 20.8, 13.4, 11.7,  8.3, 10.2, 10.9, 11. ,\n",
       "         9.5, 14.5, 14.1, 16.1, 14.3, 11.7, 13.4,  9.6,  8.7,  8.4, 12.8,\n",
       "        10.5, 17.1, 18.4, 15.4, 10.8, 11.8, 14.9, 12.6, 14.1, 13. , 13.4,\n",
       "        15.2, 16.1, 17.8, 14.9, 14.1, 12.7, 13.5, 14.9, 20. , 16.4, 17.7,\n",
       "        19.5, 20.2, 21.4, 19.9, 19. , 19.1, 19.1, 20.1, 19.9, 19.6, 23.2,\n",
       "        29.8, 13.8, 13.3, 16.7, 12. , 14.6, 21.4, 23. , 23.7, 25. , 21.8,\n",
       "        20.6, 21.2, 19.1, 20.6, 15.2,  7. ,  8.1, 13.6, 20.1, 21.8, 24.5,\n",
       "        23.1, 19.7, 18.3, 21.2, 17.5, 16.8, 22.4, 20.6, 23.9, 22. , 11.9]),\n",
       " 'feature_names': array(['CRIM', 'ZN', 'INDUS', 'CHAS', 'NOX', 'RM', 'AGE', 'DIS', 'RAD',\n",
       "        'TAX', 'PTRATIO', 'B', 'LSTAT'], dtype='<U7'),\n",
       " 'DESCR': \".. _boston_dataset:\\n\\nBoston house prices dataset\\n---------------------------\\n\\n**Data Set Characteristics:**  \\n\\n    :Number of Instances: 506 \\n\\n    :Number of Attributes: 13 numeric/categorical predictive. Median Value (attribute 14) is usually the target.\\n\\n    :Attribute Information (in order):\\n        - CRIM     per capita crime rate by town\\n        - ZN       proportion of residential land zoned for lots over 25,000 sq.ft.\\n        - INDUS    proportion of non-retail business acres per town\\n        - CHAS     Charles River dummy variable (= 1 if tract bounds river; 0 otherwise)\\n        - NOX      nitric oxides concentration (parts per 10 million)\\n        - RM       average number of rooms per dwelling\\n        - AGE      proportion of owner-occupied units built prior to 1940\\n        - DIS      weighted distances to five Boston employment centres\\n        - RAD      index of accessibility to radial highways\\n        - TAX      full-value property-tax rate per $10,000\\n        - PTRATIO  pupil-teacher ratio by town\\n        - B        1000(Bk - 0.63)^2 where Bk is the proportion of blacks by town\\n        - LSTAT    % lower status of the population\\n        - MEDV     Median value of owner-occupied homes in $1000's\\n\\n    :Missing Attribute Values: None\\n\\n    :Creator: Harrison, D. and Rubinfeld, D.L.\\n\\nThis is a copy of UCI ML housing dataset.\\nhttps://archive.ics.uci.edu/ml/machine-learning-databases/housing/\\n\\n\\nThis dataset was taken from the StatLib library which is maintained at Carnegie Mellon University.\\n\\nThe Boston house-price data of Harrison, D. and Rubinfeld, D.L. 'Hedonic\\nprices and the demand for clean air', J. Environ. Economics & Management,\\nvol.5, 81-102, 1978.   Used in Belsley, Kuh & Welsch, 'Regression diagnostics\\n...', Wiley, 1980.   N.B. Various transformations are used in the table on\\npages 244-261 of the latter.\\n\\nThe Boston house-price data has been used in many machine learning papers that address regression\\nproblems.   \\n     \\n.. topic:: References\\n\\n   - Belsley, Kuh & Welsch, 'Regression diagnostics: Identifying Influential Data and Sources of Collinearity', Wiley, 1980. 244-261.\\n   - Quinlan,R. (1993). Combining Instance-Based and Model-Based Learning. In Proceedings on the Tenth International Conference of Machine Learning, 236-243, University of Massachusetts, Amherst. Morgan Kaufmann.\\n\",\n",
       " 'filename': 'C:\\\\Users\\\\Matteo.Belloni\\\\AppData\\\\Roaming\\\\Python\\\\Python37\\\\site-packages\\\\sklearn\\\\datasets\\\\data\\\\boston_house_prices.csv'}"
      ]
     },
     "execution_count": 71,
     "metadata": {},
     "output_type": "execute_result"
    }
   ],
   "source": [
    "boston = datasets.load_boston()\n",
    "boston"
   ]
  },
  {
   "cell_type": "code",
   "execution_count": 119,
   "metadata": {},
   "outputs": [
    {
     "name": "stdout",
     "output_type": "stream",
     "text": [
      "[[6.3200e-03 1.8000e+01 2.3100e+00 ... 1.5300e+01 3.9690e+02 4.9800e+00]\n",
      " [2.7310e-02 0.0000e+00 7.0700e+00 ... 1.7800e+01 3.9690e+02 9.1400e+00]\n",
      " [2.7290e-02 0.0000e+00 7.0700e+00 ... 1.7800e+01 3.9283e+02 4.0300e+00]\n",
      " ...\n",
      " [6.0760e-02 0.0000e+00 1.1930e+01 ... 2.1000e+01 3.9690e+02 5.6400e+00]\n",
      " [1.0959e-01 0.0000e+00 1.1930e+01 ... 2.1000e+01 3.9345e+02 6.4800e+00]\n",
      " [4.7410e-02 0.0000e+00 1.1930e+01 ... 2.1000e+01 3.9690e+02 7.8800e+00]]\n"
     ]
    }
   ],
   "source": [
    "X = boston.data\n",
    "y = boston.target\n",
    "print(X)"
   ]
  },
  {
   "cell_type": "code",
   "execution_count": 120,
   "metadata": {},
   "outputs": [
    {
     "data": {
      "text/plain": [
       "<matplotlib.collections.PathCollection at 0x20de4cdac50>"
      ]
     },
     "execution_count": 120,
     "metadata": {},
     "output_type": "execute_result"
    },
    {
     "data": {
      "image/png": "[encoded data removed]",
      "text/plain": [
       "<Figure size 432x288 with 1 Axes>"
      ]
     },
     "metadata": {
      "needs_background": "light"
     },
     "output_type": "display_data"
    }
   ],
   "source": [
    "plt.scatter(X.T[0], y) #plotting first feature against the target (.T to transpose col to rows and then take first row)"
   ]
  },
  {
   "cell_type": "code",
   "execution_count": 121,
   "metadata": {},
   "outputs": [
    {
     "data": {
      "text/plain": [
       "<matplotlib.collections.PathCollection at 0x20de4d34278>"
      ]
     },
     "execution_count": 121,
     "metadata": {},
     "output_type": "execute_result"
    },
    {
     "data": {
      "image/png": "[encoded data removed]",
      "text/plain": [
       "<Figure size 432x288 with 1 Axes>"
      ]
     },
     "metadata": {
      "needs_background": "light"
     },
     "output_type": "display_data"
    }
   ],
   "source": [
    "plt.scatter(X.T[5], y)"
   ]
  },
  {
   "cell_type": "code",
   "execution_count": 122,
   "metadata": {},
   "outputs": [
    {
     "name": "stdout",
     "output_type": "stream",
     "text": [
      "0.7560226547105668\n",
      "0.6493600628408519\n"
     ]
    }
   ],
   "source": [
    "X_train, X_test, y_train, y_test = train_test_split(X, y, test_size = 0.2)\n",
    "\n",
    "l_reg = linear_model.LinearRegression()\n",
    "l_reg.fit(X_train, y_train)\n",
    "\n",
    "prediction = l_reg.predict(X_test)\n",
    "\n",
    "r2_train = l_reg.score(X_train, y_train)\n",
    "r2_test = l_reg.score(X_test, y_test)\n",
    "print(r2_train)\n",
    "print(r2_test)"
   ]
  },
  {
   "cell_type": "code",
   "execution_count": 126,
   "metadata": {},
   "outputs": [
    {
     "data": {
      "text/plain": [
       "((404, 13), (404,))"
      ]
     },
     "execution_count": 126,
     "metadata": {},
     "output_type": "execute_result"
    }
   ],
   "source": [
    "X_train.shape, y_train.shape"
   ]
  },
  {
   "cell_type": "code",
   "execution_count": 128,
   "metadata": {},
   "outputs": [
    {
     "data": {
      "text/plain": [
       "((506, 13), (506,))"
      ]
     },
     "execution_count": 128,
     "metadata": {},
     "output_type": "execute_result"
    }
   ],
   "source": [
    "X.shape, y.shape"
   ]
  },
  {
   "cell_type": "markdown",
   "metadata": {},
   "source": [
    "## KMeans"
   ]
  },
  {
   "cell_type": "code",
   "execution_count": 86,
   "metadata": {},
   "outputs": [],
   "source": [
    "from sklearn.datasets import load_breast_cancer\n",
    "from sklearn.cluster import KMeans\n",
    "from sklearn.model_selection import train_test_split\n",
    "from sklearn.metrics import accuracy_score\n",
    "from sklearn.preprocessing import scale\n",
    "import pandas as pd"
   ]
  },
  {
   "cell_type": "code",
   "execution_count": 88,
   "metadata": {},
   "outputs": [
    {
     "name": "stdout",
     "output_type": "stream",
     "text": [
      "{'data': array([[1.799e+01, 1.038e+01, 1.228e+02, ..., 2.654e-01, 4.601e-01,\n",
      "        1.189e-01],\n",
      "       [2.057e+01, 1.777e+01, 1.329e+02, ..., 1.860e-01, 2.750e-01,\n",
      "        8.902e-02],\n",
      "       [1.969e+01, 2.125e+01, 1.300e+02, ..., 2.430e-01, 3.613e-01,\n",
      "        8.758e-02],\n",
      "       ...,\n",
      "       [1.660e+01, 2.808e+01, 1.083e+02, ..., 1.418e-01, 2.218e-01,\n",
      "        7.820e-02],\n",
      "       [2.060e+01, 2.933e+01, 1.401e+02, ..., 2.650e-01, 4.087e-01,\n",
      "        1.240e-01],\n",
      "       [7.760e+00, 2.454e+01, 4.792e+01, ..., 0.000e+00, 2.871e-01,\n",
      "        7.039e-02]]), 'target': array([0, 0, 0, 0, 0, 0, 0, 0, 0, 0, 0, 0, 0, 0, 0, 0, 0, 0, 0, 1, 1, 1,\n",
      "       0, 0, 0, 0, 0, 0, 0, 0, 0, 0, 0, 0, 0, 0, 0, 1, 0, 0, 0, 0, 0, 0,\n",
      "       0, 0, 1, 0, 1, 1, 1, 1, 1, 0, 0, 1, 0, 0, 1, 1, 1, 1, 0, 1, 0, 0,\n",
      "       1, 1, 1, 1, 0, 1, 0, 0, 1, 0, 1, 0, 0, 1, 1, 1, 0, 0, 1, 0, 0, 0,\n",
      "       1, 1, 1, 0, 1, 1, 0, 0, 1, 1, 1, 0, 0, 1, 1, 1, 1, 0, 1, 1, 0, 1,\n",
      "       1, 1, 1, 1, 1, 1, 1, 0, 0, 0, 1, 0, 0, 1, 1, 1, 0, 0, 1, 0, 1, 0,\n",
      "       0, 1, 0, 0, 1, 1, 0, 1, 1, 0, 1, 1, 1, 1, 0, 1, 1, 1, 1, 1, 1, 1,\n",
      "       1, 1, 0, 1, 1, 1, 1, 0, 0, 1, 0, 1, 1, 0, 0, 1, 1, 0, 0, 1, 1, 1,\n",
      "       1, 0, 1, 1, 0, 0, 0, 1, 0, 1, 0, 1, 1, 1, 0, 1, 1, 0, 0, 1, 0, 0,\n",
      "       0, 0, 1, 0, 0, 0, 1, 0, 1, 0, 1, 1, 0, 1, 0, 0, 0, 0, 1, 1, 0, 0,\n",
      "       1, 1, 1, 0, 1, 1, 1, 1, 1, 0, 0, 1, 1, 0, 1, 1, 0, 0, 1, 0, 1, 1,\n",
      "       1, 1, 0, 1, 1, 1, 1, 1, 0, 1, 0, 0, 0, 0, 0, 0, 0, 0, 0, 0, 0, 0,\n",
      "       0, 0, 1, 1, 1, 1, 1, 1, 0, 1, 0, 1, 1, 0, 1, 1, 0, 1, 0, 0, 1, 1,\n",
      "       1, 1, 1, 1, 1, 1, 1, 1, 1, 1, 1, 0, 1, 1, 0, 1, 0, 1, 1, 1, 1, 1,\n",
      "       1, 1, 1, 1, 1, 1, 1, 1, 1, 0, 1, 1, 1, 0, 1, 0, 1, 1, 1, 1, 0, 0,\n",
      "       0, 1, 1, 1, 1, 0, 1, 0, 1, 0, 1, 1, 1, 0, 1, 1, 1, 1, 1, 1, 1, 0,\n",
      "       0, 0, 1, 1, 1, 1, 1, 1, 1, 1, 1, 1, 1, 0, 0, 1, 0, 0, 0, 1, 0, 0,\n",
      "       1, 1, 1, 1, 1, 0, 1, 1, 1, 1, 1, 0, 1, 1, 1, 0, 1, 1, 0, 0, 1, 1,\n",
      "       1, 1, 1, 1, 0, 1, 1, 1, 1, 1, 1, 1, 0, 1, 1, 1, 1, 1, 0, 1, 1, 0,\n",
      "       1, 1, 1, 1, 1, 1, 1, 1, 1, 1, 1, 1, 0, 1, 0, 0, 1, 0, 1, 1, 1, 1,\n",
      "       1, 0, 1, 1, 0, 1, 0, 1, 1, 0, 1, 0, 1, 1, 1, 1, 1, 1, 1, 1, 0, 0,\n",
      "       1, 1, 1, 1, 1, 1, 0, 1, 1, 1, 1, 1, 1, 1, 1, 1, 1, 0, 1, 1, 1, 1,\n",
      "       1, 1, 1, 0, 1, 0, 1, 1, 0, 1, 1, 1, 1, 1, 0, 0, 1, 0, 1, 0, 1, 1,\n",
      "       1, 1, 1, 0, 1, 1, 0, 1, 0, 1, 0, 0, 1, 1, 1, 0, 1, 1, 1, 1, 1, 1,\n",
      "       1, 1, 1, 1, 1, 0, 1, 0, 0, 1, 1, 1, 1, 1, 1, 1, 1, 1, 1, 1, 1, 1,\n",
      "       1, 1, 1, 1, 1, 1, 1, 1, 1, 1, 1, 1, 0, 0, 0, 0, 0, 0, 1]), 'target_names': array(['malignant', 'benign'], dtype='<U9'), 'DESCR': '.. _breast_cancer_dataset:\\n\\nBreast cancer wisconsin (diagnostic) dataset\\n--------------------------------------------\\n\\n**Data Set Characteristics:**\\n\\n    :Number of Instances: 569\\n\\n    :Number of Attributes: 30 numeric, predictive attributes and the class\\n\\n    :Attribute Information:\\n        - radius (mean of distances from center to points on the perimeter)\\n        - texture (standard deviation of gray-scale values)\\n        - perimeter\\n        - area\\n        - smoothness (local variation in radius lengths)\\n        - compactness (perimeter^2 / area - 1.0)\\n        - concavity (severity of concave portions of the contour)\\n        - concave points (number of concave portions of the contour)\\n        - symmetry \\n        - fractal dimension (\"coastline approximation\" - 1)\\n\\n        The mean, standard error, and \"worst\" or largest (mean of the three\\n        largest values) of these features were computed for each image,\\n        resulting in 30 features.  For instance, field 3 is Mean Radius, field\\n        13 is Radius SE, field 23 is Worst Radius.\\n\\n        - class:\\n                - WDBC-Malignant\\n                - WDBC-Benign\\n\\n    :Summary Statistics:\\n\\n    ===================================== ====== ======\\n                                           Min    Max\\n    ===================================== ====== ======\\n    radius (mean):                        6.981  28.11\\n    texture (mean):                       9.71   39.28\\n    perimeter (mean):                     43.79  188.5\\n    area (mean):                          143.5  2501.0\\n    smoothness (mean):                    0.053  0.163\\n    compactness (mean):                   0.019  0.345\\n    concavity (mean):                     0.0    0.427\\n    concave points (mean):                0.0    0.201\\n    symmetry (mean):                      0.106  0.304\\n    fractal dimension (mean):             0.05   0.097\\n    radius (standard error):              0.112  2.873\\n    texture (standard error):             0.36   4.885\\n    perimeter (standard error):           0.757  21.98\\n    area (standard error):                6.802  542.2\\n    smoothness (standard error):          0.002  0.031\\n    compactness (standard error):         0.002  0.135\\n    concavity (standard error):           0.0    0.396\\n    concave points (standard error):      0.0    0.053\\n    symmetry (standard error):            0.008  0.079\\n    fractal dimension (standard error):   0.001  0.03\\n    radius (worst):                       7.93   36.04\\n    texture (worst):                      12.02  49.54\\n    perimeter (worst):                    50.41  251.2\\n    area (worst):                         185.2  4254.0\\n    smoothness (worst):                   0.071  0.223\\n    compactness (worst):                  0.027  1.058\\n    concavity (worst):                    0.0    1.252\\n    concave points (worst):               0.0    0.291\\n    symmetry (worst):                     0.156  0.664\\n    fractal dimension (worst):            0.055  0.208\\n    ===================================== ====== ======\\n\\n    :Missing Attribute Values: None\\n\\n    :Class Distribution: 212 - Malignant, 357 - Benign\\n\\n    :Creator:  Dr. William H. Wolberg, W. Nick Street, Olvi L. Mangasarian\\n\\n    :Donor: Nick Street\\n\\n    :Date: November, 1995\\n\\nThis is a copy of UCI ML Breast Cancer Wisconsin (Diagnostic) datasets.\\nhttps://goo.gl/U2Uwz2\\n\\nFeatures are computed from a digitized image of a fine needle\\naspirate (FNA) of a breast mass.  They describe\\ncharacteristics of the cell nuclei present in the image.\\n\\nSeparating plane described above was obtained using\\nMultisurface Method-Tree (MSM-T) [K. P. Bennett, \"Decision Tree\\nConstruction Via Linear Programming.\" Proceedings of the 4th\\nMidwest Artificial Intelligence and Cognitive Science Society,\\npp. 97-101, 1992], a classification method which uses linear\\nprogramming to construct a decision tree.  Relevant features\\nwere selected using an exhaustive search in the space of 1-4\\nfeatures and 1-3 separating planes.\\n\\nThe actual linear program used to obtain the separating plane\\nin the 3-dimensional space is that described in:\\n[K. P. Bennett and O. L. Mangasarian: \"Robust Linear\\nProgramming Discrimination of Two Linearly Inseparable Sets\",\\nOptimization Methods and Software 1, 1992, 23-34].\\n\\nThis database is also available through the UW CS ftp server:\\n\\nftp ftp.cs.wisc.edu\\ncd math-prog/cpo-dataset/machine-learn/WDBC/\\n\\n.. topic:: References\\n\\n   - W.N. Street, W.H. Wolberg and O.L. Mangasarian. Nuclear feature extraction \\n     for breast tumor diagnosis. IS&T/SPIE 1993 International Symposium on \\n     Electronic Imaging: Science and Technology, volume 1905, pages 861-870,\\n     San Jose, CA, 1993.\\n   - O.L. Mangasarian, W.N. Street and W.H. Wolberg. Breast cancer diagnosis and \\n     prognosis via linear programming. Operations Research, 43(4), pages 570-577, \\n     July-August 1995.\\n   - W.H. Wolberg, W.N. Street, and O.L. Mangasarian. Machine learning techniques\\n     to diagnose breast cancer from fine-needle aspirates. Cancer Letters 77 (1994) \\n     163-171.', 'feature_names': array(['mean radius', 'mean texture', 'mean perimeter', 'mean area',\n",
      "       'mean smoothness', 'mean compactness', 'mean concavity',\n",
      "       'mean concave points', 'mean symmetry', 'mean fractal dimension',\n",
      "       'radius error', 'texture error', 'perimeter error', 'area error',\n",
      "       'smoothness error', 'compactness error', 'concavity error',\n",
      "       'concave points error', 'symmetry error',\n",
      "       'fractal dimension error', 'worst radius', 'worst texture',\n",
      "       'worst perimeter', 'worst area', 'worst smoothness',\n",
      "       'worst compactness', 'worst concavity', 'worst concave points',\n",
      "       'worst symmetry', 'worst fractal dimension'], dtype='<U23'), 'filename': 'C:\\\\Users\\\\Matteo.Belloni\\\\AppData\\\\Roaming\\\\Python\\\\Python37\\\\site-packages\\\\sklearn\\\\datasets\\\\data\\\\breast_cancer.csv'}\n"
     ]
    }
   ],
   "source": [
    "bc = load_breast_cancer()\n",
    "print(bc)"
   ]
  },
  {
   "cell_type": "code",
   "execution_count": 90,
   "metadata": {},
   "outputs": [
    {
     "name": "stdout",
     "output_type": "stream",
     "text": [
      "[[1.799e+01 1.038e+01 1.228e+02 ... 2.654e-01 4.601e-01 1.189e-01]\n",
      " [2.057e+01 1.777e+01 1.329e+02 ... 1.860e-01 2.750e-01 8.902e-02]\n",
      " [1.969e+01 2.125e+01 1.300e+02 ... 2.430e-01 3.613e-01 8.758e-02]\n",
      " ...\n",
      " [1.660e+01 2.808e+01 1.083e+02 ... 1.418e-01 2.218e-01 7.820e-02]\n",
      " [2.060e+01 2.933e+01 1.401e+02 ... 2.650e-01 4.087e-01 1.240e-01]\n",
      " [7.760e+00 2.454e+01 4.792e+01 ... 0.000e+00 2.871e-01 7.039e-02]]\n"
     ]
    }
   ],
   "source": [
    "x = bc.data #clustering problem so we only have and use features!\n",
    "print(x)"
   ]
  },
  {
   "cell_type": "code",
   "execution_count": 93,
   "metadata": {},
   "outputs": [],
   "source": [
    "x = scale(bc.data)\n",
    "x_train, x_test = train_test_split(x, test_size = 0.2)"
   ]
  },
  {
   "cell_type": "code",
   "execution_count": 95,
   "metadata": {},
   "outputs": [
    {
     "name": "stdout",
     "output_type": "stream",
     "text": [
      "[0 1 1 0 1 1 1 0 1 1 1 0 1 0 1 1 1 0 0 0 1 0 0 1 1 0 0 1 0 1 1 0 0 1 1 1 0\n",
      " 1 1 1 1 1 0 0 1 0 1 1 1 0 0 0 0 1 1 0 0 0 0 1 0 0 0 0 1 1 1 0 0 0 1 0 1 0\n",
      " 0 0 0 1 1 1 1 1 1 0 1 1 1 1 1 0 0 1 1 0 0 1 1 0 0 1 1 1 1 1 1 0 1 0 0 0 1\n",
      " 1 1 0 1 1 0 1 1 1 0 0 0 1 1 1 1 0 0 1 1 1 1 0 1 1 1 1 0 1 1 1 0 1 1 1 0 1\n",
      " 1 1 1 1 1 0 1 1 0 0 1 1 1 0 1 0 1 1 1 1 1 1 0 1 1 1 1 0 0 1 0 0 1 0 1 1 0\n",
      " 0 1 0 0 1 0 1 1 1 1 0 0 1 1 0 0 1 1 0 1 0 1 1 1 1 1 1 1 1 1 0 1 1 0 1 1 1\n",
      " 1 1 0 0 1 0 1 1 1 1 1 1 1 1 1 1 1 1 0 1 1 1 1 1 1 0 0 0 1 1 1 0 0 1 1 1 1\n",
      " 1 1 1 0 1 1 0 1 1 1 1 0 0 1 1 1 1 1 0 0 1 1 1 1 1 0 1 1 1 1 1 0 1 1 1 0 1\n",
      " 1 1 0 1 1 0 1 1 0 1 0 0 1 1 1 1 0 1 1 1 0 1 1 1 1 1 0 0 0 0 1 1 0 1 1 1 1\n",
      " 0 1 1 1 0 1 0 1 1 1 0 1 0 1 1 0 0 1 0 1 1 0 1 0 1 1 1 1 0 1 1 1 1 1 1 1 1\n",
      " 0 1 1 1 1 1 0 0 0 0 1 0 0 0 1 0 0 1 1 1 1 1 1 1 1 0 1 1 1 0 1 1 0 1 1 0 0\n",
      " 1 1 1 1 1 1 0 1 1 0 1 0 1 0 1 1 0 0 0 0 1 1 1 1 1 1 0 1 1 1 1 1 1 1 0 0 0\n",
      " 1 0 1 1 1 1 0 0 1 1 1]\n"
     ]
    }
   ],
   "source": [
    "model = KMeans(n_clusters = 2, random_state = 0)\n",
    "model.fit(x_train)\n",
    "pred = model.predict(x_test)\n",
    "labels = model.labels_\n",
    "print(labels)"
   ]
  },
  {
   "cell_type": "code",
   "execution_count": 167,
   "metadata": {},
   "outputs": [],
   "source": [
    "#another example with Iris\n",
    "from sklearn import datasets\n",
    "from sklearn.cluster import KMeans\n",
    "\n",
    "iris = datasets.load_iris()\n",
    "\n",
    "X = iris.data[:,0:2]\n",
    "y = iris.target"
   ]
  },
  {
   "cell_type": "code",
   "execution_count": 175,
   "metadata": {},
   "outputs": [],
   "source": [
    "X_train, X_test = train_test_split(X, test_size = 0.2)"
   ]
  },
  {
   "cell_type": "code",
   "execution_count": 176,
   "metadata": {},
   "outputs": [
    {
     "data": {
      "text/plain": [
       "array([1, 1, 1, 0, 2, 2, 2, 2, 0, 1, 2, 2, 1, 1, 1, 0, 2, 2, 2, 1, 2, 2,\n",
       "       2, 1, 0, 1, 1, 2, 0, 2])"
      ]
     },
     "execution_count": 176,
     "metadata": {},
     "output_type": "execute_result"
    }
   ],
   "source": [
    "KM = KMeans(n_clusters = 3)\n",
    "KM.fit(X_train)\n",
    "KM.predict(X_test)"
   ]
  },
  {
   "cell_type": "markdown",
   "metadata": {},
   "source": [
    "## Logistic Regression with Pipeline and ColumnTransformer"
   ]
  },
  {
   "cell_type": "code",
   "execution_count": 144,
   "metadata": {},
   "outputs": [],
   "source": [
    "from sklearn.datasets import load_breast_cancer\n",
    "data = load_breast_cancer()\n",
    "X = pd.DataFrame(data.data)\n",
    "y = pd.DataFrame(data.target)"
   ]
  },
  {
   "cell_type": "code",
   "execution_count": 145,
   "metadata": {},
   "outputs": [
    {
     "name": "stdout",
     "output_type": "stream",
     "text": [
      "(569, 30)\n",
      "(569, 1)\n",
      "1    357\n",
      "0    212\n",
      "dtype: int64\n"
     ]
    }
   ],
   "source": [
    "print(X.shape) #30 features\n",
    "print(y.shape)\n",
    "print(y.value_counts()) # 0,1 classes balanced enough"
   ]
  },
  {
   "cell_type": "code",
   "execution_count": 146,
   "metadata": {},
   "outputs": [
    {
     "name": "stdout",
     "output_type": "stream",
     "text": [
      "0.9736842105263158\n"
     ]
    }
   ],
   "source": [
    "from sklearn.pipeline import Pipeline\n",
    "from sklearn.compose import ColumnTransformer\n",
    "from sklearn.preprocessing import StandardScaler\n",
    "from sklearn.linear_model import LogisticRegression\n",
    "from sklearn.model_selection import train_test_split\n",
    "from sklearn.metrics import accuracy_score\n",
    "\n",
    "numeric_transformer = Pipeline([('scaler', StandardScaler())])\n",
    "preprocessor = ColumnTransformer(transformers = [('num', numeric_transformer, X.columns)])\n",
    "\n",
    "clf = Pipeline(steps = [('preprocessor',preprocessor),\n",
    "                        ('classifier', LogisticRegression())])\n",
    "\n",
    "X_train, X_test, y_train, y_test = train_test_split(X.values, y.values.reshape((569,)), test_size = 0.2)\n",
    "\n",
    "clf.fit(X_train, y_train)\n",
    "\n",
    "predictions = clf.predict(X_test)\n",
    "accuracy = accuracy_score(y_test, predictions)\n",
    "print(accuracy)"
   ]
  },
  {
   "cell_type": "markdown",
   "metadata": {},
   "source": [
    "## Naive Bayes"
   ]
  },
  {
   "cell_type": "code",
   "execution_count": 156,
   "metadata": {},
   "outputs": [],
   "source": [
    "from sklearn.datasets import load_breast_cancer\n",
    "from sklearn.naive_bayes import GaussianNB\n",
    "from sklearn.metrics import confusion_matrix"
   ]
  },
  {
   "cell_type": "code",
   "execution_count": 159,
   "metadata": {},
   "outputs": [
    {
     "name": "stdout",
     "output_type": "stream",
     "text": [
      "0.9122807017543859\n"
     ]
    }
   ],
   "source": [
    "data = load_breast_cancer()\n",
    "X = pd.DataFrame(data.data)\n",
    "y = pd.DataFrame(data.target)\n",
    "#no need for preprocessing (scaling/hot encoding)\n",
    "X_train, X_test, y_train, y_test = train_test_split(X.values, y.values.reshape((569,)), test_size = 0.2)\n",
    "\n",
    "NB_clf = GaussianNB()\n",
    "NB_clf.fit(X_train, y_train)\n",
    "\n",
    "predictions = NB_clf.predict(X_test)\n",
    "\n",
    "accuracy = accuracy_score(y_test, predictions)\n",
    "print(accuracy)"
   ]
  },
  {
   "cell_type": "code",
   "execution_count": 160,
   "metadata": {},
   "outputs": [
    {
     "data": {
      "text/plain": [
       "array([[149,  17],\n",
       "       [  7, 282]], dtype=int64)"
      ]
     },
     "execution_count": 160,
     "metadata": {},
     "output_type": "execute_result"
    }
   ],
   "source": [
    "confusion_matrix(y_train, NB_clf.predict(X_train))"
   ]
  },
  {
   "cell_type": "markdown",
   "metadata": {},
   "source": [
    "## Decision Trees and Random Forests"
   ]
  },
  {
   "cell_type": "code",
   "execution_count": 182,
   "metadata": {},
   "outputs": [
    {
     "data": {
      "text/html": [
       "<div>\n",
       "<style scoped>\n",
       "    .dataframe tbody tr th:only-of-type {\n",
       "        vertical-align: middle;\n",
       "    }\n",
       "\n",
       "    .dataframe tbody tr th {\n",
       "        vertical-align: top;\n",
       "    }\n",
       "\n",
       "    .dataframe thead th {\n",
       "        text-align: right;\n",
       "    }\n",
       "</style>\n",
       "<table border=\"1\" class=\"dataframe\">\n",
       "  <thead>\n",
       "    <tr style=\"text-align: right;\">\n",
       "      <th></th>\n",
       "      <th>buying</th>\n",
       "      <th>maint</th>\n",
       "      <th>doors</th>\n",
       "      <th>persons</th>\n",
       "      <th>lug_boot</th>\n",
       "      <th>safety</th>\n",
       "      <th>class</th>\n",
       "    </tr>\n",
       "  </thead>\n",
       "  <tbody>\n",
       "    <tr>\n",
       "      <th>0</th>\n",
       "      <td>vhigh</td>\n",
       "      <td>vhigh</td>\n",
       "      <td>2</td>\n",
       "      <td>2</td>\n",
       "      <td>small</td>\n",
       "      <td>med</td>\n",
       "      <td>unacc</td>\n",
       "    </tr>\n",
       "    <tr>\n",
       "      <th>1</th>\n",
       "      <td>vhigh</td>\n",
       "      <td>vhigh</td>\n",
       "      <td>2</td>\n",
       "      <td>2</td>\n",
       "      <td>small</td>\n",
       "      <td>high</td>\n",
       "      <td>unacc</td>\n",
       "    </tr>\n",
       "    <tr>\n",
       "      <th>2</th>\n",
       "      <td>vhigh</td>\n",
       "      <td>vhigh</td>\n",
       "      <td>2</td>\n",
       "      <td>2</td>\n",
       "      <td>med</td>\n",
       "      <td>low</td>\n",
       "      <td>unacc</td>\n",
       "    </tr>\n",
       "    <tr>\n",
       "      <th>3</th>\n",
       "      <td>vhigh</td>\n",
       "      <td>vhigh</td>\n",
       "      <td>2</td>\n",
       "      <td>2</td>\n",
       "      <td>med</td>\n",
       "      <td>med</td>\n",
       "      <td>unacc</td>\n",
       "    </tr>\n",
       "    <tr>\n",
       "      <th>4</th>\n",
       "      <td>vhigh</td>\n",
       "      <td>vhigh</td>\n",
       "      <td>2</td>\n",
       "      <td>2</td>\n",
       "      <td>med</td>\n",
       "      <td>high</td>\n",
       "      <td>unacc</td>\n",
       "    </tr>\n",
       "  </tbody>\n",
       "</table>\n",
       "</div>"
      ],
      "text/plain": [
       "  buying  maint doors persons lug_boot safety  class\n",
       "0  vhigh  vhigh     2       2    small    med  unacc\n",
       "1  vhigh  vhigh     2       2    small   high  unacc\n",
       "2  vhigh  vhigh     2       2      med    low  unacc\n",
       "3  vhigh  vhigh     2       2      med    med  unacc\n",
       "4  vhigh  vhigh     2       2      med   high  unacc"
      ]
     },
     "execution_count": 182,
     "metadata": {},
     "output_type": "execute_result"
    }
   ],
   "source": [
    "data = pd.read_csv('car.data')\n",
    "data.columns = ['buying', 'maint', 'doors', 'persons', 'lug_boot', 'safety', 'class']\n",
    "data.head()"
   ]
  },
  {
   "cell_type": "code",
   "execution_count": 185,
   "metadata": {},
   "outputs": [
    {
     "data": {
      "text/html": [
       "<div>\n",
       "<style scoped>\n",
       "    .dataframe tbody tr th:only-of-type {\n",
       "        vertical-align: middle;\n",
       "    }\n",
       "\n",
       "    .dataframe tbody tr th {\n",
       "        vertical-align: top;\n",
       "    }\n",
       "\n",
       "    .dataframe thead th {\n",
       "        text-align: right;\n",
       "    }\n",
       "</style>\n",
       "<table border=\"1\" class=\"dataframe\">\n",
       "  <thead>\n",
       "    <tr style=\"text-align: right;\">\n",
       "      <th></th>\n",
       "      <th>buying</th>\n",
       "      <th>maint</th>\n",
       "      <th>safety</th>\n",
       "      <th>class</th>\n",
       "    </tr>\n",
       "  </thead>\n",
       "  <tbody>\n",
       "    <tr>\n",
       "      <th>0</th>\n",
       "      <td>vhigh</td>\n",
       "      <td>vhigh</td>\n",
       "      <td>med</td>\n",
       "      <td>unacc</td>\n",
       "    </tr>\n",
       "    <tr>\n",
       "      <th>1</th>\n",
       "      <td>vhigh</td>\n",
       "      <td>vhigh</td>\n",
       "      <td>high</td>\n",
       "      <td>unacc</td>\n",
       "    </tr>\n",
       "    <tr>\n",
       "      <th>2</th>\n",
       "      <td>vhigh</td>\n",
       "      <td>vhigh</td>\n",
       "      <td>low</td>\n",
       "      <td>unacc</td>\n",
       "    </tr>\n",
       "    <tr>\n",
       "      <th>3</th>\n",
       "      <td>vhigh</td>\n",
       "      <td>vhigh</td>\n",
       "      <td>med</td>\n",
       "      <td>unacc</td>\n",
       "    </tr>\n",
       "    <tr>\n",
       "      <th>4</th>\n",
       "      <td>vhigh</td>\n",
       "      <td>vhigh</td>\n",
       "      <td>high</td>\n",
       "      <td>unacc</td>\n",
       "    </tr>\n",
       "  </tbody>\n",
       "</table>\n",
       "</div>"
      ],
      "text/plain": [
       "  buying  maint safety  class\n",
       "0  vhigh  vhigh    med  unacc\n",
       "1  vhigh  vhigh   high  unacc\n",
       "2  vhigh  vhigh    low  unacc\n",
       "3  vhigh  vhigh    med  unacc\n",
       "4  vhigh  vhigh   high  unacc"
      ]
     },
     "execution_count": 185,
     "metadata": {},
     "output_type": "execute_result"
    }
   ],
   "source": [
    "data = data[['buying','maint','safety','class']]\n",
    "data.head()"
   ]
  },
  {
   "cell_type": "code",
   "execution_count": 243,
   "metadata": {},
   "outputs": [],
   "source": [
    "from sklearn.preprocessing import OneHotEncoder\n",
    "from sklearn.preprocessing import LabelEncoder\n",
    "\n",
    "OHE = OneHotEncoder(drop='first', sparse = False)\n",
    "LE = LabelEncoder()\n",
    "\n",
    "X = data[['buying','maint']]\n",
    "y = data['class']\n",
    "\n",
    "X_train, X_test, y_train, y_test = train_test_split(X, y, test_size = 0.2)\n",
    "\n",
    "X_train = OHE.fit_transform(X_train)\n",
    "X_test = OHE.transform(X_test)\n",
    "\n",
    "y_train = LE.fit_transform(y_train)\n",
    "y_test = LE.transform(y_test)"
   ]
  },
  {
   "cell_type": "code",
   "execution_count": 244,
   "metadata": {},
   "outputs": [
    {
     "name": "stdout",
     "output_type": "stream",
     "text": [
      "0.6994219653179191\n"
     ]
    }
   ],
   "source": [
    "from sklearn.tree import DecisionTreeClassifier, plot_tree\n",
    "dt = DecisionTreeClassifier()\n",
    "dt.fit(X_train, y_train)\n",
    "pred = dt.predict(X_test)\n",
    "accuracy = accuracy_score(y_test, pred)\n",
    "print(accuracy)"
   ]
  },
  {
   "cell_type": "code",
   "execution_count": 246,
   "metadata": {},
   "outputs": [
    {
     "data": {
      "image/png": "[encoded data removed]",
      "text/plain": [
       "<Figure size 1080x540 with 1 Axes>"
      ]
     },
     "metadata": {
      "needs_background": "light"
     },
     "output_type": "display_data"
    }
   ],
   "source": [
    "plt.figure(figsize = (15, 7.5))\n",
    "plot_tree(dt, filled = True, rounded = True, class_names = list(LE.classes_), feature_names = list(OHE.get_feature_names(['buying','maint'])))\n",
    "plt.show()"
   ]
  },
  {
   "cell_type": "code",
   "execution_count": 241,
   "metadata": {},
   "outputs": [
    {
     "data": {
      "text/plain": [
       "array(['buying_low', 'buying_med', 'buying_vhigh', 'maint_low',\n",
       "       'maint_med', 'maint_vhigh', 'safety_low', 'safety_med'],\n",
       "      dtype=object)"
      ]
     },
     "execution_count": 241,
     "metadata": {},
     "output_type": "execute_result"
    }
   ],
   "source": [
    "OHE.get_feature_names(['buying','maint','safety'])"
   ]
  },
  {
   "cell_type": "code",
   "execution_count": 249,
   "metadata": {},
   "outputs": [],
   "source": [
    "#Random Forests"
   ]
  },
  {
   "cell_type": "code",
   "execution_count": 250,
   "metadata": {},
   "outputs": [
    {
     "name": "stdout",
     "output_type": "stream",
     "text": [
      "0.6994219653179191\n"
     ]
    }
   ],
   "source": [
    "from sklearn.ensemble import RandomForestClassifier\n",
    "rf = RandomForestClassifier(n_estimators = 100)\n",
    "rf.fit(X_train, y_train)\n",
    "pred = rf.predict(X_test)\n",
    "accuracy = accuracy_score(y_test, pred)\n",
    "print(accuracy)"
   ]
  },
  {
   "cell_type": "code",
   "execution_count": 261,
   "metadata": {},
   "outputs": [],
   "source": [
    "#let's see best set of hyperparameters now\n",
    "from sklearn.model_selection import GridSearchCV\n",
    "\n",
    "param_grd = {'max_depth':[80, 90],\n",
    "             'n_estimators':[100,200]}\n",
    "\n",
    "rf = RandomForestClassifier()\n",
    "\n",
    "grd = GridSearchCV(estimator = rf, param_grid = param_grd, cv = 3, n_jobs = -1, verbose = 2)"
   ]
  },
  {
   "cell_type": "code",
   "execution_count": 264,
   "metadata": {},
   "outputs": [],
   "source": [
    "grd.best_params_"
   ]
  },
  {
   "cell_type": "markdown",
   "metadata": {},
   "source": [
    "## Ensemble Learning"
   ]
  },
  {
   "cell_type": "markdown",
   "metadata": {},
   "source": [
    "It is the application of multiple models to obtain better performance than from a single model: combine individual models together. \n",
    "- higher predictive performance (accuracy)\n",
    "- multiple ml models into one predictive models (robustness)\n",
    "\n",
    "How:\n",
    "- decrease variance using bagging (parallel or bootstrap)\n",
    "- decrease bias using boosting (sequential)\n",
    "- improve prediction using stacking\n",
    "\n",
    "Two groups:\n",
    "- sequential methods: base learners generated consecutively (AdaBoosting), use dependence by weighing previously mislabelled items more\n",
    "- parallel methods: base learners generated in parallel (RandomForest), use independence between base learners\n",
    "\n",
    "Averaging: this is a way to do ensamble learning (e.g mode of predictions of the class aka majority class)\n",
    "\n",
    "Weighted averaging: the contribution is weighted based on the performance of each model in the ensamble\n",
    "\n",
    "Random Forest is an example of ensemble machine learning method: uses decision trees\n",
    "\n",
    "Boosting:\n",
    "- train the model\n",
    "- identify items or regions where the first model produces errors and add weights to them and then train the secondo model\n",
    "- aggregate those samples for which model 1 gives a different result than model 2, build model 3....\n",
    "\n",
    "Different algorithms for Boosting:\n",
    "- XGBoost -> it grows (splits) the tree level-wise\n",
    "- Light GBM -> it grows (splits) the tree leaf-wise - can overfit so use hyperparameters\n",
    "- and of course, also sklearn algorithms which usually are not as precise at the above two though\n",
    "- CatBoost -> useful for categorical data, but slower"
   ]
  },
  {
   "cell_type": "code",
   "execution_count": 272,
   "metadata": {},
   "outputs": [
    {
     "data": {
      "text/html": [
       "<div>\n",
       "<style scoped>\n",
       "    .dataframe tbody tr th:only-of-type {\n",
       "        vertical-align: middle;\n",
       "    }\n",
       "\n",
       "    .dataframe tbody tr th {\n",
       "        vertical-align: top;\n",
       "    }\n",
       "\n",
       "    .dataframe thead th {\n",
       "        text-align: right;\n",
       "    }\n",
       "</style>\n",
       "<table border=\"1\" class=\"dataframe\">\n",
       "  <thead>\n",
       "    <tr style=\"text-align: right;\">\n",
       "      <th></th>\n",
       "      <th>buying</th>\n",
       "      <th>maint</th>\n",
       "      <th>doors</th>\n",
       "      <th>persons</th>\n",
       "      <th>lug_boot</th>\n",
       "      <th>safety</th>\n",
       "      <th>class</th>\n",
       "    </tr>\n",
       "  </thead>\n",
       "  <tbody>\n",
       "    <tr>\n",
       "      <th>0</th>\n",
       "      <td>vhigh</td>\n",
       "      <td>vhigh</td>\n",
       "      <td>2</td>\n",
       "      <td>2</td>\n",
       "      <td>small</td>\n",
       "      <td>med</td>\n",
       "      <td>unacc</td>\n",
       "    </tr>\n",
       "    <tr>\n",
       "      <th>1</th>\n",
       "      <td>vhigh</td>\n",
       "      <td>vhigh</td>\n",
       "      <td>2</td>\n",
       "      <td>2</td>\n",
       "      <td>small</td>\n",
       "      <td>high</td>\n",
       "      <td>unacc</td>\n",
       "    </tr>\n",
       "    <tr>\n",
       "      <th>2</th>\n",
       "      <td>vhigh</td>\n",
       "      <td>vhigh</td>\n",
       "      <td>2</td>\n",
       "      <td>2</td>\n",
       "      <td>med</td>\n",
       "      <td>low</td>\n",
       "      <td>unacc</td>\n",
       "    </tr>\n",
       "    <tr>\n",
       "      <th>3</th>\n",
       "      <td>vhigh</td>\n",
       "      <td>vhigh</td>\n",
       "      <td>2</td>\n",
       "      <td>2</td>\n",
       "      <td>med</td>\n",
       "      <td>med</td>\n",
       "      <td>unacc</td>\n",
       "    </tr>\n",
       "    <tr>\n",
       "      <th>4</th>\n",
       "      <td>vhigh</td>\n",
       "      <td>vhigh</td>\n",
       "      <td>2</td>\n",
       "      <td>2</td>\n",
       "      <td>med</td>\n",
       "      <td>high</td>\n",
       "      <td>unacc</td>\n",
       "    </tr>\n",
       "  </tbody>\n",
       "</table>\n",
       "</div>"
      ],
      "text/plain": [
       "  buying  maint doors persons lug_boot safety  class\n",
       "0  vhigh  vhigh     2       2    small    med  unacc\n",
       "1  vhigh  vhigh     2       2    small   high  unacc\n",
       "2  vhigh  vhigh     2       2      med    low  unacc\n",
       "3  vhigh  vhigh     2       2      med    med  unacc\n",
       "4  vhigh  vhigh     2       2      med   high  unacc"
      ]
     },
     "execution_count": 272,
     "metadata": {},
     "output_type": "execute_result"
    }
   ],
   "source": [
    "data = pd.read_csv('car.data')\n",
    "data.columns = ['buying', 'maint', 'doors', 'persons', 'lug_boot', 'safety', 'class']\n",
    "data.head()"
   ]
  },
  {
   "cell_type": "code",
   "execution_count": 274,
   "metadata": {},
   "outputs": [],
   "source": [
    "from sklearn.preprocessing import OneHotEncoder\n",
    "from sklearn.preprocessing import LabelEncoder\n",
    "\n",
    "OHE = OneHotEncoder(drop='first', sparse = False)\n",
    "LE = LabelEncoder()\n",
    "\n",
    "X = data[['buying', 'maint', 'doors', 'persons', 'lug_boot', 'safety']]\n",
    "y = data['class']\n",
    "\n",
    "X_train, X_test, y_train, y_test = train_test_split(X, y, test_size = 0.2)\n",
    "\n",
    "X_train = OHE.fit_transform(X_train)\n",
    "X_test = OHE.transform(X_test)\n",
    "\n",
    "y_train = LE.fit_transform(y_train)\n",
    "y_test = LE.transform(y_test)"
   ]
  },
  {
   "cell_type": "code",
   "execution_count": 278,
   "metadata": {},
   "outputs": [
    {
     "name": "stdout",
     "output_type": "stream",
     "text": [
      "0.9682080924855492\n",
      "[[ 73   1   0   1]\n",
      " [  1  13   0   1]\n",
      " [  6   1 241   0]\n",
      " [  0   0   0   8]]\n"
     ]
    }
   ],
   "source": [
    "from sklearn.ensemble import GradientBoostingClassifier\n",
    "\n",
    "model1 = GradientBoostingClassifier()\n",
    "model1.fit(X_train, y_train)\n",
    "pred = model1.predict(X_test)\n",
    "print(accuracy_score(y_test, pred))\n",
    "print(confusion_matrix(y_test, pred))"
   ]
  },
  {
   "cell_type": "code",
   "execution_count": 279,
   "metadata": {},
   "outputs": [
    {
     "name": "stdout",
     "output_type": "stream",
     "text": [
      "1.0\n",
      "[[ 75   0   0   0]\n",
      " [  0  15   0   0]\n",
      " [  0   0 248   0]\n",
      " [  0   0   0   8]]\n"
     ]
    }
   ],
   "source": [
    "from sklearn.experimental import enable_hist_gradient_boosting\n",
    "from sklearn.ensemble import HistGradientBoostingClassifier\n",
    "\"\"\"\n",
    "alternative to GradientBoosting based on the lightGBM library - normally a bit faster, but experimental!\n",
    "\"\"\"\n",
    "\n",
    "model2 = HistGradientBoostingClassifier()\n",
    "model2.fit(X_train, y_train)\n",
    "pred = model2.predict(X_test)\n",
    "print(accuracy_score(y_test, pred))\n",
    "print(confusion_matrix(y_test, pred))"
   ]
  },
  {
   "cell_type": "code",
   "execution_count": 280,
   "metadata": {},
   "outputs": [
    {
     "name": "stdout",
     "output_type": "stream",
     "text": [
      "0.9508670520231214\n",
      "[[ 71   1   2   1]\n",
      " [  2  12   0   1]\n",
      " [  7   1 240   0]\n",
      " [  1   1   0   6]]\n"
     ]
    }
   ],
   "source": [
    "from xgboost import XGBClassifier\n",
    "\n",
    "model3 = XGBClassifier()\n",
    "model3.fit(X_train, y_train)\n",
    "pred = model3.predict(X_test)\n",
    "print(accuracy_score(y_test, pred))\n",
    "print(confusion_matrix(y_test, pred))"
   ]
  },
  {
   "cell_type": "code",
   "execution_count": 281,
   "metadata": {},
   "outputs": [
    {
     "name": "stdout",
     "output_type": "stream",
     "text": [
      "0.9913294797687862\n",
      "[[ 74   1   0   0]\n",
      " [  1  14   0   0]\n",
      " [  1   0 247   0]\n",
      " [  0   0   0   8]]\n"
     ]
    }
   ],
   "source": [
    "from lightgbm import LGBMClassifier\n",
    "\n",
    "model4 = LGBMClassifier()\n",
    "model4.fit(X_train, y_train)\n",
    "pred = model4.predict(X_test)\n",
    "print(accuracy_score(y_test, pred))\n",
    "print(confusion_matrix(y_test, pred))"
   ]
  },
  {
   "cell_type": "code",
   "execution_count": 282,
   "metadata": {},
   "outputs": [
    {
     "name": "stdout",
     "output_type": "stream",
     "text": [
      "Learning rate set to 0.018357\n",
      "0:\tlearn: 0.6659330\ttotal: 156ms\tremaining: 2m 35s\n",
      "1:\tlearn: 0.6473548\ttotal: 278ms\tremaining: 2m 18s\n",
      "2:\tlearn: 0.6247005\ttotal: 429ms\tremaining: 2m 22s\n",
      "3:\tlearn: 0.6036201\ttotal: 574ms\tremaining: 2m 22s\n",
      "4:\tlearn: 0.5804631\ttotal: 664ms\tremaining: 2m 12s\n",
      "5:\tlearn: 0.5608755\ttotal: 795ms\tremaining: 2m 11s\n",
      "6:\tlearn: 0.5435631\ttotal: 1.09s\tremaining: 2m 34s\n",
      "7:\tlearn: 0.5305766\ttotal: 1.26s\tremaining: 2m 36s\n",
      "8:\tlearn: 0.5145876\ttotal: 1.38s\tremaining: 2m 31s\n",
      "9:\tlearn: 0.5058541\ttotal: 1.49s\tremaining: 2m 27s\n",
      "10:\tlearn: 0.4932625\ttotal: 1.62s\tremaining: 2m 25s\n",
      "11:\tlearn: 0.4894176\ttotal: 1.73s\tremaining: 2m 22s\n",
      "12:\tlearn: 0.4798820\ttotal: 1.79s\tremaining: 2m 15s\n",
      "13:\tlearn: 0.4721563\ttotal: 1.89s\tremaining: 2m 13s\n",
      "14:\tlearn: 0.4614320\ttotal: 2.03s\tremaining: 2m 13s\n",
      "15:\tlearn: 0.4500321\ttotal: 2.16s\tremaining: 2m 13s\n",
      "16:\tlearn: 0.4405496\ttotal: 2.3s\tremaining: 2m 12s\n",
      "17:\tlearn: 0.4306649\ttotal: 2.43s\tremaining: 2m 12s\n",
      "18:\tlearn: 0.4240043\ttotal: 2.56s\tremaining: 2m 12s\n",
      "19:\tlearn: 0.4159788\ttotal: 2.68s\tremaining: 2m 11s\n",
      "20:\tlearn: 0.4071596\ttotal: 2.84s\tremaining: 2m 12s\n",
      "21:\tlearn: 0.3992404\ttotal: 2.94s\tremaining: 2m 10s\n",
      "22:\tlearn: 0.3911561\ttotal: 3.01s\tremaining: 2m 7s\n",
      "23:\tlearn: 0.3851307\ttotal: 3.14s\tremaining: 2m 7s\n",
      "24:\tlearn: 0.3789070\ttotal: 3.27s\tremaining: 2m 7s\n",
      "25:\tlearn: 0.3753046\ttotal: 3.36s\tremaining: 2m 5s\n",
      "26:\tlearn: 0.3693060\ttotal: 3.48s\tremaining: 2m 5s\n",
      "27:\tlearn: 0.3638148\ttotal: 3.6s\tremaining: 2m 5s\n",
      "28:\tlearn: 0.3581492\ttotal: 3.68s\tremaining: 2m 3s\n",
      "29:\tlearn: 0.3529485\ttotal: 3.8s\tremaining: 2m 2s\n",
      "30:\tlearn: 0.3490834\ttotal: 3.96s\tremaining: 2m 3s\n",
      "31:\tlearn: 0.3454901\ttotal: 4.11s\tremaining: 2m 4s\n",
      "32:\tlearn: 0.3407287\ttotal: 4.24s\tremaining: 2m 4s\n",
      "33:\tlearn: 0.3372920\ttotal: 4.36s\tremaining: 2m 3s\n",
      "34:\tlearn: 0.3350897\ttotal: 4.5s\tremaining: 2m 4s\n",
      "35:\tlearn: 0.3316417\ttotal: 4.66s\tremaining: 2m 4s\n",
      "36:\tlearn: 0.3281593\ttotal: 4.79s\tremaining: 2m 4s\n",
      "37:\tlearn: 0.3247209\ttotal: 4.88s\tremaining: 2m 3s\n",
      "38:\tlearn: 0.3244128\ttotal: 4.96s\tremaining: 2m 2s\n",
      "39:\tlearn: 0.3192239\ttotal: 5.09s\tremaining: 2m 2s\n",
      "40:\tlearn: 0.3154992\ttotal: 5.24s\tremaining: 2m 2s\n",
      "41:\tlearn: 0.3138403\ttotal: 5.34s\tremaining: 2m 1s\n",
      "42:\tlearn: 0.3136553\ttotal: 5.4s\tremaining: 2m\n",
      "43:\tlearn: 0.3113615\ttotal: 5.53s\tremaining: 2m\n",
      "44:\tlearn: 0.3087420\ttotal: 5.65s\tremaining: 1m 59s\n",
      "45:\tlearn: 0.3065590\ttotal: 5.79s\tremaining: 2m\n",
      "46:\tlearn: 0.3052184\ttotal: 5.84s\tremaining: 1m 58s\n",
      "47:\tlearn: 0.3039570\ttotal: 5.97s\tremaining: 1m 58s\n",
      "48:\tlearn: 0.3011314\ttotal: 6.14s\tremaining: 1m 59s\n",
      "49:\tlearn: 0.2976672\ttotal: 6.33s\tremaining: 2m\n",
      "50:\tlearn: 0.2950670\ttotal: 6.5s\tremaining: 2m\n",
      "51:\tlearn: 0.2932555\ttotal: 6.9s\tremaining: 2m 5s\n",
      "52:\tlearn: 0.2913175\ttotal: 7.07s\tremaining: 2m 6s\n",
      "53:\tlearn: 0.2881460\ttotal: 7.25s\tremaining: 2m 6s\n",
      "54:\tlearn: 0.2858260\ttotal: 7.42s\tremaining: 2m 7s\n",
      "55:\tlearn: 0.2826113\ttotal: 7.68s\tremaining: 2m 9s\n",
      "56:\tlearn: 0.2800816\ttotal: 7.81s\tremaining: 2m 9s\n",
      "57:\tlearn: 0.2787888\ttotal: 7.94s\tremaining: 2m 9s\n",
      "58:\tlearn: 0.2771208\ttotal: 8.09s\tremaining: 2m 9s\n",
      "59:\tlearn: 0.2748336\ttotal: 8.25s\tremaining: 2m 9s\n",
      "60:\tlearn: 0.2747944\ttotal: 8.31s\tremaining: 2m 7s\n",
      "61:\tlearn: 0.2728004\ttotal: 8.42s\tremaining: 2m 7s\n",
      "62:\tlearn: 0.2691323\ttotal: 8.56s\tremaining: 2m 7s\n",
      "63:\tlearn: 0.2685177\ttotal: 8.64s\tremaining: 2m 6s\n",
      "64:\tlearn: 0.2678878\ttotal: 8.74s\tremaining: 2m 5s\n",
      "65:\tlearn: 0.2656813\ttotal: 8.92s\tremaining: 2m 6s\n",
      "66:\tlearn: 0.2648594\ttotal: 9.04s\tremaining: 2m 5s\n",
      "67:\tlearn: 0.2645171\ttotal: 9.12s\tremaining: 2m 4s\n",
      "68:\tlearn: 0.2626061\ttotal: 9.24s\tremaining: 2m 4s\n",
      "69:\tlearn: 0.2625279\ttotal: 9.32s\tremaining: 2m 3s\n",
      "70:\tlearn: 0.2609477\ttotal: 9.45s\tremaining: 2m 3s\n",
      "71:\tlearn: 0.2596453\ttotal: 9.55s\tremaining: 2m 3s\n",
      "72:\tlearn: 0.2579746\ttotal: 9.7s\tremaining: 2m 3s\n",
      "73:\tlearn: 0.2566067\ttotal: 9.8s\tremaining: 2m 2s\n",
      "74:\tlearn: 0.2554927\ttotal: 9.92s\tremaining: 2m 2s\n",
      "75:\tlearn: 0.2535023\ttotal: 10.1s\tremaining: 2m 2s\n",
      "76:\tlearn: 0.2513345\ttotal: 10.2s\tremaining: 2m 2s\n",
      "77:\tlearn: 0.2495912\ttotal: 10.4s\tremaining: 2m 2s\n",
      "78:\tlearn: 0.2492037\ttotal: 10.4s\tremaining: 2m 1s\n",
      "79:\tlearn: 0.2492034\ttotal: 10.5s\tremaining: 2m\n",
      "80:\tlearn: 0.2488313\ttotal: 10.6s\tremaining: 2m\n",
      "81:\tlearn: 0.2475703\ttotal: 10.8s\tremaining: 2m\n",
      "82:\tlearn: 0.2474122\ttotal: 10.8s\tremaining: 1m 59s\n",
      "83:\tlearn: 0.2456715\ttotal: 11s\tremaining: 1m 59s\n",
      "84:\tlearn: 0.2449010\ttotal: 11.1s\tremaining: 1m 59s\n",
      "85:\tlearn: 0.2449005\ttotal: 11.1s\tremaining: 1m 58s\n",
      "86:\tlearn: 0.2445776\ttotal: 11.2s\tremaining: 1m 57s\n",
      "87:\tlearn: 0.2435401\ttotal: 11.3s\tremaining: 1m 57s\n",
      "88:\tlearn: 0.2435321\ttotal: 11.3s\tremaining: 1m 56s\n",
      "89:\tlearn: 0.2416038\ttotal: 11.5s\tremaining: 1m 56s\n",
      "90:\tlearn: 0.2388185\ttotal: 11.6s\tremaining: 1m 56s\n",
      "91:\tlearn: 0.2385474\ttotal: 11.8s\tremaining: 1m 56s\n",
      "92:\tlearn: 0.2364518\ttotal: 11.9s\tremaining: 1m 56s\n",
      "93:\tlearn: 0.2338572\ttotal: 12s\tremaining: 1m 56s\n",
      "94:\tlearn: 0.2337343\ttotal: 12.3s\tremaining: 1m 56s\n",
      "95:\tlearn: 0.2319425\ttotal: 12.7s\tremaining: 1m 59s\n",
      "96:\tlearn: 0.2304778\ttotal: 12.8s\tremaining: 1m 59s\n",
      "97:\tlearn: 0.2300496\ttotal: 13s\tremaining: 1m 59s\n",
      "98:\tlearn: 0.2292413\ttotal: 13.2s\tremaining: 1m 59s\n",
      "99:\tlearn: 0.2283395\ttotal: 13.3s\tremaining: 1m 59s\n",
      "100:\tlearn: 0.2260069\ttotal: 13.4s\tremaining: 1m 59s\n",
      "101:\tlearn: 0.2252514\ttotal: 13.6s\tremaining: 1m 59s\n",
      "102:\tlearn: 0.2243447\ttotal: 13.8s\tremaining: 1m 59s\n",
      "103:\tlearn: 0.2241714\ttotal: 13.8s\tremaining: 1m 59s\n",
      "104:\tlearn: 0.2234084\ttotal: 13.9s\tremaining: 1m 58s\n",
      "105:\tlearn: 0.2228203\ttotal: 14.1s\tremaining: 1m 58s\n",
      "106:\tlearn: 0.2222781\ttotal: 14.2s\tremaining: 1m 58s\n",
      "107:\tlearn: 0.2208545\ttotal: 14.5s\tremaining: 1m 59s\n",
      "108:\tlearn: 0.2196788\ttotal: 14.6s\tremaining: 1m 59s\n",
      "109:\tlearn: 0.2191244\ttotal: 14.7s\tremaining: 1m 58s\n",
      "110:\tlearn: 0.2189675\ttotal: 14.8s\tremaining: 1m 58s\n",
      "111:\tlearn: 0.2189394\ttotal: 14.9s\tremaining: 1m 57s\n",
      "112:\tlearn: 0.2187547\ttotal: 15s\tremaining: 1m 57s\n",
      "113:\tlearn: 0.2174159\ttotal: 15.1s\tremaining: 1m 57s\n",
      "114:\tlearn: 0.2172447\ttotal: 15.2s\tremaining: 1m 56s\n",
      "115:\tlearn: 0.2170665\ttotal: 15.3s\tremaining: 1m 56s\n",
      "116:\tlearn: 0.2169252\ttotal: 15.4s\tremaining: 1m 56s\n",
      "117:\tlearn: 0.2146505\ttotal: 15.6s\tremaining: 1m 56s\n",
      "118:\tlearn: 0.2136611\ttotal: 15.8s\tremaining: 1m 57s\n",
      "119:\tlearn: 0.2135091\ttotal: 16s\tremaining: 1m 57s\n",
      "120:\tlearn: 0.2126209\ttotal: 16.2s\tremaining: 1m 57s\n",
      "121:\tlearn: 0.2120787\ttotal: 16.3s\tremaining: 1m 57s\n",
      "122:\tlearn: 0.2114553\ttotal: 16.4s\tremaining: 1m 57s\n",
      "123:\tlearn: 0.2113198\ttotal: 16.5s\tremaining: 1m 56s\n",
      "124:\tlearn: 0.2105372\ttotal: 16.9s\tremaining: 1m 58s\n",
      "125:\tlearn: 0.2090809\ttotal: 17.5s\tremaining: 2m 1s\n",
      "126:\tlearn: 0.2086710\ttotal: 17.6s\tremaining: 2m 1s\n",
      "127:\tlearn: 0.2085579\ttotal: 17.7s\tremaining: 2m\n",
      "128:\tlearn: 0.2081172\ttotal: 17.9s\tremaining: 2m\n",
      "129:\tlearn: 0.2078496\ttotal: 18s\tremaining: 2m\n",
      "130:\tlearn: 0.2078216\ttotal: 18.1s\tremaining: 2m\n",
      "131:\tlearn: 0.2070297\ttotal: 18.2s\tremaining: 1m 59s\n",
      "132:\tlearn: 0.2066265\ttotal: 18.4s\tremaining: 1m 59s\n",
      "133:\tlearn: 0.2062719\ttotal: 18.6s\tremaining: 2m\n",
      "134:\tlearn: 0.2062511\ttotal: 18.7s\tremaining: 1m 59s\n",
      "135:\tlearn: 0.2062003\ttotal: 18.8s\tremaining: 1m 59s\n",
      "136:\tlearn: 0.2057807\ttotal: 18.9s\tremaining: 1m 59s\n",
      "137:\tlearn: 0.2054170\ttotal: 19.1s\tremaining: 1m 58s\n",
      "138:\tlearn: 0.2033189\ttotal: 19.3s\tremaining: 1m 59s\n",
      "139:\tlearn: 0.2023995\ttotal: 19.5s\tremaining: 1m 59s\n",
      "140:\tlearn: 0.2019305\ttotal: 19.6s\tremaining: 1m 59s\n",
      "141:\tlearn: 0.2018448\ttotal: 19.7s\tremaining: 1m 59s\n",
      "142:\tlearn: 0.2017913\ttotal: 19.8s\tremaining: 1m 58s\n",
      "143:\tlearn: 0.2001205\ttotal: 20s\tremaining: 1m 58s\n",
      "144:\tlearn: 0.1997504\ttotal: 20.1s\tremaining: 1m 58s\n",
      "145:\tlearn: 0.1996333\ttotal: 20.2s\tremaining: 1m 58s\n",
      "146:\tlearn: 0.1991231\ttotal: 20.4s\tremaining: 1m 58s\n",
      "147:\tlearn: 0.1990286\ttotal: 20.5s\tremaining: 1m 57s\n",
      "148:\tlearn: 0.1989346\ttotal: 20.6s\tremaining: 1m 57s\n",
      "149:\tlearn: 0.1986023\ttotal: 20.7s\tremaining: 1m 57s\n",
      "150:\tlearn: 0.1983221\ttotal: 20.9s\tremaining: 1m 57s\n",
      "151:\tlearn: 0.1980246\ttotal: 21s\tremaining: 1m 57s\n",
      "152:\tlearn: 0.1961708\ttotal: 21.2s\tremaining: 1m 57s\n",
      "153:\tlearn: 0.1958402\ttotal: 21.3s\tremaining: 1m 57s\n",
      "154:\tlearn: 0.1944604\ttotal: 21.6s\tremaining: 1m 57s\n",
      "155:\tlearn: 0.1937014\ttotal: 21.8s\tremaining: 1m 57s\n",
      "156:\tlearn: 0.1928726\ttotal: 21.9s\tremaining: 1m 57s\n",
      "157:\tlearn: 0.1928556\ttotal: 22s\tremaining: 1m 57s\n",
      "158:\tlearn: 0.1910960\ttotal: 22.2s\tremaining: 1m 57s\n",
      "159:\tlearn: 0.1908100\ttotal: 22.3s\tremaining: 1m 57s\n"
     ]
    },
    {
     "name": "stdout",
     "output_type": "stream",
     "text": [
      "160:\tlearn: 0.1900074\ttotal: 22.5s\tremaining: 1m 57s\n",
      "161:\tlearn: 0.1899305\ttotal: 22.6s\tremaining: 1m 56s\n",
      "162:\tlearn: 0.1891456\ttotal: 22.8s\tremaining: 1m 56s\n",
      "163:\tlearn: 0.1884878\ttotal: 22.9s\tremaining: 1m 56s\n",
      "164:\tlearn: 0.1884219\ttotal: 23s\tremaining: 1m 56s\n",
      "165:\tlearn: 0.1882784\ttotal: 23.1s\tremaining: 1m 56s\n",
      "166:\tlearn: 0.1857424\ttotal: 23.3s\tremaining: 1m 55s\n",
      "167:\tlearn: 0.1848517\ttotal: 23.4s\tremaining: 1m 56s\n",
      "168:\tlearn: 0.1830470\ttotal: 23.6s\tremaining: 1m 56s\n",
      "169:\tlearn: 0.1824804\ttotal: 23.7s\tremaining: 1m 55s\n",
      "170:\tlearn: 0.1817428\ttotal: 23.9s\tremaining: 1m 55s\n",
      "171:\tlearn: 0.1813460\ttotal: 24s\tremaining: 1m 55s\n",
      "172:\tlearn: 0.1805715\ttotal: 24.2s\tremaining: 1m 55s\n",
      "173:\tlearn: 0.1794593\ttotal: 24.4s\tremaining: 1m 55s\n",
      "174:\tlearn: 0.1793976\ttotal: 24.5s\tremaining: 1m 55s\n",
      "175:\tlearn: 0.1787636\ttotal: 24.8s\tremaining: 1m 55s\n",
      "176:\tlearn: 0.1787472\ttotal: 24.8s\tremaining: 1m 55s\n",
      "177:\tlearn: 0.1786751\ttotal: 25s\tremaining: 1m 55s\n",
      "178:\tlearn: 0.1785827\ttotal: 25.1s\tremaining: 1m 55s\n",
      "179:\tlearn: 0.1785316\ttotal: 25.3s\tremaining: 1m 55s\n",
      "180:\tlearn: 0.1782585\ttotal: 25.4s\tremaining: 1m 54s\n",
      "181:\tlearn: 0.1782228\ttotal: 25.5s\tremaining: 1m 54s\n",
      "182:\tlearn: 0.1775446\ttotal: 25.7s\tremaining: 1m 54s\n",
      "183:\tlearn: 0.1770844\ttotal: 25.9s\tremaining: 1m 54s\n",
      "184:\tlearn: 0.1769262\ttotal: 26s\tremaining: 1m 54s\n",
      "185:\tlearn: 0.1768302\ttotal: 26.2s\tremaining: 1m 54s\n",
      "186:\tlearn: 0.1768227\ttotal: 26.3s\tremaining: 1m 54s\n",
      "187:\tlearn: 0.1767418\ttotal: 26.4s\tremaining: 1m 53s\n",
      "188:\tlearn: 0.1765451\ttotal: 26.6s\tremaining: 1m 53s\n",
      "189:\tlearn: 0.1765404\ttotal: 26.6s\tremaining: 1m 53s\n",
      "190:\tlearn: 0.1764514\ttotal: 26.7s\tremaining: 1m 53s\n",
      "191:\tlearn: 0.1763236\ttotal: 26.9s\tremaining: 1m 53s\n",
      "192:\tlearn: 0.1760421\ttotal: 27.1s\tremaining: 1m 53s\n",
      "193:\tlearn: 0.1754500\ttotal: 27.2s\tremaining: 1m 53s\n",
      "194:\tlearn: 0.1738436\ttotal: 27.4s\tremaining: 1m 53s\n",
      "195:\tlearn: 0.1722631\ttotal: 27.6s\tremaining: 1m 53s\n",
      "196:\tlearn: 0.1722102\ttotal: 27.7s\tremaining: 1m 52s\n",
      "197:\tlearn: 0.1721927\ttotal: 27.8s\tremaining: 1m 52s\n",
      "198:\tlearn: 0.1720285\ttotal: 27.9s\tremaining: 1m 52s\n",
      "199:\tlearn: 0.1719768\ttotal: 28s\tremaining: 1m 51s\n",
      "200:\tlearn: 0.1717099\ttotal: 28.1s\tremaining: 1m 51s\n",
      "201:\tlearn: 0.1712597\ttotal: 28.3s\tremaining: 1m 51s\n",
      "202:\tlearn: 0.1700936\ttotal: 28.4s\tremaining: 1m 51s\n",
      "203:\tlearn: 0.1700215\ttotal: 28.5s\tremaining: 1m 51s\n",
      "204:\tlearn: 0.1679216\ttotal: 28.7s\tremaining: 1m 51s\n",
      "205:\tlearn: 0.1674789\ttotal: 28.8s\tremaining: 1m 50s\n",
      "206:\tlearn: 0.1672304\ttotal: 28.9s\tremaining: 1m 50s\n",
      "207:\tlearn: 0.1667685\ttotal: 29.1s\tremaining: 1m 50s\n",
      "208:\tlearn: 0.1667353\ttotal: 29.1s\tremaining: 1m 50s\n",
      "209:\tlearn: 0.1661463\ttotal: 29.3s\tremaining: 1m 50s\n",
      "210:\tlearn: 0.1659822\ttotal: 29.4s\tremaining: 1m 50s\n",
      "211:\tlearn: 0.1659019\ttotal: 29.5s\tremaining: 1m 49s\n",
      "212:\tlearn: 0.1658569\ttotal: 29.6s\tremaining: 1m 49s\n",
      "213:\tlearn: 0.1648420\ttotal: 29.8s\tremaining: 1m 49s\n",
      "214:\tlearn: 0.1647227\ttotal: 29.9s\tremaining: 1m 49s\n",
      "215:\tlearn: 0.1646821\ttotal: 30s\tremaining: 1m 48s\n",
      "216:\tlearn: 0.1634583\ttotal: 30.2s\tremaining: 1m 48s\n",
      "217:\tlearn: 0.1630459\ttotal: 30.3s\tremaining: 1m 48s\n",
      "218:\tlearn: 0.1629957\ttotal: 30.4s\tremaining: 1m 48s\n",
      "219:\tlearn: 0.1627995\ttotal: 30.5s\tremaining: 1m 48s\n",
      "220:\tlearn: 0.1627647\ttotal: 30.6s\tremaining: 1m 47s\n",
      "221:\tlearn: 0.1627595\ttotal: 30.6s\tremaining: 1m 47s\n",
      "222:\tlearn: 0.1621462\ttotal: 30.8s\tremaining: 1m 47s\n",
      "223:\tlearn: 0.1616230\ttotal: 31s\tremaining: 1m 47s\n",
      "224:\tlearn: 0.1616179\ttotal: 31.1s\tremaining: 1m 47s\n",
      "225:\tlearn: 0.1604600\ttotal: 31.2s\tremaining: 1m 46s\n",
      "226:\tlearn: 0.1603892\ttotal: 31.3s\tremaining: 1m 46s\n",
      "227:\tlearn: 0.1595399\ttotal: 31.5s\tremaining: 1m 46s\n",
      "228:\tlearn: 0.1588402\ttotal: 31.6s\tremaining: 1m 46s\n",
      "229:\tlearn: 0.1575681\ttotal: 31.7s\tremaining: 1m 46s\n",
      "230:\tlearn: 0.1573498\ttotal: 31.9s\tremaining: 1m 46s\n",
      "231:\tlearn: 0.1573154\ttotal: 32s\tremaining: 1m 45s\n",
      "232:\tlearn: 0.1573105\ttotal: 32s\tremaining: 1m 45s\n",
      "233:\tlearn: 0.1569740\ttotal: 32.2s\tremaining: 1m 45s\n",
      "234:\tlearn: 0.1568821\ttotal: 32.3s\tremaining: 1m 45s\n",
      "235:\tlearn: 0.1560561\ttotal: 32.4s\tremaining: 1m 45s\n",
      "236:\tlearn: 0.1556484\ttotal: 32.6s\tremaining: 1m 44s\n",
      "237:\tlearn: 0.1555893\ttotal: 32.7s\tremaining: 1m 44s\n",
      "238:\tlearn: 0.1553651\ttotal: 32.8s\tremaining: 1m 44s\n",
      "239:\tlearn: 0.1543522\ttotal: 33s\tremaining: 1m 44s\n",
      "240:\tlearn: 0.1543432\ttotal: 33s\tremaining: 1m 44s\n",
      "241:\tlearn: 0.1537573\ttotal: 33.2s\tremaining: 1m 43s\n",
      "242:\tlearn: 0.1537285\ttotal: 33.2s\tremaining: 1m 43s\n",
      "243:\tlearn: 0.1535439\ttotal: 33.4s\tremaining: 1m 43s\n",
      "244:\tlearn: 0.1534994\ttotal: 33.5s\tremaining: 1m 43s\n",
      "245:\tlearn: 0.1534425\ttotal: 33.6s\tremaining: 1m 43s\n",
      "246:\tlearn: 0.1526574\ttotal: 33.8s\tremaining: 1m 42s\n",
      "247:\tlearn: 0.1526323\ttotal: 33.8s\tremaining: 1m 42s\n",
      "248:\tlearn: 0.1522956\ttotal: 34s\tremaining: 1m 42s\n",
      "249:\tlearn: 0.1522686\ttotal: 34.1s\tremaining: 1m 42s\n",
      "250:\tlearn: 0.1521964\ttotal: 34.2s\tremaining: 1m 41s\n",
      "251:\tlearn: 0.1519690\ttotal: 34.3s\tremaining: 1m 41s\n",
      "252:\tlearn: 0.1516326\ttotal: 34.5s\tremaining: 1m 41s\n",
      "253:\tlearn: 0.1515563\ttotal: 34.5s\tremaining: 1m 41s\n",
      "254:\tlearn: 0.1514259\ttotal: 34.7s\tremaining: 1m 41s\n",
      "255:\tlearn: 0.1500792\ttotal: 34.8s\tremaining: 1m 41s\n",
      "256:\tlearn: 0.1499770\ttotal: 35s\tremaining: 1m 41s\n",
      "257:\tlearn: 0.1488332\ttotal: 35.3s\tremaining: 1m 41s\n",
      "258:\tlearn: 0.1486647\ttotal: 35.6s\tremaining: 1m 41s\n",
      "259:\tlearn: 0.1484978\ttotal: 35.8s\tremaining: 1m 41s\n",
      "260:\tlearn: 0.1483432\ttotal: 35.9s\tremaining: 1m 41s\n",
      "261:\tlearn: 0.1473330\ttotal: 36.1s\tremaining: 1m 41s\n",
      "262:\tlearn: 0.1470296\ttotal: 36.2s\tremaining: 1m 41s\n",
      "263:\tlearn: 0.1469231\ttotal: 36.3s\tremaining: 1m 41s\n",
      "264:\tlearn: 0.1469023\ttotal: 36.4s\tremaining: 1m 40s\n",
      "265:\tlearn: 0.1468630\ttotal: 36.5s\tremaining: 1m 40s\n",
      "266:\tlearn: 0.1466905\ttotal: 36.6s\tremaining: 1m 40s\n",
      "267:\tlearn: 0.1466730\ttotal: 36.8s\tremaining: 1m 40s\n",
      "268:\tlearn: 0.1457806\ttotal: 37s\tremaining: 1m 40s\n",
      "269:\tlearn: 0.1450906\ttotal: 37.2s\tremaining: 1m 40s\n",
      "270:\tlearn: 0.1449740\ttotal: 37.4s\tremaining: 1m 40s\n",
      "271:\tlearn: 0.1449391\ttotal: 37.6s\tremaining: 1m 40s\n",
      "272:\tlearn: 0.1442747\ttotal: 37.8s\tremaining: 1m 40s\n",
      "273:\tlearn: 0.1439826\ttotal: 37.9s\tremaining: 1m 40s\n",
      "274:\tlearn: 0.1431885\ttotal: 38.1s\tremaining: 1m 40s\n",
      "275:\tlearn: 0.1431581\ttotal: 38.3s\tremaining: 1m 40s\n",
      "276:\tlearn: 0.1431324\ttotal: 38.4s\tremaining: 1m 40s\n",
      "277:\tlearn: 0.1427334\ttotal: 38.6s\tremaining: 1m 40s\n",
      "278:\tlearn: 0.1420625\ttotal: 38.7s\tremaining: 1m 40s\n",
      "279:\tlearn: 0.1420332\ttotal: 38.9s\tremaining: 1m 39s\n",
      "280:\tlearn: 0.1420280\ttotal: 38.9s\tremaining: 1m 39s\n",
      "281:\tlearn: 0.1412960\ttotal: 39.1s\tremaining: 1m 39s\n",
      "282:\tlearn: 0.1412487\ttotal: 39.2s\tremaining: 1m 39s\n",
      "283:\tlearn: 0.1407505\ttotal: 39.4s\tremaining: 1m 39s\n",
      "284:\tlearn: 0.1406010\ttotal: 39.5s\tremaining: 1m 39s\n",
      "285:\tlearn: 0.1405987\ttotal: 39.6s\tremaining: 1m 38s\n",
      "286:\tlearn: 0.1402105\ttotal: 39.7s\tremaining: 1m 38s\n",
      "287:\tlearn: 0.1400689\ttotal: 39.8s\tremaining: 1m 38s\n",
      "288:\tlearn: 0.1400638\ttotal: 39.9s\tremaining: 1m 38s\n",
      "289:\tlearn: 0.1398649\ttotal: 40s\tremaining: 1m 37s\n",
      "290:\tlearn: 0.1397310\ttotal: 40.2s\tremaining: 1m 38s\n",
      "291:\tlearn: 0.1389630\ttotal: 40.4s\tremaining: 1m 37s\n",
      "292:\tlearn: 0.1388440\ttotal: 40.5s\tremaining: 1m 37s\n",
      "293:\tlearn: 0.1380766\ttotal: 40.7s\tremaining: 1m 37s\n",
      "294:\tlearn: 0.1379148\ttotal: 40.8s\tremaining: 1m 37s\n",
      "295:\tlearn: 0.1378640\ttotal: 41s\tremaining: 1m 37s\n",
      "296:\tlearn: 0.1377410\ttotal: 41.1s\tremaining: 1m 37s\n",
      "297:\tlearn: 0.1376576\ttotal: 41.3s\tremaining: 1m 37s\n",
      "298:\tlearn: 0.1375484\ttotal: 41.5s\tremaining: 1m 37s\n",
      "299:\tlearn: 0.1374560\ttotal: 41.6s\tremaining: 1m 37s\n",
      "300:\tlearn: 0.1371570\ttotal: 41.8s\tremaining: 1m 36s\n",
      "301:\tlearn: 0.1370636\ttotal: 42s\tremaining: 1m 36s\n",
      "302:\tlearn: 0.1366776\ttotal: 42.3s\tremaining: 1m 37s\n",
      "303:\tlearn: 0.1361862\ttotal: 42.5s\tremaining: 1m 37s\n",
      "304:\tlearn: 0.1348323\ttotal: 42.8s\tremaining: 1m 37s\n",
      "305:\tlearn: 0.1348129\ttotal: 43s\tremaining: 1m 37s\n",
      "306:\tlearn: 0.1348090\ttotal: 43.1s\tremaining: 1m 37s\n",
      "307:\tlearn: 0.1347233\ttotal: 43.3s\tremaining: 1m 37s\n",
      "308:\tlearn: 0.1347138\ttotal: 43.5s\tremaining: 1m 37s\n",
      "309:\tlearn: 0.1339588\ttotal: 43.7s\tremaining: 1m 37s\n",
      "310:\tlearn: 0.1339131\ttotal: 43.8s\tremaining: 1m 36s\n",
      "311:\tlearn: 0.1338525\ttotal: 43.9s\tremaining: 1m 36s\n",
      "312:\tlearn: 0.1334577\ttotal: 44.1s\tremaining: 1m 36s\n",
      "313:\tlearn: 0.1331978\ttotal: 44.2s\tremaining: 1m 36s\n",
      "314:\tlearn: 0.1328650\ttotal: 44.4s\tremaining: 1m 36s\n",
      "315:\tlearn: 0.1325545\ttotal: 44.7s\tremaining: 1m 36s\n",
      "316:\tlearn: 0.1325425\ttotal: 44.7s\tremaining: 1m 36s\n",
      "317:\tlearn: 0.1325123\ttotal: 44.8s\tremaining: 1m 36s\n"
     ]
    },
    {
     "name": "stdout",
     "output_type": "stream",
     "text": [
      "318:\tlearn: 0.1324783\ttotal: 44.9s\tremaining: 1m 35s\n",
      "319:\tlearn: 0.1324670\ttotal: 45s\tremaining: 1m 35s\n",
      "320:\tlearn: 0.1324603\ttotal: 45s\tremaining: 1m 35s\n",
      "321:\tlearn: 0.1322250\ttotal: 45.2s\tremaining: 1m 35s\n",
      "322:\tlearn: 0.1322163\ttotal: 45.3s\tremaining: 1m 34s\n",
      "323:\tlearn: 0.1319493\ttotal: 45.4s\tremaining: 1m 34s\n",
      "324:\tlearn: 0.1319364\ttotal: 45.5s\tremaining: 1m 34s\n",
      "325:\tlearn: 0.1319333\ttotal: 45.6s\tremaining: 1m 34s\n",
      "326:\tlearn: 0.1317846\ttotal: 45.8s\tremaining: 1m 34s\n",
      "327:\tlearn: 0.1314253\ttotal: 45.9s\tremaining: 1m 34s\n",
      "328:\tlearn: 0.1314043\ttotal: 46s\tremaining: 1m 33s\n",
      "329:\tlearn: 0.1313922\ttotal: 46.1s\tremaining: 1m 33s\n",
      "330:\tlearn: 0.1313794\ttotal: 46.1s\tremaining: 1m 33s\n",
      "331:\tlearn: 0.1313693\ttotal: 46.3s\tremaining: 1m 33s\n",
      "332:\tlearn: 0.1312534\ttotal: 46.4s\tremaining: 1m 32s\n",
      "333:\tlearn: 0.1311126\ttotal: 46.6s\tremaining: 1m 32s\n",
      "334:\tlearn: 0.1311016\ttotal: 46.7s\tremaining: 1m 32s\n",
      "335:\tlearn: 0.1310969\ttotal: 46.8s\tremaining: 1m 32s\n",
      "336:\tlearn: 0.1310938\ttotal: 46.8s\tremaining: 1m 32s\n",
      "337:\tlearn: 0.1309880\ttotal: 47s\tremaining: 1m 31s\n",
      "338:\tlearn: 0.1309742\ttotal: 47s\tremaining: 1m 31s\n",
      "339:\tlearn: 0.1308742\ttotal: 47.1s\tremaining: 1m 31s\n",
      "340:\tlearn: 0.1305471\ttotal: 47.3s\tremaining: 1m 31s\n",
      "341:\tlearn: 0.1305014\ttotal: 47.4s\tremaining: 1m 31s\n",
      "342:\tlearn: 0.1299960\ttotal: 47.5s\tremaining: 1m 31s\n",
      "343:\tlearn: 0.1293210\ttotal: 47.8s\tremaining: 1m 31s\n",
      "344:\tlearn: 0.1293065\ttotal: 47.9s\tremaining: 1m 30s\n",
      "345:\tlearn: 0.1292093\ttotal: 48s\tremaining: 1m 30s\n",
      "346:\tlearn: 0.1289009\ttotal: 48.1s\tremaining: 1m 30s\n",
      "347:\tlearn: 0.1288963\ttotal: 48.2s\tremaining: 1m 30s\n",
      "348:\tlearn: 0.1288044\ttotal: 48.3s\tremaining: 1m 30s\n",
      "349:\tlearn: 0.1287988\ttotal: 48.4s\tremaining: 1m 29s\n",
      "350:\tlearn: 0.1284974\ttotal: 48.6s\tremaining: 1m 29s\n",
      "351:\tlearn: 0.1282546\ttotal: 48.7s\tremaining: 1m 29s\n",
      "352:\tlearn: 0.1280427\ttotal: 48.8s\tremaining: 1m 29s\n",
      "353:\tlearn: 0.1278209\ttotal: 49s\tremaining: 1m 29s\n",
      "354:\tlearn: 0.1277333\ttotal: 49.1s\tremaining: 1m 29s\n",
      "355:\tlearn: 0.1277151\ttotal: 49.1s\tremaining: 1m 28s\n",
      "356:\tlearn: 0.1276991\ttotal: 49.2s\tremaining: 1m 28s\n",
      "357:\tlearn: 0.1276886\ttotal: 49.3s\tremaining: 1m 28s\n",
      "358:\tlearn: 0.1276777\ttotal: 49.4s\tremaining: 1m 28s\n",
      "359:\tlearn: 0.1276564\ttotal: 49.5s\tremaining: 1m 28s\n",
      "360:\tlearn: 0.1275651\ttotal: 49.6s\tremaining: 1m 27s\n",
      "361:\tlearn: 0.1275018\ttotal: 49.7s\tremaining: 1m 27s\n",
      "362:\tlearn: 0.1274703\ttotal: 49.8s\tremaining: 1m 27s\n",
      "363:\tlearn: 0.1274317\ttotal: 49.9s\tremaining: 1m 27s\n",
      "364:\tlearn: 0.1274240\ttotal: 49.9s\tremaining: 1m 26s\n",
      "365:\tlearn: 0.1273444\ttotal: 50s\tremaining: 1m 26s\n",
      "366:\tlearn: 0.1273346\ttotal: 50.1s\tremaining: 1m 26s\n",
      "367:\tlearn: 0.1273247\ttotal: 50.2s\tremaining: 1m 26s\n",
      "368:\tlearn: 0.1273151\ttotal: 50.2s\tremaining: 1m 25s\n",
      "369:\tlearn: 0.1272540\ttotal: 50.3s\tremaining: 1m 25s\n",
      "370:\tlearn: 0.1272386\ttotal: 50.4s\tremaining: 1m 25s\n",
      "371:\tlearn: 0.1272293\ttotal: 50.5s\tremaining: 1m 25s\n",
      "372:\tlearn: 0.1271987\ttotal: 50.5s\tremaining: 1m 24s\n",
      "373:\tlearn: 0.1271582\ttotal: 50.7s\tremaining: 1m 24s\n",
      "374:\tlearn: 0.1271290\ttotal: 50.7s\tremaining: 1m 24s\n",
      "375:\tlearn: 0.1262768\ttotal: 50.9s\tremaining: 1m 24s\n",
      "376:\tlearn: 0.1256463\ttotal: 51.1s\tremaining: 1m 24s\n",
      "377:\tlearn: 0.1256197\ttotal: 51.1s\tremaining: 1m 24s\n",
      "378:\tlearn: 0.1255996\ttotal: 51.2s\tremaining: 1m 23s\n",
      "379:\tlearn: 0.1253918\ttotal: 51.3s\tremaining: 1m 23s\n",
      "380:\tlearn: 0.1253687\ttotal: 51.4s\tremaining: 1m 23s\n",
      "381:\tlearn: 0.1253673\ttotal: 51.5s\tremaining: 1m 23s\n",
      "382:\tlearn: 0.1247621\ttotal: 51.6s\tremaining: 1m 23s\n",
      "383:\tlearn: 0.1245345\ttotal: 51.7s\tremaining: 1m 22s\n",
      "384:\tlearn: 0.1241023\ttotal: 51.9s\tremaining: 1m 22s\n",
      "385:\tlearn: 0.1240932\ttotal: 52s\tremaining: 1m 22s\n",
      "386:\tlearn: 0.1240918\ttotal: 52s\tremaining: 1m 22s\n",
      "387:\tlearn: 0.1240845\ttotal: 52.1s\tremaining: 1m 22s\n",
      "388:\tlearn: 0.1240841\ttotal: 52.2s\tremaining: 1m 21s\n",
      "389:\tlearn: 0.1238501\ttotal: 52.3s\tremaining: 1m 21s\n",
      "390:\tlearn: 0.1238419\ttotal: 52.4s\tremaining: 1m 21s\n",
      "391:\tlearn: 0.1238348\ttotal: 52.5s\tremaining: 1m 21s\n",
      "392:\tlearn: 0.1238214\ttotal: 52.5s\tremaining: 1m 21s\n",
      "393:\tlearn: 0.1238128\ttotal: 52.6s\tremaining: 1m 20s\n",
      "394:\tlearn: 0.1237741\ttotal: 52.7s\tremaining: 1m 20s\n",
      "395:\tlearn: 0.1237737\ttotal: 52.8s\tremaining: 1m 20s\n",
      "396:\tlearn: 0.1237654\ttotal: 52.9s\tremaining: 1m 20s\n",
      "397:\tlearn: 0.1232289\ttotal: 53s\tremaining: 1m 20s\n",
      "398:\tlearn: 0.1230250\ttotal: 53.1s\tremaining: 1m 20s\n",
      "399:\tlearn: 0.1229540\ttotal: 53.2s\tremaining: 1m 19s\n",
      "400:\tlearn: 0.1229442\ttotal: 53.3s\tremaining: 1m 19s\n",
      "401:\tlearn: 0.1229368\ttotal: 53.4s\tremaining: 1m 19s\n",
      "402:\tlearn: 0.1228975\ttotal: 53.5s\tremaining: 1m 19s\n",
      "403:\tlearn: 0.1227212\ttotal: 53.6s\tremaining: 1m 19s\n",
      "404:\tlearn: 0.1226115\ttotal: 53.7s\tremaining: 1m 18s\n",
      "405:\tlearn: 0.1225305\ttotal: 53.8s\tremaining: 1m 18s\n",
      "406:\tlearn: 0.1225057\ttotal: 53.9s\tremaining: 1m 18s\n",
      "407:\tlearn: 0.1224984\ttotal: 54s\tremaining: 1m 18s\n",
      "408:\tlearn: 0.1224922\ttotal: 54s\tremaining: 1m 18s\n",
      "409:\tlearn: 0.1224840\ttotal: 54.1s\tremaining: 1m 17s\n",
      "410:\tlearn: 0.1224760\ttotal: 54.2s\tremaining: 1m 17s\n",
      "411:\tlearn: 0.1224121\ttotal: 54.3s\tremaining: 1m 17s\n",
      "412:\tlearn: 0.1219129\ttotal: 54.4s\tremaining: 1m 17s\n",
      "413:\tlearn: 0.1219072\ttotal: 54.4s\tremaining: 1m 17s\n",
      "414:\tlearn: 0.1213499\ttotal: 54.5s\tremaining: 1m 16s\n",
      "415:\tlearn: 0.1212961\ttotal: 54.6s\tremaining: 1m 16s\n",
      "416:\tlearn: 0.1212881\ttotal: 54.7s\tremaining: 1m 16s\n",
      "417:\tlearn: 0.1212133\ttotal: 54.8s\tremaining: 1m 16s\n",
      "418:\tlearn: 0.1211563\ttotal: 55s\tremaining: 1m 16s\n",
      "419:\tlearn: 0.1211508\ttotal: 55s\tremaining: 1m 15s\n",
      "420:\tlearn: 0.1210799\ttotal: 55.1s\tremaining: 1m 15s\n",
      "421:\tlearn: 0.1210729\ttotal: 55.1s\tremaining: 1m 15s\n",
      "422:\tlearn: 0.1210725\ttotal: 55.2s\tremaining: 1m 15s\n",
      "423:\tlearn: 0.1209955\ttotal: 55.3s\tremaining: 1m 15s\n",
      "424:\tlearn: 0.1208663\ttotal: 55.4s\tremaining: 1m 14s\n",
      "425:\tlearn: 0.1208581\ttotal: 55.5s\tremaining: 1m 14s\n",
      "426:\tlearn: 0.1208518\ttotal: 55.5s\tremaining: 1m 14s\n",
      "427:\tlearn: 0.1208481\ttotal: 55.6s\tremaining: 1m 14s\n",
      "428:\tlearn: 0.1208364\ttotal: 55.7s\tremaining: 1m 14s\n",
      "429:\tlearn: 0.1207474\ttotal: 55.8s\tremaining: 1m 13s\n",
      "430:\tlearn: 0.1207399\ttotal: 55.9s\tremaining: 1m 13s\n",
      "431:\tlearn: 0.1206542\ttotal: 56s\tremaining: 1m 13s\n",
      "432:\tlearn: 0.1206493\ttotal: 56s\tremaining: 1m 13s\n",
      "433:\tlearn: 0.1206458\ttotal: 56.1s\tremaining: 1m 13s\n",
      "434:\tlearn: 0.1206410\ttotal: 56.2s\tremaining: 1m 12s\n",
      "435:\tlearn: 0.1205859\ttotal: 56.3s\tremaining: 1m 12s\n",
      "436:\tlearn: 0.1205527\ttotal: 56.4s\tremaining: 1m 12s\n",
      "437:\tlearn: 0.1200149\ttotal: 56.5s\tremaining: 1m 12s\n",
      "438:\tlearn: 0.1200098\ttotal: 56.6s\tremaining: 1m 12s\n",
      "439:\tlearn: 0.1200050\ttotal: 56.6s\tremaining: 1m 12s\n",
      "440:\tlearn: 0.1199661\ttotal: 56.7s\tremaining: 1m 11s\n",
      "441:\tlearn: 0.1195955\ttotal: 56.8s\tremaining: 1m 11s\n",
      "442:\tlearn: 0.1195881\ttotal: 56.9s\tremaining: 1m 11s\n",
      "443:\tlearn: 0.1193409\ttotal: 57s\tremaining: 1m 11s\n",
      "444:\tlearn: 0.1192745\ttotal: 57.1s\tremaining: 1m 11s\n",
      "445:\tlearn: 0.1187563\ttotal: 57.2s\tremaining: 1m 11s\n",
      "446:\tlearn: 0.1187526\ttotal: 57.2s\tremaining: 1m 10s\n",
      "447:\tlearn: 0.1186886\ttotal: 57.3s\tremaining: 1m 10s\n",
      "448:\tlearn: 0.1186400\ttotal: 57.4s\tremaining: 1m 10s\n",
      "449:\tlearn: 0.1186357\ttotal: 57.5s\tremaining: 1m 10s\n",
      "450:\tlearn: 0.1186323\ttotal: 57.5s\tremaining: 1m 10s\n",
      "451:\tlearn: 0.1185690\ttotal: 57.6s\tremaining: 1m 9s\n",
      "452:\tlearn: 0.1185642\ttotal: 57.7s\tremaining: 1m 9s\n",
      "453:\tlearn: 0.1185594\ttotal: 57.8s\tremaining: 1m 9s\n",
      "454:\tlearn: 0.1184897\ttotal: 58s\tremaining: 1m 9s\n",
      "455:\tlearn: 0.1181428\ttotal: 58.1s\tremaining: 1m 9s\n",
      "456:\tlearn: 0.1180836\ttotal: 58.3s\tremaining: 1m 9s\n",
      "457:\tlearn: 0.1180776\ttotal: 58.4s\tremaining: 1m 9s\n",
      "458:\tlearn: 0.1180736\ttotal: 58.4s\tremaining: 1m 8s\n",
      "459:\tlearn: 0.1180535\ttotal: 58.6s\tremaining: 1m 8s\n",
      "460:\tlearn: 0.1180505\ttotal: 58.6s\tremaining: 1m 8s\n",
      "461:\tlearn: 0.1180416\ttotal: 58.7s\tremaining: 1m 8s\n",
      "462:\tlearn: 0.1180378\ttotal: 58.8s\tremaining: 1m 8s\n",
      "463:\tlearn: 0.1180216\ttotal: 58.9s\tremaining: 1m 7s\n",
      "464:\tlearn: 0.1179536\ttotal: 59s\tremaining: 1m 7s\n",
      "465:\tlearn: 0.1178979\ttotal: 59.1s\tremaining: 1m 7s\n",
      "466:\tlearn: 0.1178927\ttotal: 59.1s\tremaining: 1m 7s\n",
      "467:\tlearn: 0.1178718\ttotal: 59.2s\tremaining: 1m 7s\n",
      "468:\tlearn: 0.1178111\ttotal: 59.3s\tremaining: 1m 7s\n",
      "469:\tlearn: 0.1178053\ttotal: 59.4s\tremaining: 1m 6s\n",
      "470:\tlearn: 0.1170680\ttotal: 59.5s\tremaining: 1m 6s\n",
      "471:\tlearn: 0.1170614\ttotal: 59.6s\tremaining: 1m 6s\n",
      "472:\tlearn: 0.1170093\ttotal: 59.6s\tremaining: 1m 6s\n",
      "473:\tlearn: 0.1165208\ttotal: 59.7s\tremaining: 1m 6s\n",
      "474:\tlearn: 0.1164226\ttotal: 59.8s\tremaining: 1m 6s\n",
      "475:\tlearn: 0.1160709\ttotal: 59.9s\tremaining: 1m 5s\n"
     ]
    },
    {
     "name": "stdout",
     "output_type": "stream",
     "text": [
      "476:\tlearn: 0.1160684\ttotal: 1m\tremaining: 1m 5s\n",
      "477:\tlearn: 0.1160502\ttotal: 1m\tremaining: 1m 5s\n",
      "478:\tlearn: 0.1153444\ttotal: 1m\tremaining: 1m 5s\n",
      "479:\tlearn: 0.1152920\ttotal: 1m\tremaining: 1m 5s\n",
      "480:\tlearn: 0.1152888\ttotal: 1m\tremaining: 1m 5s\n",
      "481:\tlearn: 0.1152268\ttotal: 1m\tremaining: 1m 4s\n",
      "482:\tlearn: 0.1151788\ttotal: 1m\tremaining: 1m 4s\n",
      "483:\tlearn: 0.1151758\ttotal: 1m\tremaining: 1m 4s\n",
      "484:\tlearn: 0.1151729\ttotal: 1m\tremaining: 1m 4s\n",
      "485:\tlearn: 0.1151542\ttotal: 1m\tremaining: 1m 4s\n",
      "486:\tlearn: 0.1151485\ttotal: 1m\tremaining: 1m 3s\n",
      "487:\tlearn: 0.1148132\ttotal: 1m\tremaining: 1m 3s\n",
      "488:\tlearn: 0.1144789\ttotal: 1m\tremaining: 1m 3s\n",
      "489:\tlearn: 0.1144601\ttotal: 1m 1s\tremaining: 1m 3s\n",
      "490:\tlearn: 0.1144527\ttotal: 1m 1s\tremaining: 1m 3s\n",
      "491:\tlearn: 0.1144524\ttotal: 1m 1s\tremaining: 1m 3s\n",
      "492:\tlearn: 0.1139933\ttotal: 1m 1s\tremaining: 1m 2s\n",
      "493:\tlearn: 0.1139930\ttotal: 1m 1s\tremaining: 1m 2s\n",
      "494:\tlearn: 0.1139472\ttotal: 1m 1s\tremaining: 1m 2s\n",
      "495:\tlearn: 0.1139450\ttotal: 1m 1s\tremaining: 1m 2s\n",
      "496:\tlearn: 0.1139422\ttotal: 1m 1s\tremaining: 1m 2s\n",
      "497:\tlearn: 0.1139394\ttotal: 1m 1s\tremaining: 1m 2s\n",
      "498:\tlearn: 0.1138618\ttotal: 1m 1s\tremaining: 1m 1s\n",
      "499:\tlearn: 0.1138163\ttotal: 1m 1s\tremaining: 1m 1s\n",
      "500:\tlearn: 0.1138103\ttotal: 1m 1s\tremaining: 1m 1s\n",
      "501:\tlearn: 0.1137119\ttotal: 1m 1s\tremaining: 1m 1s\n",
      "502:\tlearn: 0.1137067\ttotal: 1m 1s\tremaining: 1m 1s\n",
      "503:\tlearn: 0.1137041\ttotal: 1m 2s\tremaining: 1m 1s\n",
      "504:\tlearn: 0.1133780\ttotal: 1m 2s\tremaining: 1m\n",
      "505:\tlearn: 0.1133717\ttotal: 1m 2s\tremaining: 1m\n",
      "506:\tlearn: 0.1133714\ttotal: 1m 2s\tremaining: 1m\n",
      "507:\tlearn: 0.1133223\ttotal: 1m 2s\tremaining: 1m\n",
      "508:\tlearn: 0.1132769\ttotal: 1m 2s\tremaining: 1m\n",
      "509:\tlearn: 0.1132765\ttotal: 1m 2s\tremaining: 1m\n",
      "510:\tlearn: 0.1130467\ttotal: 1m 2s\tremaining: 59.9s\n",
      "511:\tlearn: 0.1128283\ttotal: 1m 2s\tremaining: 59.8s\n",
      "512:\tlearn: 0.1128234\ttotal: 1m 2s\tremaining: 59.6s\n",
      "513:\tlearn: 0.1127996\ttotal: 1m 2s\tremaining: 59.4s\n",
      "514:\tlearn: 0.1117814\ttotal: 1m 3s\tremaining: 59.3s\n",
      "515:\tlearn: 0.1117690\ttotal: 1m 3s\tremaining: 59.1s\n",
      "516:\tlearn: 0.1117290\ttotal: 1m 3s\tremaining: 59s\n",
      "517:\tlearn: 0.1116863\ttotal: 1m 3s\tremaining: 58.8s\n",
      "518:\tlearn: 0.1116839\ttotal: 1m 3s\tremaining: 58.6s\n",
      "519:\tlearn: 0.1116432\ttotal: 1m 3s\tremaining: 58.5s\n",
      "520:\tlearn: 0.1116408\ttotal: 1m 3s\tremaining: 58.3s\n",
      "521:\tlearn: 0.1116362\ttotal: 1m 3s\tremaining: 58.1s\n",
      "522:\tlearn: 0.1115866\ttotal: 1m 3s\tremaining: 58s\n",
      "523:\tlearn: 0.1109345\ttotal: 1m 3s\tremaining: 57.9s\n",
      "524:\tlearn: 0.1109315\ttotal: 1m 3s\tremaining: 57.7s\n",
      "525:\tlearn: 0.1109298\ttotal: 1m 3s\tremaining: 57.5s\n",
      "526:\tlearn: 0.1109127\ttotal: 1m 3s\tremaining: 57.3s\n",
      "527:\tlearn: 0.1108763\ttotal: 1m 3s\tremaining: 57.1s\n",
      "528:\tlearn: 0.1107807\ttotal: 1m 4s\tremaining: 57s\n",
      "529:\tlearn: 0.1104502\ttotal: 1m 4s\tremaining: 56.9s\n",
      "530:\tlearn: 0.1104117\ttotal: 1m 4s\tremaining: 56.7s\n",
      "531:\tlearn: 0.1099056\ttotal: 1m 4s\tremaining: 56.6s\n",
      "532:\tlearn: 0.1095450\ttotal: 1m 4s\tremaining: 56.5s\n",
      "533:\tlearn: 0.1095406\ttotal: 1m 4s\tremaining: 56.3s\n",
      "534:\tlearn: 0.1095065\ttotal: 1m 4s\tremaining: 56.1s\n",
      "535:\tlearn: 0.1095003\ttotal: 1m 4s\tremaining: 56s\n",
      "536:\tlearn: 0.1094886\ttotal: 1m 4s\tremaining: 55.8s\n",
      "537:\tlearn: 0.1085738\ttotal: 1m 4s\tremaining: 55.7s\n",
      "538:\tlearn: 0.1085667\ttotal: 1m 4s\tremaining: 55.5s\n",
      "539:\tlearn: 0.1085500\ttotal: 1m 5s\tremaining: 55.4s\n",
      "540:\tlearn: 0.1082352\ttotal: 1m 5s\tremaining: 55.2s\n",
      "541:\tlearn: 0.1081963\ttotal: 1m 5s\tremaining: 55.1s\n",
      "542:\tlearn: 0.1081921\ttotal: 1m 5s\tremaining: 54.9s\n",
      "543:\tlearn: 0.1077953\ttotal: 1m 5s\tremaining: 54.8s\n",
      "544:\tlearn: 0.1077163\ttotal: 1m 5s\tremaining: 54.6s\n",
      "545:\tlearn: 0.1077013\ttotal: 1m 5s\tremaining: 54.4s\n",
      "546:\tlearn: 0.1076965\ttotal: 1m 5s\tremaining: 54.3s\n",
      "547:\tlearn: 0.1076958\ttotal: 1m 5s\tremaining: 54.1s\n",
      "548:\tlearn: 0.1072315\ttotal: 1m 5s\tremaining: 53.9s\n",
      "549:\tlearn: 0.1070090\ttotal: 1m 5s\tremaining: 53.8s\n",
      "550:\tlearn: 0.1070060\ttotal: 1m 5s\tremaining: 53.6s\n",
      "551:\tlearn: 0.1068642\ttotal: 1m 5s\tremaining: 53.5s\n",
      "552:\tlearn: 0.1068479\ttotal: 1m 6s\tremaining: 53.4s\n",
      "553:\tlearn: 0.1062845\ttotal: 1m 6s\tremaining: 53.2s\n",
      "554:\tlearn: 0.1062547\ttotal: 1m 6s\tremaining: 53.1s\n",
      "555:\tlearn: 0.1059947\ttotal: 1m 6s\tremaining: 52.9s\n",
      "556:\tlearn: 0.1059282\ttotal: 1m 6s\tremaining: 52.8s\n",
      "557:\tlearn: 0.1059267\ttotal: 1m 6s\tremaining: 52.6s\n",
      "558:\tlearn: 0.1059264\ttotal: 1m 6s\tremaining: 52.4s\n",
      "559:\tlearn: 0.1058867\ttotal: 1m 6s\tremaining: 52.3s\n",
      "560:\tlearn: 0.1054731\ttotal: 1m 6s\tremaining: 52.2s\n",
      "561:\tlearn: 0.1054678\ttotal: 1m 6s\tremaining: 52s\n",
      "562:\tlearn: 0.1054546\ttotal: 1m 6s\tremaining: 51.8s\n",
      "563:\tlearn: 0.1054225\ttotal: 1m 6s\tremaining: 51.7s\n",
      "564:\tlearn: 0.1051160\ttotal: 1m 6s\tremaining: 51.6s\n",
      "565:\tlearn: 0.1051067\ttotal: 1m 7s\tremaining: 51.4s\n",
      "566:\tlearn: 0.1049209\ttotal: 1m 7s\tremaining: 51.3s\n",
      "567:\tlearn: 0.1048297\ttotal: 1m 7s\tremaining: 51.2s\n",
      "568:\tlearn: 0.1043310\ttotal: 1m 7s\tremaining: 51.1s\n",
      "569:\tlearn: 0.1042959\ttotal: 1m 7s\tremaining: 50.9s\n",
      "570:\tlearn: 0.1041105\ttotal: 1m 7s\tremaining: 50.8s\n",
      "571:\tlearn: 0.1040424\ttotal: 1m 7s\tremaining: 50.7s\n",
      "572:\tlearn: 0.1040083\ttotal: 1m 7s\tremaining: 50.5s\n",
      "573:\tlearn: 0.1039997\ttotal: 1m 7s\tremaining: 50.4s\n",
      "574:\tlearn: 0.1038176\ttotal: 1m 8s\tremaining: 50.3s\n",
      "575:\tlearn: 0.1036696\ttotal: 1m 8s\tremaining: 50.2s\n",
      "576:\tlearn: 0.1033490\ttotal: 1m 8s\tremaining: 50s\n",
      "577:\tlearn: 0.1029136\ttotal: 1m 8s\tremaining: 49.9s\n",
      "578:\tlearn: 0.1029108\ttotal: 1m 8s\tremaining: 49.7s\n",
      "579:\tlearn: 0.1026825\ttotal: 1m 8s\tremaining: 49.6s\n",
      "580:\tlearn: 0.1026538\ttotal: 1m 8s\tremaining: 49.5s\n",
      "581:\tlearn: 0.1023752\ttotal: 1m 8s\tremaining: 49.4s\n",
      "582:\tlearn: 0.1022850\ttotal: 1m 8s\tremaining: 49.2s\n",
      "583:\tlearn: 0.1022826\ttotal: 1m 8s\tremaining: 49.1s\n",
      "584:\tlearn: 0.1022392\ttotal: 1m 8s\tremaining: 48.9s\n",
      "585:\tlearn: 0.1021000\ttotal: 1m 9s\tremaining: 48.8s\n",
      "586:\tlearn: 0.1017137\ttotal: 1m 9s\tremaining: 48.7s\n",
      "587:\tlearn: 0.1016803\ttotal: 1m 9s\tremaining: 48.6s\n",
      "588:\tlearn: 0.1011867\ttotal: 1m 9s\tremaining: 48.4s\n",
      "589:\tlearn: 0.1007862\ttotal: 1m 9s\tremaining: 48.3s\n",
      "590:\tlearn: 0.1005393\ttotal: 1m 9s\tremaining: 48.2s\n",
      "591:\tlearn: 0.1005262\ttotal: 1m 9s\tremaining: 48s\n",
      "592:\tlearn: 0.1002238\ttotal: 1m 9s\tremaining: 47.9s\n",
      "593:\tlearn: 0.1001861\ttotal: 1m 9s\tremaining: 47.8s\n",
      "594:\tlearn: 0.1001440\ttotal: 1m 10s\tremaining: 47.6s\n",
      "595:\tlearn: 0.1001363\ttotal: 1m 10s\tremaining: 47.5s\n",
      "596:\tlearn: 0.1000825\ttotal: 1m 10s\tremaining: 47.4s\n",
      "597:\tlearn: 0.1000805\ttotal: 1m 10s\tremaining: 47.2s\n",
      "598:\tlearn: 0.1000764\ttotal: 1m 10s\tremaining: 47.1s\n",
      "599:\tlearn: 0.1000469\ttotal: 1m 10s\tremaining: 47s\n",
      "600:\tlearn: 0.1000363\ttotal: 1m 10s\tremaining: 46.8s\n",
      "601:\tlearn: 0.1000306\ttotal: 1m 10s\tremaining: 46.7s\n",
      "602:\tlearn: 0.0999821\ttotal: 1m 10s\tremaining: 46.6s\n",
      "603:\tlearn: 0.0999800\ttotal: 1m 10s\tremaining: 46.4s\n",
      "604:\tlearn: 0.0999428\ttotal: 1m 10s\tremaining: 46.3s\n",
      "605:\tlearn: 0.0999408\ttotal: 1m 10s\tremaining: 46.1s\n",
      "606:\tlearn: 0.0997081\ttotal: 1m 11s\tremaining: 46s\n",
      "607:\tlearn: 0.0997053\ttotal: 1m 11s\tremaining: 45.8s\n",
      "608:\tlearn: 0.0996525\ttotal: 1m 11s\tremaining: 45.7s\n",
      "609:\tlearn: 0.0996245\ttotal: 1m 11s\tremaining: 45.6s\n",
      "610:\tlearn: 0.0996228\ttotal: 1m 11s\tremaining: 45.4s\n",
      "611:\tlearn: 0.0995880\ttotal: 1m 11s\tremaining: 45.3s\n",
      "612:\tlearn: 0.0995864\ttotal: 1m 11s\tremaining: 45.1s\n",
      "613:\tlearn: 0.0995735\ttotal: 1m 11s\tremaining: 45s\n",
      "614:\tlearn: 0.0992875\ttotal: 1m 11s\tremaining: 44.8s\n",
      "615:\tlearn: 0.0992848\ttotal: 1m 11s\tremaining: 44.7s\n",
      "616:\tlearn: 0.0990278\ttotal: 1m 11s\tremaining: 44.6s\n",
      "617:\tlearn: 0.0990213\ttotal: 1m 11s\tremaining: 44.4s\n",
      "618:\tlearn: 0.0987486\ttotal: 1m 11s\tremaining: 44.3s\n",
      "619:\tlearn: 0.0987485\ttotal: 1m 12s\tremaining: 44.2s\n",
      "620:\tlearn: 0.0983595\ttotal: 1m 12s\tremaining: 44s\n",
      "621:\tlearn: 0.0983245\ttotal: 1m 12s\tremaining: 43.9s\n",
      "622:\tlearn: 0.0982989\ttotal: 1m 12s\tremaining: 43.8s\n",
      "623:\tlearn: 0.0979404\ttotal: 1m 12s\tremaining: 43.7s\n",
      "624:\tlearn: 0.0977366\ttotal: 1m 12s\tremaining: 43.6s\n",
      "625:\tlearn: 0.0977127\ttotal: 1m 12s\tremaining: 43.4s\n",
      "626:\tlearn: 0.0975340\ttotal: 1m 12s\tremaining: 43.3s\n",
      "627:\tlearn: 0.0973645\ttotal: 1m 12s\tremaining: 43.2s\n",
      "628:\tlearn: 0.0973600\ttotal: 1m 13s\tremaining: 43.1s\n",
      "629:\tlearn: 0.0973582\ttotal: 1m 13s\tremaining: 42.9s\n",
      "630:\tlearn: 0.0973243\ttotal: 1m 13s\tremaining: 42.8s\n",
      "631:\tlearn: 0.0973226\ttotal: 1m 13s\tremaining: 42.6s\n",
      "632:\tlearn: 0.0973215\ttotal: 1m 13s\tremaining: 42.5s\n",
      "633:\tlearn: 0.0972857\ttotal: 1m 13s\tremaining: 42.4s\n",
      "634:\tlearn: 0.0970454\ttotal: 1m 13s\tremaining: 42.2s\n"
     ]
    },
    {
     "name": "stdout",
     "output_type": "stream",
     "text": [
      "635:\tlearn: 0.0966383\ttotal: 1m 13s\tremaining: 42.1s\n",
      "636:\tlearn: 0.0966150\ttotal: 1m 13s\tremaining: 42s\n",
      "637:\tlearn: 0.0966052\ttotal: 1m 13s\tremaining: 41.9s\n",
      "638:\tlearn: 0.0965474\ttotal: 1m 13s\tremaining: 41.8s\n",
      "639:\tlearn: 0.0965069\ttotal: 1m 14s\tremaining: 41.6s\n",
      "640:\tlearn: 0.0965052\ttotal: 1m 14s\tremaining: 41.5s\n",
      "641:\tlearn: 0.0965051\ttotal: 1m 14s\tremaining: 41.4s\n",
      "642:\tlearn: 0.0965018\ttotal: 1m 14s\tremaining: 41.2s\n",
      "643:\tlearn: 0.0965008\ttotal: 1m 14s\tremaining: 41.1s\n",
      "644:\tlearn: 0.0963977\ttotal: 1m 14s\tremaining: 41s\n",
      "645:\tlearn: 0.0963960\ttotal: 1m 14s\tremaining: 40.9s\n",
      "646:\tlearn: 0.0963959\ttotal: 1m 14s\tremaining: 40.7s\n",
      "647:\tlearn: 0.0963929\ttotal: 1m 14s\tremaining: 40.5s\n",
      "648:\tlearn: 0.0962396\ttotal: 1m 14s\tremaining: 40.4s\n",
      "649:\tlearn: 0.0962291\ttotal: 1m 14s\tremaining: 40.3s\n",
      "650:\tlearn: 0.0962214\ttotal: 1m 14s\tremaining: 40.2s\n",
      "651:\tlearn: 0.0962195\ttotal: 1m 14s\tremaining: 40s\n",
      "652:\tlearn: 0.0961708\ttotal: 1m 15s\tremaining: 39.9s\n",
      "653:\tlearn: 0.0960246\ttotal: 1m 15s\tremaining: 39.8s\n",
      "654:\tlearn: 0.0960185\ttotal: 1m 15s\tremaining: 39.6s\n",
      "655:\tlearn: 0.0959863\ttotal: 1m 15s\tremaining: 39.5s\n",
      "656:\tlearn: 0.0959811\ttotal: 1m 15s\tremaining: 39.4s\n",
      "657:\tlearn: 0.0959791\ttotal: 1m 15s\tremaining: 39.2s\n",
      "658:\tlearn: 0.0959790\ttotal: 1m 15s\tremaining: 39s\n",
      "659:\tlearn: 0.0959781\ttotal: 1m 15s\tremaining: 38.9s\n",
      "660:\tlearn: 0.0957873\ttotal: 1m 15s\tremaining: 38.8s\n",
      "661:\tlearn: 0.0957544\ttotal: 1m 15s\tremaining: 38.6s\n",
      "662:\tlearn: 0.0957193\ttotal: 1m 15s\tremaining: 38.5s\n",
      "663:\tlearn: 0.0956778\ttotal: 1m 15s\tremaining: 38.4s\n",
      "664:\tlearn: 0.0956679\ttotal: 1m 15s\tremaining: 38.2s\n",
      "665:\tlearn: 0.0956346\ttotal: 1m 15s\tremaining: 38.1s\n",
      "666:\tlearn: 0.0954079\ttotal: 1m 16s\tremaining: 38s\n",
      "667:\tlearn: 0.0951500\ttotal: 1m 16s\tremaining: 37.9s\n",
      "668:\tlearn: 0.0948106\ttotal: 1m 16s\tremaining: 37.8s\n",
      "669:\tlearn: 0.0941322\ttotal: 1m 16s\tremaining: 37.7s\n",
      "670:\tlearn: 0.0941157\ttotal: 1m 16s\tremaining: 37.5s\n",
      "671:\tlearn: 0.0941065\ttotal: 1m 16s\tremaining: 37.4s\n",
      "672:\tlearn: 0.0940906\ttotal: 1m 16s\tremaining: 37.3s\n",
      "673:\tlearn: 0.0940796\ttotal: 1m 16s\tremaining: 37.1s\n",
      "674:\tlearn: 0.0935706\ttotal: 1m 16s\tremaining: 37s\n",
      "675:\tlearn: 0.0935629\ttotal: 1m 16s\tremaining: 36.9s\n",
      "676:\tlearn: 0.0935593\ttotal: 1m 17s\tremaining: 36.8s\n",
      "677:\tlearn: 0.0935229\ttotal: 1m 17s\tremaining: 36.6s\n",
      "678:\tlearn: 0.0935227\ttotal: 1m 17s\tremaining: 36.5s\n",
      "679:\tlearn: 0.0933213\ttotal: 1m 17s\tremaining: 36.4s\n",
      "680:\tlearn: 0.0933173\ttotal: 1m 17s\tremaining: 36.2s\n",
      "681:\tlearn: 0.0933089\ttotal: 1m 17s\tremaining: 36.1s\n",
      "682:\tlearn: 0.0931846\ttotal: 1m 17s\tremaining: 36s\n",
      "683:\tlearn: 0.0931791\ttotal: 1m 17s\tremaining: 35.9s\n",
      "684:\tlearn: 0.0931688\ttotal: 1m 17s\tremaining: 35.7s\n",
      "685:\tlearn: 0.0931659\ttotal: 1m 17s\tremaining: 35.6s\n",
      "686:\tlearn: 0.0931646\ttotal: 1m 17s\tremaining: 35.5s\n",
      "687:\tlearn: 0.0931634\ttotal: 1m 17s\tremaining: 35.3s\n",
      "688:\tlearn: 0.0931349\ttotal: 1m 18s\tremaining: 35.2s\n",
      "689:\tlearn: 0.0929268\ttotal: 1m 18s\tremaining: 35.1s\n",
      "690:\tlearn: 0.0928677\ttotal: 1m 18s\tremaining: 35s\n",
      "691:\tlearn: 0.0928514\ttotal: 1m 18s\tremaining: 34.9s\n",
      "692:\tlearn: 0.0928508\ttotal: 1m 18s\tremaining: 34.7s\n",
      "693:\tlearn: 0.0926837\ttotal: 1m 18s\tremaining: 34.6s\n",
      "694:\tlearn: 0.0924862\ttotal: 1m 18s\tremaining: 34.5s\n",
      "695:\tlearn: 0.0924618\ttotal: 1m 18s\tremaining: 34.4s\n",
      "696:\tlearn: 0.0924616\ttotal: 1m 18s\tremaining: 34.2s\n",
      "697:\tlearn: 0.0924536\ttotal: 1m 18s\tremaining: 34.1s\n",
      "698:\tlearn: 0.0924383\ttotal: 1m 18s\tremaining: 34s\n",
      "699:\tlearn: 0.0922216\ttotal: 1m 19s\tremaining: 33.9s\n",
      "700:\tlearn: 0.0922092\ttotal: 1m 19s\tremaining: 33.7s\n",
      "701:\tlearn: 0.0922066\ttotal: 1m 19s\tremaining: 33.6s\n",
      "702:\tlearn: 0.0922048\ttotal: 1m 19s\tremaining: 33.5s\n",
      "703:\tlearn: 0.0922023\ttotal: 1m 19s\tremaining: 33.3s\n",
      "704:\tlearn: 0.0915794\ttotal: 1m 19s\tremaining: 33.3s\n",
      "705:\tlearn: 0.0915013\ttotal: 1m 19s\tremaining: 33.2s\n",
      "706:\tlearn: 0.0914986\ttotal: 1m 19s\tremaining: 33.1s\n",
      "707:\tlearn: 0.0912262\ttotal: 1m 19s\tremaining: 33s\n",
      "708:\tlearn: 0.0912042\ttotal: 1m 20s\tremaining: 32.9s\n",
      "709:\tlearn: 0.0911929\ttotal: 1m 20s\tremaining: 32.7s\n",
      "710:\tlearn: 0.0911884\ttotal: 1m 20s\tremaining: 32.6s\n",
      "711:\tlearn: 0.0911866\ttotal: 1m 20s\tremaining: 32.5s\n",
      "712:\tlearn: 0.0911841\ttotal: 1m 20s\tremaining: 32.3s\n",
      "713:\tlearn: 0.0910323\ttotal: 1m 20s\tremaining: 32.2s\n",
      "714:\tlearn: 0.0909697\ttotal: 1m 20s\tremaining: 32.1s\n",
      "715:\tlearn: 0.0909369\ttotal: 1m 20s\tremaining: 32s\n",
      "716:\tlearn: 0.0909098\ttotal: 1m 20s\tremaining: 31.9s\n",
      "717:\tlearn: 0.0909016\ttotal: 1m 20s\tremaining: 31.7s\n",
      "718:\tlearn: 0.0908992\ttotal: 1m 20s\tremaining: 31.6s\n",
      "719:\tlearn: 0.0908779\ttotal: 1m 20s\tremaining: 31.5s\n",
      "720:\tlearn: 0.0908763\ttotal: 1m 21s\tremaining: 31.4s\n",
      "721:\tlearn: 0.0908685\ttotal: 1m 21s\tremaining: 31.2s\n",
      "722:\tlearn: 0.0908670\ttotal: 1m 21s\tremaining: 31.1s\n",
      "723:\tlearn: 0.0908662\ttotal: 1m 21s\tremaining: 31s\n",
      "724:\tlearn: 0.0906947\ttotal: 1m 21s\tremaining: 30.9s\n",
      "725:\tlearn: 0.0906940\ttotal: 1m 21s\tremaining: 30.8s\n",
      "726:\tlearn: 0.0906778\ttotal: 1m 21s\tremaining: 30.7s\n",
      "727:\tlearn: 0.0906763\ttotal: 1m 21s\tremaining: 30.5s\n",
      "728:\tlearn: 0.0906689\ttotal: 1m 21s\tremaining: 30.4s\n",
      "729:\tlearn: 0.0906680\ttotal: 1m 21s\tremaining: 30.3s\n",
      "730:\tlearn: 0.0906659\ttotal: 1m 21s\tremaining: 30.2s\n",
      "731:\tlearn: 0.0906647\ttotal: 1m 22s\tremaining: 30s\n",
      "732:\tlearn: 0.0906361\ttotal: 1m 22s\tremaining: 29.9s\n",
      "733:\tlearn: 0.0906276\ttotal: 1m 22s\tremaining: 29.8s\n",
      "734:\tlearn: 0.0904921\ttotal: 1m 22s\tremaining: 29.7s\n",
      "735:\tlearn: 0.0904700\ttotal: 1m 22s\tremaining: 29.6s\n",
      "736:\tlearn: 0.0904494\ttotal: 1m 22s\tremaining: 29.4s\n",
      "737:\tlearn: 0.0904423\ttotal: 1m 22s\tremaining: 29.3s\n",
      "738:\tlearn: 0.0904414\ttotal: 1m 22s\tremaining: 29.2s\n",
      "739:\tlearn: 0.0903393\ttotal: 1m 22s\tremaining: 29.1s\n",
      "740:\tlearn: 0.0903373\ttotal: 1m 22s\tremaining: 28.9s\n",
      "741:\tlearn: 0.0903269\ttotal: 1m 22s\tremaining: 28.8s\n",
      "742:\tlearn: 0.0901306\ttotal: 1m 23s\tremaining: 28.7s\n",
      "743:\tlearn: 0.0901270\ttotal: 1m 23s\tremaining: 28.6s\n",
      "744:\tlearn: 0.0901201\ttotal: 1m 23s\tremaining: 28.5s\n",
      "745:\tlearn: 0.0901087\ttotal: 1m 23s\tremaining: 28.3s\n",
      "746:\tlearn: 0.0897908\ttotal: 1m 23s\tremaining: 28.2s\n",
      "747:\tlearn: 0.0897897\ttotal: 1m 23s\tremaining: 28.1s\n",
      "748:\tlearn: 0.0897875\ttotal: 1m 23s\tremaining: 28s\n",
      "749:\tlearn: 0.0897874\ttotal: 1m 23s\tremaining: 27.8s\n",
      "750:\tlearn: 0.0896358\ttotal: 1m 23s\tremaining: 27.7s\n",
      "751:\tlearn: 0.0896050\ttotal: 1m 23s\tremaining: 27.6s\n",
      "752:\tlearn: 0.0893751\ttotal: 1m 23s\tremaining: 27.5s\n",
      "753:\tlearn: 0.0893740\ttotal: 1m 23s\tremaining: 27.4s\n",
      "754:\tlearn: 0.0893726\ttotal: 1m 23s\tremaining: 27.2s\n",
      "755:\tlearn: 0.0893715\ttotal: 1m 24s\tremaining: 27.1s\n",
      "756:\tlearn: 0.0893688\ttotal: 1m 24s\tremaining: 27s\n",
      "757:\tlearn: 0.0892611\ttotal: 1m 24s\tremaining: 26.9s\n",
      "758:\tlearn: 0.0892585\ttotal: 1m 24s\tremaining: 26.8s\n",
      "759:\tlearn: 0.0892073\ttotal: 1m 24s\tremaining: 26.6s\n",
      "760:\tlearn: 0.0891817\ttotal: 1m 24s\tremaining: 26.5s\n",
      "761:\tlearn: 0.0891807\ttotal: 1m 24s\tremaining: 26.4s\n",
      "762:\tlearn: 0.0891519\ttotal: 1m 24s\tremaining: 26.3s\n",
      "763:\tlearn: 0.0891517\ttotal: 1m 24s\tremaining: 26.2s\n",
      "764:\tlearn: 0.0891451\ttotal: 1m 24s\tremaining: 26.1s\n",
      "765:\tlearn: 0.0891023\ttotal: 1m 24s\tremaining: 26s\n",
      "766:\tlearn: 0.0885253\ttotal: 1m 25s\tremaining: 25.9s\n",
      "767:\tlearn: 0.0885243\ttotal: 1m 25s\tremaining: 25.7s\n",
      "768:\tlearn: 0.0885059\ttotal: 1m 25s\tremaining: 25.6s\n",
      "769:\tlearn: 0.0885039\ttotal: 1m 25s\tremaining: 25.5s\n",
      "770:\tlearn: 0.0885029\ttotal: 1m 25s\tremaining: 25.3s\n",
      "771:\tlearn: 0.0885014\ttotal: 1m 25s\tremaining: 25.2s\n",
      "772:\tlearn: 0.0884865\ttotal: 1m 25s\tremaining: 25.1s\n",
      "773:\tlearn: 0.0884827\ttotal: 1m 25s\tremaining: 25s\n",
      "774:\tlearn: 0.0884825\ttotal: 1m 25s\tremaining: 24.8s\n",
      "775:\tlearn: 0.0884768\ttotal: 1m 25s\tremaining: 24.7s\n",
      "776:\tlearn: 0.0884625\ttotal: 1m 25s\tremaining: 24.6s\n",
      "777:\tlearn: 0.0884503\ttotal: 1m 25s\tremaining: 24.5s\n",
      "778:\tlearn: 0.0883327\ttotal: 1m 25s\tremaining: 24.4s\n",
      "779:\tlearn: 0.0883292\ttotal: 1m 25s\tremaining: 24.2s\n",
      "780:\tlearn: 0.0883107\ttotal: 1m 26s\tremaining: 24.1s\n",
      "781:\tlearn: 0.0880078\ttotal: 1m 26s\tremaining: 24s\n",
      "782:\tlearn: 0.0879797\ttotal: 1m 26s\tremaining: 23.9s\n",
      "783:\tlearn: 0.0878026\ttotal: 1m 26s\tremaining: 23.8s\n",
      "784:\tlearn: 0.0877851\ttotal: 1m 26s\tremaining: 23.7s\n",
      "785:\tlearn: 0.0876844\ttotal: 1m 26s\tremaining: 23.6s\n",
      "786:\tlearn: 0.0876344\ttotal: 1m 26s\tremaining: 23.5s\n",
      "787:\tlearn: 0.0876339\ttotal: 1m 26s\tremaining: 23.3s\n",
      "788:\tlearn: 0.0873974\ttotal: 1m 26s\tremaining: 23.2s\n",
      "789:\tlearn: 0.0873973\ttotal: 1m 26s\tremaining: 23.1s\n",
      "790:\tlearn: 0.0873699\ttotal: 1m 26s\tremaining: 23s\n",
      "791:\tlearn: 0.0873560\ttotal: 1m 27s\tremaining: 22.8s\n"
     ]
    },
    {
     "name": "stdout",
     "output_type": "stream",
     "text": [
      "792:\tlearn: 0.0872495\ttotal: 1m 27s\tremaining: 22.7s\n",
      "793:\tlearn: 0.0872485\ttotal: 1m 27s\tremaining: 22.6s\n",
      "794:\tlearn: 0.0872330\ttotal: 1m 27s\tremaining: 22.5s\n",
      "795:\tlearn: 0.0872149\ttotal: 1m 27s\tremaining: 22.4s\n",
      "796:\tlearn: 0.0872074\ttotal: 1m 27s\tremaining: 22.3s\n",
      "797:\tlearn: 0.0872008\ttotal: 1m 27s\tremaining: 22.2s\n",
      "798:\tlearn: 0.0872001\ttotal: 1m 27s\tremaining: 22s\n",
      "799:\tlearn: 0.0870201\ttotal: 1m 27s\tremaining: 21.9s\n",
      "800:\tlearn: 0.0870191\ttotal: 1m 27s\tremaining: 21.8s\n",
      "801:\tlearn: 0.0869052\ttotal: 1m 27s\tremaining: 21.7s\n",
      "802:\tlearn: 0.0868145\ttotal: 1m 28s\tremaining: 21.6s\n",
      "803:\tlearn: 0.0868136\ttotal: 1m 28s\tremaining: 21.5s\n",
      "804:\tlearn: 0.0868129\ttotal: 1m 28s\tremaining: 21.3s\n",
      "805:\tlearn: 0.0868129\ttotal: 1m 28s\tremaining: 21.2s\n",
      "806:\tlearn: 0.0868124\ttotal: 1m 28s\tremaining: 21.1s\n",
      "807:\tlearn: 0.0868038\ttotal: 1m 28s\tremaining: 21s\n",
      "808:\tlearn: 0.0868004\ttotal: 1m 28s\tremaining: 20.8s\n",
      "809:\tlearn: 0.0866928\ttotal: 1m 28s\tremaining: 20.7s\n",
      "810:\tlearn: 0.0864237\ttotal: 1m 28s\tremaining: 20.6s\n",
      "811:\tlearn: 0.0864173\ttotal: 1m 28s\tremaining: 20.5s\n",
      "812:\tlearn: 0.0864151\ttotal: 1m 28s\tremaining: 20.4s\n",
      "813:\tlearn: 0.0864137\ttotal: 1m 28s\tremaining: 20.3s\n",
      "814:\tlearn: 0.0864035\ttotal: 1m 28s\tremaining: 20.2s\n",
      "815:\tlearn: 0.0862365\ttotal: 1m 28s\tremaining: 20s\n",
      "816:\tlearn: 0.0862301\ttotal: 1m 28s\tremaining: 19.9s\n",
      "817:\tlearn: 0.0861307\ttotal: 1m 29s\tremaining: 19.8s\n",
      "818:\tlearn: 0.0860078\ttotal: 1m 29s\tremaining: 19.7s\n",
      "819:\tlearn: 0.0859223\ttotal: 1m 29s\tremaining: 19.6s\n",
      "820:\tlearn: 0.0859215\ttotal: 1m 29s\tremaining: 19.5s\n",
      "821:\tlearn: 0.0858938\ttotal: 1m 29s\tremaining: 19.4s\n",
      "822:\tlearn: 0.0858347\ttotal: 1m 29s\tremaining: 19.3s\n",
      "823:\tlearn: 0.0858336\ttotal: 1m 29s\tremaining: 19.1s\n",
      "824:\tlearn: 0.0857893\ttotal: 1m 29s\tremaining: 19s\n",
      "825:\tlearn: 0.0857807\ttotal: 1m 29s\tremaining: 18.9s\n",
      "826:\tlearn: 0.0857804\ttotal: 1m 29s\tremaining: 18.8s\n",
      "827:\tlearn: 0.0857651\ttotal: 1m 29s\tremaining: 18.7s\n",
      "828:\tlearn: 0.0857449\ttotal: 1m 29s\tremaining: 18.6s\n",
      "829:\tlearn: 0.0857416\ttotal: 1m 30s\tremaining: 18.4s\n",
      "830:\tlearn: 0.0857410\ttotal: 1m 30s\tremaining: 18.3s\n",
      "831:\tlearn: 0.0857391\ttotal: 1m 30s\tremaining: 18.2s\n",
      "832:\tlearn: 0.0857218\ttotal: 1m 30s\tremaining: 18.1s\n",
      "833:\tlearn: 0.0857215\ttotal: 1m 30s\tremaining: 18s\n",
      "834:\tlearn: 0.0857205\ttotal: 1m 30s\tremaining: 17.9s\n",
      "835:\tlearn: 0.0856628\ttotal: 1m 30s\tremaining: 17.7s\n",
      "836:\tlearn: 0.0856619\ttotal: 1m 30s\tremaining: 17.6s\n",
      "837:\tlearn: 0.0854509\ttotal: 1m 30s\tremaining: 17.5s\n",
      "838:\tlearn: 0.0854500\ttotal: 1m 30s\tremaining: 17.4s\n",
      "839:\tlearn: 0.0853670\ttotal: 1m 30s\tremaining: 17.3s\n",
      "840:\tlearn: 0.0852798\ttotal: 1m 30s\tremaining: 17.2s\n",
      "841:\tlearn: 0.0852795\ttotal: 1m 30s\tremaining: 17.1s\n",
      "842:\tlearn: 0.0852781\ttotal: 1m 31s\tremaining: 16.9s\n",
      "843:\tlearn: 0.0850778\ttotal: 1m 31s\tremaining: 16.8s\n",
      "844:\tlearn: 0.0850767\ttotal: 1m 31s\tremaining: 16.7s\n",
      "845:\tlearn: 0.0850759\ttotal: 1m 31s\tremaining: 16.6s\n",
      "846:\tlearn: 0.0850420\ttotal: 1m 31s\tremaining: 16.5s\n",
      "847:\tlearn: 0.0850420\ttotal: 1m 31s\tremaining: 16.4s\n",
      "848:\tlearn: 0.0850104\ttotal: 1m 31s\tremaining: 16.3s\n",
      "849:\tlearn: 0.0849848\ttotal: 1m 31s\tremaining: 16.1s\n",
      "850:\tlearn: 0.0849844\ttotal: 1m 31s\tremaining: 16s\n",
      "851:\tlearn: 0.0849782\ttotal: 1m 31s\tremaining: 15.9s\n",
      "852:\tlearn: 0.0849768\ttotal: 1m 31s\tremaining: 15.8s\n",
      "853:\tlearn: 0.0849761\ttotal: 1m 31s\tremaining: 15.7s\n",
      "854:\tlearn: 0.0849516\ttotal: 1m 31s\tremaining: 15.6s\n",
      "855:\tlearn: 0.0848006\ttotal: 1m 31s\tremaining: 15.5s\n",
      "856:\tlearn: 0.0847993\ttotal: 1m 32s\tremaining: 15.4s\n",
      "857:\tlearn: 0.0847993\ttotal: 1m 32s\tremaining: 15.2s\n",
      "858:\tlearn: 0.0847370\ttotal: 1m 32s\tremaining: 15.1s\n",
      "859:\tlearn: 0.0847331\ttotal: 1m 32s\tremaining: 15s\n",
      "860:\tlearn: 0.0847241\ttotal: 1m 32s\tremaining: 14.9s\n",
      "861:\tlearn: 0.0847099\ttotal: 1m 32s\tremaining: 14.8s\n",
      "862:\tlearn: 0.0846981\ttotal: 1m 32s\tremaining: 14.7s\n",
      "863:\tlearn: 0.0846965\ttotal: 1m 32s\tremaining: 14.6s\n",
      "864:\tlearn: 0.0846955\ttotal: 1m 32s\tremaining: 14.4s\n",
      "865:\tlearn: 0.0844966\ttotal: 1m 32s\tremaining: 14.3s\n",
      "866:\tlearn: 0.0844451\ttotal: 1m 32s\tremaining: 14.2s\n",
      "867:\tlearn: 0.0844312\ttotal: 1m 32s\tremaining: 14.1s\n",
      "868:\tlearn: 0.0840213\ttotal: 1m 32s\tremaining: 14s\n",
      "869:\tlearn: 0.0840193\ttotal: 1m 33s\tremaining: 13.9s\n",
      "870:\tlearn: 0.0840180\ttotal: 1m 33s\tremaining: 13.8s\n",
      "871:\tlearn: 0.0840168\ttotal: 1m 33s\tremaining: 13.7s\n",
      "872:\tlearn: 0.0840168\ttotal: 1m 33s\tremaining: 13.6s\n",
      "873:\tlearn: 0.0840156\ttotal: 1m 33s\tremaining: 13.4s\n",
      "874:\tlearn: 0.0840144\ttotal: 1m 33s\tremaining: 13.3s\n",
      "875:\tlearn: 0.0840144\ttotal: 1m 33s\tremaining: 13.2s\n",
      "876:\tlearn: 0.0840139\ttotal: 1m 33s\tremaining: 13.1s\n",
      "877:\tlearn: 0.0840085\ttotal: 1m 33s\tremaining: 13s\n",
      "878:\tlearn: 0.0840077\ttotal: 1m 33s\tremaining: 12.9s\n",
      "879:\tlearn: 0.0839917\ttotal: 1m 33s\tremaining: 12.8s\n",
      "880:\tlearn: 0.0836511\ttotal: 1m 33s\tremaining: 12.7s\n",
      "881:\tlearn: 0.0836507\ttotal: 1m 33s\tremaining: 12.5s\n",
      "882:\tlearn: 0.0836499\ttotal: 1m 33s\tremaining: 12.4s\n",
      "883:\tlearn: 0.0836422\ttotal: 1m 33s\tremaining: 12.3s\n",
      "884:\tlearn: 0.0836414\ttotal: 1m 33s\tremaining: 12.2s\n",
      "885:\tlearn: 0.0834015\ttotal: 1m 34s\tremaining: 12.1s\n",
      "886:\tlearn: 0.0831770\ttotal: 1m 34s\tremaining: 12s\n",
      "887:\tlearn: 0.0831762\ttotal: 1m 34s\tremaining: 11.9s\n",
      "888:\tlearn: 0.0831718\ttotal: 1m 34s\tremaining: 11.8s\n",
      "889:\tlearn: 0.0829542\ttotal: 1m 34s\tremaining: 11.7s\n",
      "890:\tlearn: 0.0829531\ttotal: 1m 34s\tremaining: 11.6s\n",
      "891:\tlearn: 0.0829519\ttotal: 1m 34s\tremaining: 11.4s\n",
      "892:\tlearn: 0.0829144\ttotal: 1m 34s\tremaining: 11.3s\n",
      "893:\tlearn: 0.0827321\ttotal: 1m 34s\tremaining: 11.2s\n",
      "894:\tlearn: 0.0827177\ttotal: 1m 34s\tremaining: 11.1s\n",
      "895:\tlearn: 0.0827169\ttotal: 1m 34s\tremaining: 11s\n",
      "896:\tlearn: 0.0827156\ttotal: 1m 34s\tremaining: 10.9s\n",
      "897:\tlearn: 0.0827114\ttotal: 1m 35s\tremaining: 10.8s\n",
      "898:\tlearn: 0.0827111\ttotal: 1m 35s\tremaining: 10.7s\n",
      "899:\tlearn: 0.0827105\ttotal: 1m 35s\tremaining: 10.6s\n",
      "900:\tlearn: 0.0827094\ttotal: 1m 35s\tremaining: 10.5s\n",
      "901:\tlearn: 0.0827058\ttotal: 1m 35s\tremaining: 10.3s\n",
      "902:\tlearn: 0.0827054\ttotal: 1m 35s\tremaining: 10.2s\n",
      "903:\tlearn: 0.0826807\ttotal: 1m 35s\tremaining: 10.1s\n",
      "904:\tlearn: 0.0826282\ttotal: 1m 35s\tremaining: 10s\n",
      "905:\tlearn: 0.0825997\ttotal: 1m 35s\tremaining: 9.91s\n",
      "906:\tlearn: 0.0825997\ttotal: 1m 35s\tremaining: 9.79s\n",
      "907:\tlearn: 0.0825982\ttotal: 1m 35s\tremaining: 9.68s\n",
      "908:\tlearn: 0.0825936\ttotal: 1m 35s\tremaining: 9.57s\n",
      "909:\tlearn: 0.0825922\ttotal: 1m 35s\tremaining: 9.47s\n",
      "910:\tlearn: 0.0825916\ttotal: 1m 35s\tremaining: 9.36s\n",
      "911:\tlearn: 0.0822577\ttotal: 1m 35s\tremaining: 9.25s\n",
      "912:\tlearn: 0.0820023\ttotal: 1m 35s\tremaining: 9.15s\n",
      "913:\tlearn: 0.0820017\ttotal: 1m 36s\tremaining: 9.04s\n",
      "914:\tlearn: 0.0816874\ttotal: 1m 36s\tremaining: 8.93s\n",
      "915:\tlearn: 0.0816858\ttotal: 1m 36s\tremaining: 8.82s\n",
      "916:\tlearn: 0.0816852\ttotal: 1m 36s\tremaining: 8.71s\n",
      "917:\tlearn: 0.0815332\ttotal: 1m 36s\tremaining: 8.61s\n",
      "918:\tlearn: 0.0814989\ttotal: 1m 36s\tremaining: 8.5s\n",
      "919:\tlearn: 0.0812992\ttotal: 1m 36s\tremaining: 8.39s\n",
      "920:\tlearn: 0.0812833\ttotal: 1m 36s\tremaining: 8.29s\n",
      "921:\tlearn: 0.0812787\ttotal: 1m 36s\tremaining: 8.18s\n",
      "922:\tlearn: 0.0810861\ttotal: 1m 36s\tremaining: 8.07s\n",
      "923:\tlearn: 0.0810169\ttotal: 1m 36s\tremaining: 7.97s\n",
      "924:\tlearn: 0.0809880\ttotal: 1m 36s\tremaining: 7.86s\n",
      "925:\tlearn: 0.0809661\ttotal: 1m 37s\tremaining: 7.76s\n",
      "926:\tlearn: 0.0808796\ttotal: 1m 37s\tremaining: 7.66s\n",
      "927:\tlearn: 0.0808657\ttotal: 1m 37s\tremaining: 7.55s\n",
      "928:\tlearn: 0.0808330\ttotal: 1m 37s\tremaining: 7.44s\n",
      "929:\tlearn: 0.0808320\ttotal: 1m 37s\tremaining: 7.33s\n",
      "930:\tlearn: 0.0808318\ttotal: 1m 37s\tremaining: 7.22s\n",
      "931:\tlearn: 0.0808238\ttotal: 1m 37s\tremaining: 7.12s\n",
      "932:\tlearn: 0.0806440\ttotal: 1m 37s\tremaining: 7.01s\n",
      "933:\tlearn: 0.0806362\ttotal: 1m 37s\tremaining: 6.9s\n",
      "934:\tlearn: 0.0806126\ttotal: 1m 37s\tremaining: 6.8s\n",
      "935:\tlearn: 0.0806072\ttotal: 1m 37s\tremaining: 6.69s\n",
      "936:\tlearn: 0.0805823\ttotal: 1m 37s\tremaining: 6.58s\n",
      "937:\tlearn: 0.0805810\ttotal: 1m 37s\tremaining: 6.48s\n",
      "938:\tlearn: 0.0805785\ttotal: 1m 38s\tremaining: 6.37s\n",
      "939:\tlearn: 0.0805775\ttotal: 1m 38s\tremaining: 6.26s\n",
      "940:\tlearn: 0.0803366\ttotal: 1m 38s\tremaining: 6.16s\n",
      "941:\tlearn: 0.0803337\ttotal: 1m 38s\tremaining: 6.05s\n",
      "942:\tlearn: 0.0803308\ttotal: 1m 38s\tremaining: 5.94s\n",
      "943:\tlearn: 0.0802931\ttotal: 1m 38s\tremaining: 5.84s\n",
      "944:\tlearn: 0.0802924\ttotal: 1m 38s\tremaining: 5.73s\n",
      "945:\tlearn: 0.0802159\ttotal: 1m 38s\tremaining: 5.63s\n",
      "946:\tlearn: 0.0802149\ttotal: 1m 38s\tremaining: 5.52s\n",
      "947:\tlearn: 0.0802098\ttotal: 1m 38s\tremaining: 5.41s\n",
      "948:\tlearn: 0.0801838\ttotal: 1m 38s\tremaining: 5.31s\n",
      "949:\tlearn: 0.0801834\ttotal: 1m 38s\tremaining: 5.2s\n"
     ]
    },
    {
     "name": "stdout",
     "output_type": "stream",
     "text": [
      "950:\tlearn: 0.0801785\ttotal: 1m 38s\tremaining: 5.1s\n",
      "951:\tlearn: 0.0801784\ttotal: 1m 38s\tremaining: 4.99s\n",
      "952:\tlearn: 0.0801645\ttotal: 1m 39s\tremaining: 4.88s\n",
      "953:\tlearn: 0.0801568\ttotal: 1m 39s\tremaining: 4.78s\n",
      "954:\tlearn: 0.0800875\ttotal: 1m 39s\tremaining: 4.67s\n",
      "955:\tlearn: 0.0800833\ttotal: 1m 39s\tremaining: 4.57s\n",
      "956:\tlearn: 0.0800384\ttotal: 1m 39s\tremaining: 4.46s\n",
      "957:\tlearn: 0.0800343\ttotal: 1m 39s\tremaining: 4.36s\n",
      "958:\tlearn: 0.0800340\ttotal: 1m 39s\tremaining: 4.25s\n",
      "959:\tlearn: 0.0798496\ttotal: 1m 39s\tremaining: 4.15s\n",
      "960:\tlearn: 0.0798446\ttotal: 1m 39s\tremaining: 4.04s\n",
      "961:\tlearn: 0.0798437\ttotal: 1m 39s\tremaining: 3.94s\n",
      "962:\tlearn: 0.0798326\ttotal: 1m 39s\tremaining: 3.83s\n",
      "963:\tlearn: 0.0798320\ttotal: 1m 39s\tremaining: 3.73s\n",
      "964:\tlearn: 0.0797497\ttotal: 1m 39s\tremaining: 3.63s\n",
      "965:\tlearn: 0.0797391\ttotal: 1m 40s\tremaining: 3.52s\n",
      "966:\tlearn: 0.0797383\ttotal: 1m 40s\tremaining: 3.42s\n",
      "967:\tlearn: 0.0797310\ttotal: 1m 40s\tremaining: 3.31s\n",
      "968:\tlearn: 0.0797222\ttotal: 1m 40s\tremaining: 3.21s\n",
      "969:\tlearn: 0.0794168\ttotal: 1m 40s\tremaining: 3.1s\n",
      "970:\tlearn: 0.0793780\ttotal: 1m 40s\tremaining: 3s\n",
      "971:\tlearn: 0.0791976\ttotal: 1m 40s\tremaining: 2.9s\n",
      "972:\tlearn: 0.0791954\ttotal: 1m 40s\tremaining: 2.79s\n",
      "973:\tlearn: 0.0791809\ttotal: 1m 40s\tremaining: 2.69s\n",
      "974:\tlearn: 0.0791781\ttotal: 1m 40s\tremaining: 2.58s\n",
      "975:\tlearn: 0.0791712\ttotal: 1m 40s\tremaining: 2.48s\n",
      "976:\tlearn: 0.0791707\ttotal: 1m 40s\tremaining: 2.38s\n",
      "977:\tlearn: 0.0790565\ttotal: 1m 41s\tremaining: 2.27s\n",
      "978:\tlearn: 0.0788415\ttotal: 1m 41s\tremaining: 2.17s\n",
      "979:\tlearn: 0.0786281\ttotal: 1m 41s\tremaining: 2.07s\n",
      "980:\tlearn: 0.0784874\ttotal: 1m 41s\tremaining: 1.97s\n",
      "981:\tlearn: 0.0784869\ttotal: 1m 41s\tremaining: 1.86s\n",
      "982:\tlearn: 0.0784161\ttotal: 1m 41s\tremaining: 1.76s\n",
      "983:\tlearn: 0.0784160\ttotal: 1m 41s\tremaining: 1.65s\n",
      "984:\tlearn: 0.0784120\ttotal: 1m 41s\tremaining: 1.55s\n",
      "985:\tlearn: 0.0784109\ttotal: 1m 41s\tremaining: 1.45s\n",
      "986:\tlearn: 0.0784101\ttotal: 1m 41s\tremaining: 1.34s\n",
      "987:\tlearn: 0.0784033\ttotal: 1m 41s\tremaining: 1.24s\n",
      "988:\tlearn: 0.0783956\ttotal: 1m 42s\tremaining: 1.13s\n",
      "989:\tlearn: 0.0783954\ttotal: 1m 42s\tremaining: 1.03s\n",
      "990:\tlearn: 0.0783943\ttotal: 1m 42s\tremaining: 927ms\n",
      "991:\tlearn: 0.0783933\ttotal: 1m 42s\tremaining: 824ms\n",
      "992:\tlearn: 0.0783722\ttotal: 1m 42s\tremaining: 721ms\n",
      "993:\tlearn: 0.0783666\ttotal: 1m 42s\tremaining: 618ms\n",
      "994:\tlearn: 0.0783663\ttotal: 1m 42s\tremaining: 515ms\n",
      "995:\tlearn: 0.0783661\ttotal: 1m 42s\tremaining: 411ms\n",
      "996:\tlearn: 0.0783621\ttotal: 1m 42s\tremaining: 308ms\n",
      "997:\tlearn: 0.0783612\ttotal: 1m 42s\tremaining: 205ms\n",
      "998:\tlearn: 0.0783607\ttotal: 1m 42s\tremaining: 103ms\n",
      "999:\tlearn: 0.0783582\ttotal: 1m 42s\tremaining: 0us\n",
      "0.24855491329479767\n",
      "[[ 72   3   0   0]\n",
      " [  1  14   0   0]\n",
      " [  7 241   0   0]\n",
      " [  0   8   0   0]]\n"
     ]
    }
   ],
   "source": [
    "from catboost import CatBoostClassifier\n",
    "\"\"\"\n",
    "support for categorical variables\n",
    "quite slow!\n",
    "\"\"\"\n",
    "\n",
    "model5 = CatBoostClassifier()\n",
    "model5.fit(X_train, y_train)\n",
    "pred = model5.predict(X_test)\n",
    "print(accuracy_score(y_test, pred))\n",
    "print(confusion_matrix(y_test, pred))"
   ]
  },
  {
   "cell_type": "code",
   "execution_count": null,
   "metadata": {},
   "outputs": [],
   "source": []
  },
  {
   "cell_type": "code",
   "execution_count": null,
   "metadata": {},
   "outputs": [],
   "source": []
  },
  {
   "cell_type": "code",
   "execution_count": null,
   "metadata": {},
   "outputs": [],
   "source": []
  },
  {
   "cell_type": "code",
   "execution_count": null,
   "metadata": {},
   "outputs": [],
   "source": []
  }
 ],
 "metadata": {
  "kernelspec": {
   "display_name": "Python 3",
   "language": "python",
   "name": "python3"
  },
  "language_info": {
   "codemirror_mode": {
    "name": "ipython",
    "version": 3
   },
   "file_extension": ".py",
   "mimetype": "text/x-python",
   "name": "python",
   "nbconvert_exporter": "python",
   "pygments_lexer": "ipython3",
   "version": "3.7.0"
  },
  "toc": {
   "base_numbering": 1,
   "nav_menu": {},
   "number_sections": true,
   "sideBar": true,
   "skip_h1_title": false,
   "title_cell": "Table of Contents",
   "title_sidebar": "Contents",
   "toc_cell": false,
   "toc_position": {},
   "toc_section_display": true,
   "toc_window_display": false
  }
 },
 "nbformat": 4,
 "nbformat_minor": 2
}
