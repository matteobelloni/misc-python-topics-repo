{
 "cells": [
  {
   "cell_type": "markdown",
   "metadata": {},
   "source": [
    "## Data Structures and Algorithms lesson"
   ]
  },
  {
   "cell_type": "markdown",
   "metadata": {},
   "source": [
    "Content:\n",
    "- Linear Search\n",
    "- Binary Search\n",
    "- Recursive Binary Search\n",
    "- Lists\n",
    "- Tuples\n",
    "- Sets\n",
    "- Dictionaries\n",
    "- List Comprehensions\n",
    "- Stacks\n",
    "- Queues\n",
    "- Linked Lists\n",
    "- Merge Sort\n",
    "- Recursive Sum"
   ]
  },
  {
   "cell_type": "markdown",
   "metadata": {},
   "source": [
    "### Linear Search"
   ]
  },
  {
   "cell_type": "code",
   "execution_count": 24,
   "metadata": {},
   "outputs": [
    {
     "name": "stdout",
     "output_type": "stream",
     "text": [
      "target not found\n",
      "target found at index: 7\n"
     ]
    }
   ],
   "source": [
    "def linear_search(list_input, target):\n",
    "    \"\"\"\n",
    "    Returns the index position of the target if found, else returns None\n",
    "    \"\"\"   \n",
    "    for i in range(len(list_input)):\n",
    "        if list_input[i] == target:\n",
    "            return i\n",
    "    return None\n",
    "\n",
    "def verify(index):\n",
    "    if index is not None:\n",
    "        print(\"target found at index: {}\".format(index))\n",
    "    else:\n",
    "        print(\"target not found\")\n",
    "        \n",
    "numbers = [x for x in range(1,11)]\n",
    "result = linear_search(numbers, 12)\n",
    "verify(result)\n",
    "result2 = linear_search(numbers,8)\n",
    "verify(result2)"
   ]
  },
  {
   "cell_type": "markdown",
   "metadata": {},
   "source": [
    "### Binary Search"
   ]
  },
  {
   "cell_type": "code",
   "execution_count": 27,
   "metadata": {},
   "outputs": [
    {
     "name": "stdout",
     "output_type": "stream",
     "text": [
      "target not found\n",
      "target found at index: 7\n"
     ]
    }
   ],
   "source": [
    "def binary_search(list_input, target):\n",
    "    \"\"\"\n",
    "    Assuming that list_input is sorted in ascending order\n",
    "    \"\"\"\n",
    "    first = 0\n",
    "    last = len(list_input) - 1\n",
    "    \n",
    "    while first <= last:\n",
    "        midpoint = (first + last) // 2 #rounds down to the nearest round number so 0 to 9-> 4.5 ->4\n",
    "        if list_input[midpoint] == target:\n",
    "            return midpoint\n",
    "        elif list_input[midpoint] < target:\n",
    "            first = midpoint+1\n",
    "        else:\n",
    "            last = midpoint-1\n",
    "    return None\n",
    "\n",
    "result3 = binary_search(numbers, 12)\n",
    "verify(result3)\n",
    "result4 = binary_search(numbers, 8)\n",
    "verify(result4)"
   ]
  },
  {
   "cell_type": "markdown",
   "metadata": {},
   "source": [
    "### Recursive Binary Search:"
   ]
  },
  {
   "cell_type": "code",
   "execution_count": 33,
   "metadata": {},
   "outputs": [
    {
     "name": "stdout",
     "output_type": "stream",
     "text": [
      "target found at index: False\n",
      "target found at index: True\n"
     ]
    }
   ],
   "source": [
    "def recursive_binary_search(list_input, target):\n",
    "    \"\"\"\n",
    "    this is not returning the actual index, only if it is present or not in the list\n",
    "    \"\"\"\n",
    "    if len(list_input) == 0:\n",
    "        return False\n",
    "    else:\n",
    "        midpoint = len(list_input) // 2\n",
    "        \n",
    "        if list_input[midpoint] == target:\n",
    "            return True\n",
    "        else:\n",
    "            if list_input[midpoint] < target:\n",
    "                return recursive_binary_search(list_input[midpoint+1:], target) #it calls the function itself\n",
    "            else:\n",
    "                return recursive_binary_search(list_input[:midpoint], target)\n",
    "\n",
    "result5 = recursive_binary_search(numbers, 12)\n",
    "verify(result5)\n",
    "result6 = recursive_binary_search(numbers, 8)\n",
    "verify(result6)"
   ]
  },
  {
   "cell_type": "markdown",
   "metadata": {},
   "source": [
    "### Arrays: List"
   ]
  },
  {
   "cell_type": "code",
   "execution_count": 107,
   "metadata": {},
   "outputs": [
    {
     "name": "stdout",
     "output_type": "stream",
     "text": [
      "1\n"
     ]
    }
   ],
   "source": [
    "new_list = [1, 2, 3] #memory is contiguous -> accessing any element is a constant time operation\n",
    "result = new_list[0]\n",
    "print(result)"
   ]
  },
  {
   "cell_type": "code",
   "execution_count": 108,
   "metadata": {},
   "outputs": [
    {
     "name": "stdout",
     "output_type": "stream",
     "text": [
      "[1, 10, 2, 3]\n",
      "[1, 10, 2, 3, 5]\n"
     ]
    }
   ],
   "source": [
    "new_list.insert(1,10) #add an element=10 at position i=1 in the list\n",
    "print(new_list)\n",
    "new_list.append(5) #add an element=5 at the end of the list\n",
    "print(new_list)"
   ]
  },
  {
   "cell_type": "code",
   "execution_count": 109,
   "metadata": {},
   "outputs": [
    {
     "name": "stdout",
     "output_type": "stream",
     "text": [
      "[1, 10, 2, 3, 5, 1, 2, 3]\n",
      "[1, 10, 2, 3, 5, 1, 2, 3, [1, 2, 3]]\n"
     ]
    }
   ],
   "source": [
    "new_list.extend([1,2,3]) #to append another list to a list\n",
    "print(new_list)\n",
    "new_list.append([1,2,3]) #this is going to do something different\n",
    "print(new_list)"
   ]
  },
  {
   "cell_type": "code",
   "execution_count": 110,
   "metadata": {},
   "outputs": [
    {
     "name": "stdout",
     "output_type": "stream",
     "text": [
      "[1, 10, 2, 3, 5, 1, 2, 3]\n"
     ]
    }
   ],
   "source": [
    "new_list.pop() #pops out the last element\n",
    "print(new_list)"
   ]
  },
  {
   "cell_type": "code",
   "execution_count": 111,
   "metadata": {},
   "outputs": [
    {
     "name": "stdout",
     "output_type": "stream",
     "text": [
      "[10, 2, 3, 5, 1, 2, 3]\n"
     ]
    }
   ],
   "source": [
    "new_list.remove(1) #removes the first 1\n",
    "print(new_list)"
   ]
  },
  {
   "cell_type": "code",
   "execution_count": 112,
   "metadata": {},
   "outputs": [
    {
     "name": "stdout",
     "output_type": "stream",
     "text": [
      "[3, 2, 1, 5, 3, 2, 10]\n"
     ]
    }
   ],
   "source": [
    "new_list.reverse()\n",
    "print(new_list)"
   ]
  },
  {
   "cell_type": "code",
   "execution_count": 116,
   "metadata": {},
   "outputs": [
    {
     "name": "stdout",
     "output_type": "stream",
     "text": [
      "[1, 2, 2, 3, 3, 5, 10]\n",
      "[10, 5, 3, 3, 2, 2, 1]\n"
     ]
    }
   ],
   "source": [
    "new_list.sort() #if reverse=True parameter it would give the reversed order\n",
    "print(new_list)\n",
    "new_list.sort(reverse=True)\n",
    "print(new_list)"
   ]
  },
  {
   "cell_type": "code",
   "execution_count": 115,
   "metadata": {},
   "outputs": [
    {
     "name": "stdout",
     "output_type": "stream",
     "text": [
      "[1, 2, 3, 5, 7, 8, 9]\n",
      "[2, 3, 5, 7, 8, 9, 1]\n"
     ]
    }
   ],
   "source": [
    "l = [2, 3 , 5, 7, 8 ,9, 1] #sorted is not inplace\n",
    "print(sorted(l))\n",
    "print(l)"
   ]
  },
  {
   "cell_type": "markdown",
   "metadata": {},
   "source": [
    "### Tuples: fixed data, immutable"
   ]
  },
  {
   "cell_type": "code",
   "execution_count": 119,
   "metadata": {},
   "outputs": [
    {
     "name": "stdout",
     "output_type": "stream",
     "text": [
      "(1, 2, 3)\n",
      "(1, 2, 3)\n"
     ]
    }
   ],
   "source": [
    "x = (1,2,3) \n",
    "y = 1,2,3 #parenthesis are optional\n",
    "print(x)\n",
    "print(y)"
   ]
  },
  {
   "cell_type": "code",
   "execution_count": 120,
   "metadata": {},
   "outputs": [
    {
     "name": "stdout",
     "output_type": "stream",
     "text": [
      "[1, 2, 3]\n"
     ]
    }
   ],
   "source": [
    "print(list(x))"
   ]
  },
  {
   "cell_type": "code",
   "execution_count": 121,
   "metadata": {},
   "outputs": [
    {
     "name": "stdout",
     "output_type": "stream",
     "text": [
      "(1, 2, 3)\n"
     ]
    }
   ],
   "source": [
    "l = [1,2,3]\n",
    "print(tuple(l))"
   ]
  },
  {
   "cell_type": "markdown",
   "metadata": {},
   "source": [
    "### Sets: useful for union, intersection, etc. you cannot sort. cannot have duplicates"
   ]
  },
  {
   "cell_type": "code",
   "execution_count": 124,
   "metadata": {},
   "outputs": [
    {
     "name": "stdout",
     "output_type": "stream",
     "text": [
      "{1, 2, 4, 5}\n"
     ]
    }
   ],
   "source": [
    "x = {1,2,4,5,1} #the last 1 is ignored as it cannot have duplicates\n",
    "print(x)"
   ]
  },
  {
   "cell_type": "code",
   "execution_count": 126,
   "metadata": {},
   "outputs": [
    {
     "name": "stdout",
     "output_type": "stream",
     "text": [
      "{2, 4, 5, 10}\n"
     ]
    }
   ],
   "source": [
    "x.add(10)\n",
    "x.remove(1)\n",
    "print(x)"
   ]
  },
  {
   "cell_type": "code",
   "execution_count": 127,
   "metadata": {},
   "outputs": [
    {
     "name": "stdout",
     "output_type": "stream",
     "text": [
      "set()\n"
     ]
    }
   ],
   "source": [
    "x.clear() #clears the content of the set\n",
    "print(x)"
   ]
  },
  {
   "cell_type": "code",
   "execution_count": 128,
   "metadata": {},
   "outputs": [
    {
     "name": "stdout",
     "output_type": "stream",
     "text": [
      "{1, 3}\n",
      "{1, 2, 3, 4, 10, 12}\n",
      "False\n"
     ]
    }
   ],
   "source": [
    "s1 = {1,2,3,4}\n",
    "s2 = {1,10,12,3}\n",
    "print(s1 & s2)\n",
    "print(s1 | s2)\n",
    "print(s1 < s2)"
   ]
  },
  {
   "cell_type": "markdown",
   "metadata": {},
   "source": [
    "### Dictionary"
   ]
  },
  {
   "cell_type": "code",
   "execution_count": 129,
   "metadata": {},
   "outputs": [
    {
     "data": {
      "text/plain": [
       "{'name': 'matteo', 'surname': 'belloni'}"
      ]
     },
     "execution_count": 129,
     "metadata": {},
     "output_type": "execute_result"
    }
   ],
   "source": [
    "dict_ = dict(name = 'matteo', surname = 'belloni')\n",
    "dict_"
   ]
  },
  {
   "cell_type": "code",
   "execution_count": 132,
   "metadata": {},
   "outputs": [
    {
     "name": "stdout",
     "output_type": "stream",
     "text": [
      "dict_values(['matteo', 'belloni'])\n",
      "dict_keys(['name', 'surname'])\n",
      "dict_items([('name', 'matteo'), ('surname', 'belloni')])\n"
     ]
    }
   ],
   "source": [
    "print(dict_.values())\n",
    "print(dict_.keys())\n",
    "print(dict_.items())"
   ]
  },
  {
   "cell_type": "code",
   "execution_count": 134,
   "metadata": {},
   "outputs": [
    {
     "name": "stdout",
     "output_type": "stream",
     "text": [
      "matteo\n",
      "belloni\n"
     ]
    }
   ],
   "source": [
    "for v in dict_.values():\n",
    "    print(v)"
   ]
  },
  {
   "cell_type": "markdown",
   "metadata": {},
   "source": [
    "### List comprehension"
   ]
  },
  {
   "cell_type": "code",
   "execution_count": 136,
   "metadata": {},
   "outputs": [
    {
     "name": "stdout",
     "output_type": "stream",
     "text": [
      "[0, 1, 2, 3, 4, 5, 6, 7, 8, 9]\n"
     ]
    }
   ],
   "source": [
    "x = [item for item in range(10)]\n",
    "print(x)"
   ]
  },
  {
   "cell_type": "code",
   "execution_count": 138,
   "metadata": {},
   "outputs": [
    {
     "name": "stdout",
     "output_type": "stream",
     "text": [
      "[0, 1, 4, 9, 16, 25, 36, 49, 64, 81]\n"
     ]
    }
   ],
   "source": [
    "x2 = [item**2 for item in x]\n",
    "print(x2)"
   ]
  },
  {
   "cell_type": "code",
   "execution_count": 140,
   "metadata": {},
   "outputs": [
    {
     "name": "stdout",
     "output_type": "stream",
     "text": [
      "[0, 2, 4, 6, 8]\n"
     ]
    }
   ],
   "source": [
    "xeven = [item for item in x if item%2==0]\n",
    "print(xeven)"
   ]
  },
  {
   "cell_type": "code",
   "execution_count": 147,
   "metadata": {},
   "outputs": [
    {
     "name": "stdout",
     "output_type": "stream",
     "text": [
      "['welcome', 'to', 'this', 'course']\n",
      "['to', 'this']\n"
     ]
    }
   ],
   "source": [
    "string1 = 'welcome to this course'\n",
    "list1 = string1.split()\n",
    "print(list1)\n",
    "list1 = [x for x in list1 if 't' in x]\n",
    "print(list1)"
   ]
  },
  {
   "cell_type": "markdown",
   "metadata": {},
   "source": [
    "### Stack"
   ]
  },
  {
   "cell_type": "markdown",
   "metadata": {},
   "source": [
    "List type is one possible way to represent the Stack data structure. Stacks are characterised by the fact that you can only view the last item (on top of the stack), you can only push an item on top of the stack, meaning at the end of it, and you can pop or remove only the item at the top, again meaning at the end. Lists allow to do that with append and pop methods"
   ]
  },
  {
   "cell_type": "code",
   "execution_count": 148,
   "metadata": {},
   "outputs": [
    {
     "name": "stdout",
     "output_type": "stream",
     "text": [
      "[4, 5, 3, 10]\n",
      "[4, 5, 3]\n"
     ]
    }
   ],
   "source": [
    "my_stack = []\n",
    "my_stack.append(4) #will push 4\n",
    "my_stack.append(5) #will push 5 at the end of the list (top of the stack)\n",
    "my_stack.append(3)\n",
    "my_stack.append(10)\n",
    "print(my_stack)\n",
    "my_stack.pop() #will pop out the last element (10)\n",
    "print(my_stack)"
   ]
  },
  {
   "cell_type": "markdown",
   "metadata": {},
   "source": [
    "Alternatively, we can create a custom class (wrapper class) to add more functionalities with methods (e.g. peek: view only the last element on the stack)"
   ]
  },
  {
   "cell_type": "code",
   "execution_count": 153,
   "metadata": {},
   "outputs": [],
   "source": [
    "class Stack:\n",
    "    def __init__(self):\n",
    "        self.stack = []\n",
    "    def push(self,item):\n",
    "        self.stack.append(item)\n",
    "    def pop(self):\n",
    "        if len(self.stack) > 0:\n",
    "            return self.stack.pop()\n",
    "        else:\n",
    "            return None\n",
    "    def peek(self):\n",
    "        if len(self.stack) > 0:\n",
    "            return self.stack[len(self.stack)-1]\n",
    "        else:\n",
    "            return None"
   ]
  },
  {
   "cell_type": "code",
   "execution_count": 156,
   "metadata": {},
   "outputs": [],
   "source": [
    "my_stack2 = Stack()"
   ]
  },
  {
   "cell_type": "code",
   "execution_count": 157,
   "metadata": {},
   "outputs": [
    {
     "name": "stdout",
     "output_type": "stream",
     "text": [
      "5\n"
     ]
    }
   ],
   "source": [
    "my_stack2.push(4)\n",
    "my_stack2.push(5)\n",
    "print(my_stack2.peek())"
   ]
  },
  {
   "cell_type": "markdown",
   "metadata": {},
   "source": [
    "### Queues"
   ]
  },
  {
   "cell_type": "code",
   "execution_count": 160,
   "metadata": {},
   "outputs": [],
   "source": [
    "from collections import deque"
   ]
  },
  {
   "cell_type": "code",
   "execution_count": 161,
   "metadata": {},
   "outputs": [
    {
     "name": "stdout",
     "output_type": "stream",
     "text": [
      "deque([4, 3])\n",
      "deque([3])\n"
     ]
    }
   ],
   "source": [
    "my_queue = deque()\n",
    "my_queue.append(4)\n",
    "my_queue.append(3)\n",
    "print(my_queue)\n",
    "my_queue.popleft()\n",
    "print(my_queue)"
   ]
  },
  {
   "cell_type": "code",
   "execution_count": 181,
   "metadata": {},
   "outputs": [],
   "source": [
    "class Queue:\n",
    "    def __init__(self):\n",
    "        self.queue = []\n",
    "    def enqueue(self,item):\n",
    "        self.queue.append(item)\n",
    "    def dequeue(self):\n",
    "        if len(self.queue) > 0:\n",
    "            self.queue = self.queue[1:]\n",
    "        else:\n",
    "            return None\n",
    "    def return_queue(self):\n",
    "        if len(self.queue) > 0:\n",
    "            return self.queue\n",
    "        else:\n",
    "            return None"
   ]
  },
  {
   "cell_type": "code",
   "execution_count": 184,
   "metadata": {},
   "outputs": [
    {
     "name": "stdout",
     "output_type": "stream",
     "text": [
      "[4, 3]\n",
      "[3]\n"
     ]
    }
   ],
   "source": [
    "my_q = Queue()\n",
    "my_q.enqueue(4)\n",
    "my_q.enqueue(3)\n",
    "print(my_q.return_queue())\n",
    "my_q.dequeue()\n",
    "print(my_q.return_queue())"
   ]
  },
  {
   "cell_type": "markdown",
   "metadata": {},
   "source": [
    "### MaxHeap"
   ]
  },
  {
   "cell_type": "markdown",
   "metadata": {},
   "source": [
    "- Every node in the tree <= its parent. So highest (max) number is always at the top of the heap\n",
    "- You can insert an item in O(log n) time and get the max in constant time O(1), etc.\n",
    "- Easy to implement using a list\n",
    "- Indexing: 1 is the top of the tree, second generation 2, 3, and so on"
   ]
  },
  {
   "cell_type": "markdown",
   "metadata": {},
   "source": [
    "### Linked list"
   ]
  },
  {
   "cell_type": "code",
   "execution_count": 59,
   "metadata": {},
   "outputs": [],
   "source": [
    "class Node:\n",
    "    \"\"\"\n",
    "    object for storing a single node of a linked list\n",
    "    models two attributes - data and the link to the next node in the list\n",
    "    \"\"\"\n",
    "    data = None\n",
    "    next_node = None\n",
    "    \n",
    "    def __init__(self, data):\n",
    "        self.data = data\n",
    "    \n",
    "    def __repr__(self): #this is just a constructor that helps us print out something clear to understand\n",
    "        return \"<Node data:{}>\".format(self.data)\n",
    "\n",
    "class LinkedList: \n",
    "    \"\"\"\n",
    "    singly linked list\n",
    "    \"\"\"\n",
    "    def __init__(self):\n",
    "        self.head = None\n",
    "    \n",
    "    def is_empty(self):\n",
    "        return self.head == None #if returns true then the list is empty\n",
    "    \n",
    "    def size(self):\n",
    "        \"\"\"\n",
    "        returns the number of nodes in the list, takes O(n) time\n",
    "        \"\"\"\n",
    "        current = self.head\n",
    "        count = 0\n",
    "        \n",
    "        while current:\n",
    "            count += 1\n",
    "            current = current.next_node\n",
    "        return count "
   ]
  },
  {
   "cell_type": "code",
   "execution_count": 60,
   "metadata": {},
   "outputs": [
    {
     "data": {
      "text/plain": [
       "<Node data:20>"
      ]
     },
     "execution_count": 60,
     "metadata": {},
     "output_type": "execute_result"
    }
   ],
   "source": [
    "N1 = Node(10)\n",
    "N2 = Node(20)\n",
    "N1.next_node = N2\n",
    "N1.next_node"
   ]
  },
  {
   "cell_type": "code",
   "execution_count": 61,
   "metadata": {},
   "outputs": [
    {
     "name": "stdout",
     "output_type": "stream",
     "text": [
      "<Node data:10>\n",
      "1\n"
     ]
    }
   ],
   "source": [
    "L = LinkedList()\n",
    "N1 = Node(10)\n",
    "L.head = N1\n",
    "print(L.head)\n",
    "print(L.size())"
   ]
  },
  {
   "cell_type": "code",
   "execution_count": 62,
   "metadata": {},
   "outputs": [],
   "source": [
    "class LinkedList: \n",
    "    \"\"\"\n",
    "    singly linked list\n",
    "    \"\"\"\n",
    "    def __init__(self):\n",
    "        self.head = None\n",
    "    \n",
    "    def is_empty(self):\n",
    "        return self.head == None #if returns true then the list is empty\n",
    "    \n",
    "    def size(self):\n",
    "        \"\"\"\n",
    "        returns the number of nodes in the list, takes O(n) time\n",
    "        \"\"\"\n",
    "        current = self.head\n",
    "        count = 0\n",
    "        \n",
    "        while current:\n",
    "            count += 1\n",
    "            current = current.next_node\n",
    "        return count\n",
    "    \n",
    "    def add(self, data):\n",
    "        \"\"\"\n",
    "        adds a new node containing data, at the head of the list\n",
    "        this operation takes constant time\n",
    "        \"\"\"\n",
    "        new_node = Node(data)\n",
    "        new_node.next_node = self.head\n",
    "        self.head = new_node"
   ]
  },
  {
   "cell_type": "code",
   "execution_count": 69,
   "metadata": {},
   "outputs": [
    {
     "name": "stdout",
     "output_type": "stream",
     "text": [
      "None\n",
      "1\n",
      "<Node data:1>\n",
      "2\n",
      "<Node data:2>\n",
      "3\n",
      "<Node data:3>\n"
     ]
    }
   ],
   "source": [
    "L = LinkedList()\n",
    "print(L.head)\n",
    "L.add(1)\n",
    "print(L.size())\n",
    "print(L.head)\n",
    "L.add(2)\n",
    "print(L.size())\n",
    "print(L.head)\n",
    "L.add(3)\n",
    "print(L.size())\n",
    "print(L.head)"
   ]
  },
  {
   "cell_type": "markdown",
   "metadata": {},
   "source": [
    "### Merge Sort: for sorting arrays (list)"
   ]
  },
  {
   "cell_type": "code",
   "execution_count": 73,
   "metadata": {},
   "outputs": [],
   "source": [
    "def merge_sort(mylist):\n",
    "    \"\"\"\n",
    "    sorts the given list in ascending order\n",
    "    return a new sorted list (not inplace)\n",
    "    \n",
    "    Divide: find the midpoint of the list and divide into sublists\n",
    "    Conquer: recursively sort the sublists created in previous step\n",
    "    Combine: merge the sorted sublists created in previous step\n",
    "    \"\"\"\n",
    "    \n",
    "    if len(mylist) <= 1:\n",
    "        return mylist\n",
    "    \n",
    "    left_half, right_half = split(mylist)\n",
    "    left = merge_sort(left_half)\n",
    "    right = merge_sort(right_half)\n",
    "    \n",
    "    return merge(left, right)\n",
    "\n",
    "def split(mylist):\n",
    "    \"\"\"\n",
    "    Divide the unsorted list at midpoint into sublists\n",
    "    returns two sublists, left and right\n",
    "    \"\"\"\n",
    "    mid = len(mylist) // 2\n",
    "    left = mylist[:mid]\n",
    "    right = mylist[mid:]\n",
    "    return left, right\n",
    "\n",
    "def merge(left, right):\n",
    "    \"\"\"\n",
    "    merges two lists, sorting them in the process\n",
    "    returns a new merged list\n",
    "    \"\"\"\n",
    "    l = [] #this is what we are going to return\n",
    "    i = 0\n",
    "    j = 0\n",
    "    \n",
    "    while i < len(left) and j < len(right): #so we iterate for the whole left and right lists\n",
    "        if left[i] < right[j]:\n",
    "            l.append(left[i])\n",
    "            i += 1\n",
    "        else:\n",
    "            l.append(right[j])\n",
    "            j+=1\n",
    "    while i < len(left):\n",
    "        l.append(left[i])\n",
    "        i+=1\n",
    "    while j < len(right):\n",
    "        l.append(right[j])\n",
    "        j+=1    \n",
    "        \n",
    "    return l"
   ]
  },
  {
   "cell_type": "code",
   "execution_count": 74,
   "metadata": {},
   "outputs": [
    {
     "data": {
      "text/plain": [
       "[1, 2, 2, 12, 23]"
      ]
     },
     "execution_count": 74,
     "metadata": {},
     "output_type": "execute_result"
    }
   ],
   "source": [
    "merge_sort([12,2,23,2,1])"
   ]
  },
  {
   "cell_type": "markdown",
   "metadata": {},
   "source": [
    "### Is list sorted?"
   ]
  },
  {
   "cell_type": "code",
   "execution_count": 75,
   "metadata": {},
   "outputs": [],
   "source": [
    "def is_sorted(mylist):\n",
    "    for index in range(len(mylist)-1):\n",
    "        if mylist[index]>mylist[index+1]:\n",
    "            return False\n",
    "    return True"
   ]
  },
  {
   "cell_type": "code",
   "execution_count": 78,
   "metadata": {},
   "outputs": [
    {
     "data": {
      "text/plain": [
       "True"
      ]
     },
     "execution_count": 78,
     "metadata": {},
     "output_type": "execute_result"
    }
   ],
   "source": [
    "is_sorted([1,2,2,3,4,5,6,6,7,8,10])"
   ]
  },
  {
   "cell_type": "markdown",
   "metadata": {},
   "source": [
    "### Recursive sum"
   ]
  },
  {
   "cell_type": "code",
   "execution_count": 80,
   "metadata": {},
   "outputs": [],
   "source": [
    "def sum_numbers(mylist):\n",
    "    total = 0\n",
    "    for item in mylist:\n",
    "        total = total + item\n",
    "    return total"
   ]
  },
  {
   "cell_type": "code",
   "execution_count": 81,
   "metadata": {},
   "outputs": [
    {
     "data": {
      "text/plain": [
       "10"
      ]
     },
     "execution_count": 81,
     "metadata": {},
     "output_type": "execute_result"
    }
   ],
   "source": [
    "sum_numbers([1,2,3,4])"
   ]
  },
  {
   "cell_type": "code",
   "execution_count": null,
   "metadata": {},
   "outputs": [],
   "source": [
    "def sum_numbers_recursive(mylist):\n",
    "    if not mylist:\n",
    "        return 0\n",
    "    remaining_sum = sum_numbers_recursive(mylist[1:])\n",
    "    return mylist[0] + remaining_sum"
   ]
  },
  {
   "cell_type": "code",
   "execution_count": 99,
   "metadata": {},
   "outputs": [
    {
     "data": {
      "text/plain": [
       "10"
      ]
     },
     "execution_count": 99,
     "metadata": {},
     "output_type": "execute_result"
    }
   ],
   "source": [
    "sum_numbers_recursive([1,2,3,4])"
   ]
  },
  {
   "cell_type": "markdown",
   "metadata": {},
   "source": [
    "### Graphs"
   ]
  },
  {
   "cell_type": "markdown",
   "metadata": {},
   "source": [
    "two classes: vertex and graphs"
   ]
  },
  {
   "cell_type": "code",
   "execution_count": 15,
   "metadata": {},
   "outputs": [],
   "source": [
    "class Vertex:\n",
    "    def __init__(self, n):\n",
    "        self.name = n #name of the vertex\n",
    "        self.neighbors = set() #empty set for the neighb of that vertex\n",
    "    \n",
    "    def add_neighbor(self, v):\n",
    "        self.neighbors.add(v) #set do not keep duplicates, so if neighb already added to that vertex won't be added again"
   ]
  },
  {
   "cell_type": "code",
   "execution_count": 16,
   "metadata": {},
   "outputs": [],
   "source": [
    "class Graph:\n",
    "    vertices = {} #vertices dictionary of all vertices Name, Object\n",
    "    \n",
    "    def add_vertex(self, vertex):\n",
    "        if isinstance(vertex, Vertex) and vertex.name not in self.vertices: #if vertex is actually a Vertex and not yet added\n",
    "            self.vertices[vertex.name] = vertex #add the vertex\n",
    "            return True\n",
    "        else:\n",
    "            return False\n",
    "    \n",
    "    def add_edge(self, u, v):\n",
    "        if u in self.vertices and v in self.vertices: #if both vertices u and v have been added already\n",
    "            self.vertices[u].add_neighbor(v) #then neighb of u is v\n",
    "            self.vertices[v].add_neighbor(u) #and also neighb of v is u\n",
    "            return True\n",
    "        else:\n",
    "            return False\n",
    "        \n",
    "    def print_graph(self):\n",
    "        for key in sorted(list(self.vertices.keys())):\n",
    "            print(key, sorted(list(self.vertices[key])))          "
   ]
  },
  {
   "cell_type": "code",
   "execution_count": 17,
   "metadata": {},
   "outputs": [
    {
     "data": {
      "text/plain": [
       "True"
      ]
     },
     "execution_count": 17,
     "metadata": {},
     "output_type": "execute_result"
    }
   ],
   "source": [
    "g = Graph()\n",
    "a = Vertex('A')\n",
    "g.add_vertex(a)"
   ]
  },
  {
   "cell_type": "code",
   "execution_count": null,
   "metadata": {},
   "outputs": [],
   "source": []
  },
  {
   "cell_type": "code",
   "execution_count": null,
   "metadata": {},
   "outputs": [],
   "source": []
  },
  {
   "cell_type": "code",
   "execution_count": null,
   "metadata": {},
   "outputs": [],
   "source": []
  },
  {
   "cell_type": "code",
   "execution_count": null,
   "metadata": {},
   "outputs": [],
   "source": []
  },
  {
   "cell_type": "code",
   "execution_count": null,
   "metadata": {},
   "outputs": [],
   "source": []
  },
  {
   "cell_type": "code",
   "execution_count": null,
   "metadata": {},
   "outputs": [],
   "source": []
  },
  {
   "cell_type": "code",
   "execution_count": null,
   "metadata": {},
   "outputs": [],
   "source": []
  }
 ],
 "metadata": {
  "kernelspec": {
   "display_name": "Python 3",
   "language": "python",
   "name": "python3"
  },
  "language_info": {
   "codemirror_mode": {
    "name": "ipython",
    "version": 3
   },
   "file_extension": ".py",
   "mimetype": "text/x-python",
   "name": "python",
   "nbconvert_exporter": "python",
   "pygments_lexer": "ipython3",
   "version": "3.7.0"
  },
  "toc": {
   "base_numbering": 1,
   "nav_menu": {},
   "number_sections": true,
   "sideBar": true,
   "skip_h1_title": false,
   "title_cell": "Table of Contents",
   "title_sidebar": "Contents",
   "toc_cell": false,
   "toc_position": {},
   "toc_section_display": true,
   "toc_window_display": false
  }
 },
 "nbformat": 4,
 "nbformat_minor": 2
}
